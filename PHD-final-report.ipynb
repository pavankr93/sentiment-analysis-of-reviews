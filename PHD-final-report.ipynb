{
 "cells": [
  {
   "cell_type": "markdown",
   "metadata": {},
   "source": [
    "# PHD hackathon"
   ]
  },
  {
   "cell_type": "markdown",
   "metadata": {},
   "source": [
    "### Problem statement"
   ]
  },
  {
   "cell_type": "raw",
   "metadata": {},
   "source": [
    "Create an end to end NLP framework that involves data extraction from the given website, do sentiment analysis and clustering to get insights on the audiences' perception. finally building some ML/DL models to predict the sentiment from the reveiw."
   ]
  },
  {
   "cell_type": "raw",
   "metadata": {},
   "source": [
    "source: user reveiws of the film \"the lion king-2019\" from rottentomatoes.com"
   ]
  },
  {
   "cell_type": "raw",
   "metadata": {},
   "source": [
    "target: sentiment 0 for positive, 1 for negetive\n",
    "metrics: f1 score for negetive reviews"
   ]
  },
  {
   "cell_type": "markdown",
   "metadata": {},
   "source": [
    "### Process flow"
   ]
  },
  {
   "cell_type": "raw",
   "metadata": {},
   "source": [
    "* import reveiw data and form a dataframe. "
   ]
  },
  {
   "cell_type": "raw",
   "metadata": {},
   "source": [
    "* Pre-processing"
   ]
  },
  {
   "cell_type": "raw",
   "metadata": {},
   "source": [
    "* Exploratory data analysis"
   ]
  },
  {
   "cell_type": "raw",
   "metadata": {},
   "source": [
    "* Visualisation"
   ]
  },
  {
   "cell_type": "raw",
   "metadata": {},
   "source": [
    "* insights at each phase"
   ]
  },
  {
   "cell_type": "raw",
   "metadata": {},
   "source": [
    "* sentiment analysis"
   ]
  },
  {
   "cell_type": "raw",
   "metadata": {},
   "source": [
    "* clustering"
   ]
  },
  {
   "cell_type": "raw",
   "metadata": {},
   "source": [
    "* Machine learning models"
   ]
  },
  {
   "cell_type": "raw",
   "metadata": {},
   "source": [
    "* Deep learning models"
   ]
  },
  {
   "cell_type": "raw",
   "metadata": {},
   "source": [
    "* comaprisons and conclusions"
   ]
  },
  {
   "cell_type": "markdown",
   "metadata": {},
   "source": [
    "### Data extraction"
   ]
  },
  {
   "cell_type": "code",
   "execution_count": 518,
   "metadata": {},
   "outputs": [],
   "source": [
    "#!pip install requests"
   ]
  },
  {
   "cell_type": "code",
   "execution_count": 519,
   "metadata": {},
   "outputs": [],
   "source": [
    "#import requests\n",
    "#import time"
   ]
  },
  {
   "cell_type": "code",
   "execution_count": 520,
   "metadata": {},
   "outputs": [],
   "source": [
    "headers = {\n",
    "'Referer': 'https://www.rottentomatoes.com/m/the_lion_king_2019/reviews?type=user',\n",
    "'User-Agent': 'Mozilla/5.0 (Windows NT 10.0; Win64; x64) AppleWebKit/537.36 (KHTML, like Gecko) Chrome/74.0.3729.108 Safari/537.36',\n",
    "'X-Requested-With': 'XMLHttpRequest',\n",
    "}"
   ]
  },
  {
   "cell_type": "code",
   "execution_count": 521,
   "metadata": {},
   "outputs": [],
   "source": [
    "url = 'https://www.rottentomatoes.com/napi/movie/9057c2cf-7cab-317f-876f-e50b245ca76e/reviews/user'"
   ]
  },
  {
   "cell_type": "code",
   "execution_count": 522,
   "metadata": {},
   "outputs": [],
   "source": [
    "payload = {\n",
    "'direction': 'next',\n",
    "'endCursor': '',\n",
    "'startCursor': '',\n",
    "}"
   ]
  },
  {
   "cell_type": "code",
   "execution_count": 523,
   "metadata": {},
   "outputs": [],
   "source": [
    "s = requests.Session()"
   ]
  },
  {
   "cell_type": "code",
   "execution_count": 524,
   "metadata": {},
   "outputs": [],
   "source": [
    "r = s.get(url, headers=headers, params=payload) # GET Call\n",
    "data = r.json()"
   ]
  },
  {
   "cell_type": "code",
   "execution_count": 525,
   "metadata": {},
   "outputs": [
    {
     "data": {
      "text/plain": [
       "{'pageInfo': {'hasNextPage': True,\n",
       "  'hasPreviousPage': False,\n",
       "  'endCursor': 'eyJyZWFsbV91c2VySWQiOiJGYW5kYW5nb19BMkEzOTc5MC01RTk4LTQyMUItOEIxMi1CRDIzNTE3MDg1Q0MiLCJlbXNJZCI6IjkwNTdjMmNmLTdjYWItMzE3Zi04NzZmLWU1MGIyNDVjYTc2ZSIsImVtc0lkX2hhc1Jldmlld0lzVmlzaWJsZSI6IjkwNTdjMmNmLTdjYWItMzE3Zi04NzZmLWU1MGIyNDVjYTc2ZV9UIiwiY3JlYXRlRGF0ZSI6IjIwMTktMDgtMTlUMDg6MDQ6MjcuMjY3WiJ9',\n",
       "  'startCursor': None},\n",
       " 'reviews': [{'rating': 'STAR_3_5',\n",
       "   'review': 'Loved the movie. Our four year old was not as impressed. Our seven year old did enjoy it.',\n",
       "   'displayName': 'Dawn',\n",
       "   'displayImageUrl': None,\n",
       "   'isVerified': True,\n",
       "   'isSuperReviewer': False,\n",
       "   'hasSpoilers': False,\n",
       "   'hasProfanity': False,\n",
       "   'createDate': '2019-08-19T11:19:15.683Z',\n",
       "   'updateDate': '2019-08-19T11:19:15.786Z',\n",
       "   'user': {'userId': '1870c856-d68d-4c40-a1ef-d226bb239c2e',\n",
       "    'realm': 'Fandango',\n",
       "    'displayName': 'Dawn',\n",
       "    'accountLink': None},\n",
       "   'score': 3.5,\n",
       "   'timeFromCreation': '5m ago'},\n",
       "  {'rating': 'STAR_5',\n",
       "   'review': 'My adult daughter and I attended the movie and thought it was well done.  She grew up with the original animated Lion King and was not disappointed with the new version.  Loved, loved, loved Seth Rogan as the Wart Hog ! ! !',\n",
       "   'displayName': 'Diane',\n",
       "   'displayImageUrl': None,\n",
       "   'isVerified': True,\n",
       "   'isSuperReviewer': False,\n",
       "   'hasSpoilers': False,\n",
       "   'hasProfanity': False,\n",
       "   'createDate': '2019-08-19T11:14:26.849Z',\n",
       "   'updateDate': '2019-08-19T11:14:26.849Z',\n",
       "   'user': {'userId': '1b95dd89-9ae6-4a2c-99ce-868efce0b2f0',\n",
       "    'realm': 'Fandango',\n",
       "    'displayName': 'Diane',\n",
       "    'accountLink': None},\n",
       "   'score': 5,\n",
       "   'timeFromCreation': '9m ago'},\n",
       "  {'rating': 'STAR_5',\n",
       "   'review': 'Filled in missing parts from the original and made it more realistic.',\n",
       "   'displayName': 'Tonio',\n",
       "   'displayImageUrl': None,\n",
       "   'isVerified': True,\n",
       "   'isSuperReviewer': False,\n",
       "   'hasSpoilers': False,\n",
       "   'hasProfanity': False,\n",
       "   'createDate': '2019-08-19T10:56:20.885Z',\n",
       "   'updateDate': '2019-08-19T10:56:20.885Z',\n",
       "   'user': {'userId': 'A679EFD1-CC63-493A-9329-39B33C4E9A6B',\n",
       "    'realm': 'Fandango',\n",
       "    'displayName': 'Tonio',\n",
       "    'accountLink': None},\n",
       "   'score': 5,\n",
       "   'timeFromCreation': '28m ago'},\n",
       "  {'rating': 'STAR_0_5',\n",
       "   'review': 'Utter rubbish!  voice acting and singing not a patch on the original.\\nVery disappointing. ',\n",
       "   'displayName': 'McDuck D',\n",
       "   'displayImageUrl': None,\n",
       "   'isVerified': False,\n",
       "   'isSuperReviewer': False,\n",
       "   'hasSpoilers': False,\n",
       "   'hasProfanity': False,\n",
       "   'createDate': '2019-08-19T10:18:18.110Z',\n",
       "   'updateDate': '2019-08-19T10:20:52.475Z',\n",
       "   'user': {'userId': '978204918',\n",
       "    'realm': 'RT',\n",
       "    'displayName': 'McDuck D',\n",
       "    'accountLink': '/user/id/978204918'},\n",
       "   'score': 0.5,\n",
       "   'timeFromCreation': '1h ago'},\n",
       "  {'rating': 'STAR_5',\n",
       "   'review': 'I loved it Beyonce and Childish Gambino voices were great movie took me back to my childhood',\n",
       "   'displayName': 'Trav Watson',\n",
       "   'displayImageUrl': None,\n",
       "   'isVerified': True,\n",
       "   'isSuperReviewer': False,\n",
       "   'hasSpoilers': False,\n",
       "   'hasProfanity': False,\n",
       "   'createDate': '2019-08-19T10:00:03.069Z',\n",
       "   'updateDate': '2019-08-19T10:00:03.069Z',\n",
       "   'user': {'userId': '1697f262-c852-4547-9a8f-d827e23a79d7',\n",
       "    'realm': 'Fandango',\n",
       "    'displayName': 'Trav Watson',\n",
       "    'accountLink': None},\n",
       "   'score': 5,\n",
       "   'timeFromCreation': '1h ago'},\n",
       "  {'rating': 'STAR_5',\n",
       "   'review': 'Amazing! Music , animals, scenery!',\n",
       "   'displayName': 'kara',\n",
       "   'displayImageUrl': None,\n",
       "   'isVerified': True,\n",
       "   'isSuperReviewer': False,\n",
       "   'hasSpoilers': False,\n",
       "   'hasProfanity': False,\n",
       "   'createDate': '2019-08-19T09:35:03.174Z',\n",
       "   'updateDate': '2019-08-19T09:35:03.174Z',\n",
       "   'user': {'userId': '04c1f858-a9b2-4ceb-befb-8a32d168af4f',\n",
       "    'realm': 'Fandango',\n",
       "    'displayName': 'kara',\n",
       "    'accountLink': None},\n",
       "   'score': 5,\n",
       "   'timeFromCreation': '2h ago'},\n",
       "  {'rating': 'STAR_1_5',\n",
       "   'review': \"I don't even know why the director was needed here! Characters do not express any emotions at all! Each scene is copied! They ruined everything! \\nDisgrace..\",\n",
       "   'displayName': 'Octa Z',\n",
       "   'displayImageUrl': None,\n",
       "   'isVerified': False,\n",
       "   'isSuperReviewer': False,\n",
       "   'hasSpoilers': False,\n",
       "   'hasProfanity': False,\n",
       "   'createDate': '2019-08-19T09:32:29.179Z',\n",
       "   'updateDate': '2019-08-19T09:32:29.179Z',\n",
       "   'user': {'userId': '978204858',\n",
       "    'realm': 'RT',\n",
       "    'displayName': 'Octa Z',\n",
       "    'accountLink': '/user/id/978204858'},\n",
       "   'score': 1.5,\n",
       "   'timeFromCreation': '2h ago'},\n",
       "  {'rating': 'STAR_5',\n",
       "   'review': 'The graphics were amazing. The story was just like the original Disney cartoon version. I loved it!',\n",
       "   'displayName': 'Nancy B',\n",
       "   'displayImageUrl': None,\n",
       "   'isVerified': True,\n",
       "   'isSuperReviewer': False,\n",
       "   'hasSpoilers': False,\n",
       "   'hasProfanity': False,\n",
       "   'createDate': '2019-08-19T09:11:38.339Z',\n",
       "   'updateDate': '2019-08-19T09:11:38.339Z',\n",
       "   'user': {'userId': '747297bd-5ef5-4b05-8a70-ebdb6e8209cb',\n",
       "    'realm': 'Fandango',\n",
       "    'displayName': 'Nancy B',\n",
       "    'accountLink': None},\n",
       "   'score': 5,\n",
       "   'timeFromCreation': '2h ago'},\n",
       "  {'rating': 'STAR_5',\n",
       "   'review': 'A beautifully done movie!  Loved it!',\n",
       "   'displayName': 'Rose S',\n",
       "   'displayImageUrl': None,\n",
       "   'isVerified': True,\n",
       "   'isSuperReviewer': False,\n",
       "   'hasSpoilers': False,\n",
       "   'hasProfanity': False,\n",
       "   'createDate': '2019-08-19T08:44:42.582Z',\n",
       "   'updateDate': '2019-08-19T08:44:42.582Z',\n",
       "   'user': {'userId': '96F00C05-83F7-43D1-B2A0-C7F5C8361C5E',\n",
       "    'realm': 'Fandango',\n",
       "    'displayName': 'Rose S',\n",
       "    'accountLink': None},\n",
       "   'score': 5,\n",
       "   'timeFromCreation': '3h ago'},\n",
       "  {'rating': 'STAR_5',\n",
       "   'review': 'Pretty good. Really enjoyed closed caption so we could sing along!',\n",
       "   'displayName': 'mom',\n",
       "   'displayImageUrl': None,\n",
       "   'isVerified': True,\n",
       "   'isSuperReviewer': False,\n",
       "   'hasSpoilers': False,\n",
       "   'hasProfanity': False,\n",
       "   'createDate': '2019-08-19T08:04:27.267Z',\n",
       "   'updateDate': '2019-08-19T08:04:27.267Z',\n",
       "   'user': {'userId': 'A2A39790-5E98-421B-8B12-BD23517085CC',\n",
       "    'realm': 'Fandango',\n",
       "    'displayName': 'mom',\n",
       "    'accountLink': None},\n",
       "   'score': 5,\n",
       "   'timeFromCreation': '3h ago'}]}"
      ]
     },
     "execution_count": 525,
     "metadata": {},
     "output_type": "execute_result"
    }
   ],
   "source": [
    "data"
   ]
  },
  {
   "cell_type": "code",
   "execution_count": 526,
   "metadata": {},
   "outputs": [
    {
     "ename": "KeyboardInterrupt",
     "evalue": "",
     "output_type": "error",
     "traceback": [
      "\u001b[0;31m---------------------------------------------------------------------------\u001b[0m",
      "\u001b[0;31mKeyboardInterrupt\u001b[0m                         Traceback (most recent call last)",
      "\u001b[0;32m<ipython-input-526-5b6d95112cef>\u001b[0m in \u001b[0;36m<module>\u001b[0;34m\u001b[0m\n\u001b[1;32m     10\u001b[0m     \u001b[0mr\u001b[0m \u001b[0;34m=\u001b[0m \u001b[0ms\u001b[0m\u001b[0;34m.\u001b[0m\u001b[0mget\u001b[0m\u001b[0;34m(\u001b[0m\u001b[0murl\u001b[0m\u001b[0;34m,\u001b[0m \u001b[0mheaders\u001b[0m\u001b[0;34m=\u001b[0m\u001b[0mheaders\u001b[0m\u001b[0;34m,\u001b[0m \u001b[0mparams\u001b[0m\u001b[0;34m=\u001b[0m\u001b[0mpayload\u001b[0m\u001b[0;34m)\u001b[0m \u001b[0;31m# GET Call\u001b[0m\u001b[0;34m\u001b[0m\u001b[0;34m\u001b[0m\u001b[0m\n\u001b[1;32m     11\u001b[0m     \u001b[0mdata\u001b[0m \u001b[0;34m=\u001b[0m \u001b[0mr\u001b[0m\u001b[0;34m.\u001b[0m\u001b[0mjson\u001b[0m\u001b[0;34m(\u001b[0m\u001b[0;34m)\u001b[0m\u001b[0;34m\u001b[0m\u001b[0;34m\u001b[0m\u001b[0m\n\u001b[0;32m---> 12\u001b[0;31m     \u001b[0mtime\u001b[0m\u001b[0;34m.\u001b[0m\u001b[0msleep\u001b[0m\u001b[0;34m(\u001b[0m\u001b[0;36m5\u001b[0m\u001b[0;34m)\u001b[0m\u001b[0;34m\u001b[0m\u001b[0;34m\u001b[0m\u001b[0m\n\u001b[0m\u001b[1;32m     13\u001b[0m     \u001b[0mdf_new\u001b[0m \u001b[0;34m=\u001b[0m \u001b[0mpd\u001b[0m\u001b[0;34m.\u001b[0m\u001b[0mDataFrame\u001b[0m\u001b[0;34m.\u001b[0m\u001b[0mfrom_dict\u001b[0m\u001b[0;34m(\u001b[0m\u001b[0mdata\u001b[0m\u001b[0;34m[\u001b[0m\u001b[0;34m\"reviews\"\u001b[0m\u001b[0;34m]\u001b[0m\u001b[0;34m)\u001b[0m\u001b[0;34m\u001b[0m\u001b[0;34m\u001b[0m\u001b[0m\n\u001b[1;32m     14\u001b[0m     \u001b[0mdf_reviews\u001b[0m \u001b[0;34m=\u001b[0m \u001b[0mdf_reviews\u001b[0m\u001b[0;34m.\u001b[0m\u001b[0mappend\u001b[0m\u001b[0;34m(\u001b[0m\u001b[0mdf_new\u001b[0m\u001b[0;34m)\u001b[0m\u001b[0;34m\u001b[0m\u001b[0;34m\u001b[0m\u001b[0m\n",
      "\u001b[0;31mKeyboardInterrupt\u001b[0m: "
     ]
    }
   ],
   "source": [
    "endCursor = ''\n",
    "startCursor = ''\n",
    "df_reviews = pd.DataFrame(columns = data[\"reviews\"][0].keys())\n",
    "for i in range(0,300):\n",
    "    payload = {\n",
    "                'direction': 'next',\n",
    "                'endCursor': endCursor,\n",
    "                'startCursor': startCursor,\n",
    "                }\n",
    "    r = s.get(url, headers=headers, params=payload) # GET Call\n",
    "    data = r.json()\n",
    "    time.sleep(5)\n",
    "    df_new = pd.DataFrame.from_dict(data[\"reviews\"])\n",
    "    df_reviews = df_reviews.append(df_new)\n",
    "    endCursor = data[\"pageInfo\"]['endCursor']\n",
    "    startCursor = data[\"pageInfo\"]['startCursor']"
   ]
  },
  {
   "cell_type": "code",
   "execution_count": null,
   "metadata": {},
   "outputs": [],
   "source": [
    "\n",
    "#type(data)\n",
    "df_reviews"
   ]
  },
  {
   "cell_type": "code",
   "execution_count": null,
   "metadata": {},
   "outputs": [],
   "source": [
    "df_reviews.to_csv(\"/Users/pavankumar/Downloads/data.csv\")"
   ]
  },
  {
   "cell_type": "code",
   "execution_count": null,
   "metadata": {},
   "outputs": [],
   "source": []
  },
  {
   "cell_type": "markdown",
   "metadata": {},
   "source": [
    "### Initial processing and exploration"
   ]
  },
  {
   "cell_type": "code",
   "execution_count": 1181,
   "metadata": {},
   "outputs": [],
   "source": [
    "#read the dataset\n",
    "import pandas as pd\n",
    "reveiws=pd.read_csv(\"/Users/pavankumar/Downloads/phd/data.csv\",index_col=None)"
   ]
  },
  {
   "cell_type": "code",
   "execution_count": 1182,
   "metadata": {
    "scrolled": true
   },
   "outputs": [
    {
     "data": {
      "text/html": [
       "<div>\n",
       "<style scoped>\n",
       "    .dataframe tbody tr th:only-of-type {\n",
       "        vertical-align: middle;\n",
       "    }\n",
       "\n",
       "    .dataframe tbody tr th {\n",
       "        vertical-align: top;\n",
       "    }\n",
       "\n",
       "    .dataframe thead th {\n",
       "        text-align: right;\n",
       "    }\n",
       "</style>\n",
       "<table border=\"1\" class=\"dataframe\">\n",
       "  <thead>\n",
       "    <tr style=\"text-align: right;\">\n",
       "      <th></th>\n",
       "      <th>Unnamed: 0</th>\n",
       "      <th>rating</th>\n",
       "      <th>review</th>\n",
       "      <th>name</th>\n",
       "      <th>displayImageUrl</th>\n",
       "      <th>verified</th>\n",
       "      <th>super_reviewer</th>\n",
       "      <th>spoilers</th>\n",
       "      <th>profanity</th>\n",
       "      <th>createdate</th>\n",
       "      <th>updateDate</th>\n",
       "      <th>user</th>\n",
       "      <th>score</th>\n",
       "      <th>timeFromCreation</th>\n",
       "    </tr>\n",
       "  </thead>\n",
       "  <tbody>\n",
       "    <tr>\n",
       "      <th>0</th>\n",
       "      <td>0</td>\n",
       "      <td>STAR_5</td>\n",
       "      <td>Every dog lover will absolutely love this movie</td>\n",
       "      <td>Glen Sexton</td>\n",
       "      <td>NaN</td>\n",
       "      <td>False</td>\n",
       "      <td>False</td>\n",
       "      <td>False</td>\n",
       "      <td>False</td>\n",
       "      <td>2019-08-19T03:22:28.221Z</td>\n",
       "      <td>2019-08-19T03:22:28.221Z</td>\n",
       "      <td>{'userId': 'F5968345-E0C2-4EF8-9084-D8CF5D3FE5...</td>\n",
       "      <td>5.0</td>\n",
       "      <td>16m ago</td>\n",
       "    </tr>\n",
       "    <tr>\n",
       "      <th>1</th>\n",
       "      <td>1</td>\n",
       "      <td>STAR_5</td>\n",
       "      <td>Nothing like the original but still good</td>\n",
       "      <td>luis</td>\n",
       "      <td>NaN</td>\n",
       "      <td>True</td>\n",
       "      <td>False</td>\n",
       "      <td>False</td>\n",
       "      <td>False</td>\n",
       "      <td>2019-08-19T03:22:12.135Z</td>\n",
       "      <td>2019-08-19T03:22:12.135Z</td>\n",
       "      <td>{'userId': 'F7EB98BA-24B6-4EA9-8A37-E98C4FC25A...</td>\n",
       "      <td>5.0</td>\n",
       "      <td>16m ago</td>\n",
       "    </tr>\n",
       "    <tr>\n",
       "      <th>2</th>\n",
       "      <td>2</td>\n",
       "      <td>STAR_4</td>\n",
       "      <td>Pretty much a faithful retelling on the animat...</td>\n",
       "      <td>Roy Batty</td>\n",
       "      <td>NaN</td>\n",
       "      <td>False</td>\n",
       "      <td>False</td>\n",
       "      <td>False</td>\n",
       "      <td>False</td>\n",
       "      <td>2019-08-19T03:07:44.851Z</td>\n",
       "      <td>2019-08-19T03:07:44.851Z</td>\n",
       "      <td>{'userId': '8a4ba961-92ad-491c-b015-3dc72977d4...</td>\n",
       "      <td>4.0</td>\n",
       "      <td>31m ago</td>\n",
       "    </tr>\n",
       "    <tr>\n",
       "      <th>3</th>\n",
       "      <td>3</td>\n",
       "      <td>STAR_3_5</td>\n",
       "      <td>The original story line was there and the movi...</td>\n",
       "      <td>Laura F</td>\n",
       "      <td>NaN</td>\n",
       "      <td>False</td>\n",
       "      <td>False</td>\n",
       "      <td>False</td>\n",
       "      <td>False</td>\n",
       "      <td>2019-08-19T03:01:01.210Z</td>\n",
       "      <td>2019-08-19T03:01:01.210Z</td>\n",
       "      <td>{'userId': '7cf5b9e3-8531-46d9-8778-8f584cf866...</td>\n",
       "      <td>3.5</td>\n",
       "      <td>38m ago</td>\n",
       "    </tr>\n",
       "    <tr>\n",
       "      <th>4</th>\n",
       "      <td>4</td>\n",
       "      <td>STAR_4</td>\n",
       "      <td>there is nothing bad about the movie, I just f...</td>\n",
       "      <td>Michael Kurtz</td>\n",
       "      <td>NaN</td>\n",
       "      <td>True</td>\n",
       "      <td>False</td>\n",
       "      <td>False</td>\n",
       "      <td>False</td>\n",
       "      <td>2019-08-19T02:54:18.741Z</td>\n",
       "      <td>2019-08-19T02:54:18.741Z</td>\n",
       "      <td>{'userId': '6D6FAD9D-42F6-4FF4-BDE2-12055717EB...</td>\n",
       "      <td>4.0</td>\n",
       "      <td>44m ago</td>\n",
       "    </tr>\n",
       "  </tbody>\n",
       "</table>\n",
       "</div>"
      ],
      "text/plain": [
       "   Unnamed: 0    rating                                             review  \\\n",
       "0           0    STAR_5    Every dog lover will absolutely love this movie   \n",
       "1           1    STAR_5           Nothing like the original but still good   \n",
       "2           2    STAR_4  Pretty much a faithful retelling on the animat...   \n",
       "3           3  STAR_3_5  The original story line was there and the movi...   \n",
       "4           4    STAR_4  there is nothing bad about the movie, I just f...   \n",
       "\n",
       "            name displayImageUrl  verified  super_reviewer  spoilers  \\\n",
       "0    Glen Sexton             NaN     False           False     False   \n",
       "1           luis             NaN      True           False     False   \n",
       "2      Roy Batty             NaN     False           False     False   \n",
       "3        Laura F             NaN     False           False     False   \n",
       "4  Michael Kurtz             NaN      True           False     False   \n",
       "\n",
       "   profanity                createdate                updateDate  \\\n",
       "0      False  2019-08-19T03:22:28.221Z  2019-08-19T03:22:28.221Z   \n",
       "1      False  2019-08-19T03:22:12.135Z  2019-08-19T03:22:12.135Z   \n",
       "2      False  2019-08-19T03:07:44.851Z  2019-08-19T03:07:44.851Z   \n",
       "3      False  2019-08-19T03:01:01.210Z  2019-08-19T03:01:01.210Z   \n",
       "4      False  2019-08-19T02:54:18.741Z  2019-08-19T02:54:18.741Z   \n",
       "\n",
       "                                                user  score timeFromCreation  \n",
       "0  {'userId': 'F5968345-E0C2-4EF8-9084-D8CF5D3FE5...    5.0          16m ago  \n",
       "1  {'userId': 'F7EB98BA-24B6-4EA9-8A37-E98C4FC25A...    5.0          16m ago  \n",
       "2  {'userId': '8a4ba961-92ad-491c-b015-3dc72977d4...    4.0          31m ago  \n",
       "3  {'userId': '7cf5b9e3-8531-46d9-8778-8f584cf866...    3.5          38m ago  \n",
       "4  {'userId': '6D6FAD9D-42F6-4FF4-BDE2-12055717EB...    4.0          44m ago  "
      ]
     },
     "execution_count": 1182,
     "metadata": {},
     "output_type": "execute_result"
    }
   ],
   "source": [
    "reveiws.head()"
   ]
  },
  {
   "cell_type": "code",
   "execution_count": 1183,
   "metadata": {},
   "outputs": [
    {
     "data": {
      "text/plain": [
       "False"
      ]
     },
     "execution_count": 1183,
     "metadata": {},
     "output_type": "execute_result"
    }
   ],
   "source": [
    "#checking for duplicate users\n",
    "reveiws['user'].duplicated().any()"
   ]
  },
  {
   "cell_type": "code",
   "execution_count": 1184,
   "metadata": {},
   "outputs": [],
   "source": [
    "#drop unneccesary columns\n",
    "reveiws.drop(['rating','displayImageUrl','createdate','updateDate','timeFromCreation'],axis=1,inplace=True)"
   ]
  },
  {
   "cell_type": "code",
   "execution_count": 1185,
   "metadata": {},
   "outputs": [],
   "source": [
    "reveiws.drop(['Unnamed: 0','name','user'],axis=1,inplace=True)"
   ]
  },
  {
   "cell_type": "code",
   "execution_count": 1186,
   "metadata": {},
   "outputs": [
    {
     "data": {
      "text/plain": [
       "review             object\n",
       "verified             bool\n",
       "super_reviewer       bool\n",
       "spoilers             bool\n",
       "profanity            bool\n",
       "score             float64\n",
       "dtype: object"
      ]
     },
     "execution_count": 1186,
     "metadata": {},
     "output_type": "execute_result"
    }
   ],
   "source": [
    "reveiws.dtypes"
   ]
  },
  {
   "cell_type": "code",
   "execution_count": 1187,
   "metadata": {
    "scrolled": true
   },
   "outputs": [
    {
     "data": {
      "text/plain": [
       "review            0\n",
       "verified          0\n",
       "super_reviewer    0\n",
       "spoilers          0\n",
       "profanity         0\n",
       "score             0\n",
       "dtype: int64"
      ]
     },
     "execution_count": 1187,
     "metadata": {},
     "output_type": "execute_result"
    }
   ],
   "source": [
    "reveiws.isnull().sum()"
   ]
  },
  {
   "cell_type": "code",
   "execution_count": 1188,
   "metadata": {},
   "outputs": [
    {
     "data": {
      "text/plain": [
       "True     2158\n",
       "False     842\n",
       "Name: verified, dtype: int64"
      ]
     },
     "execution_count": 1188,
     "metadata": {},
     "output_type": "execute_result"
    }
   ],
   "source": [
    "reveiws['verified'].value_counts()"
   ]
  },
  {
   "cell_type": "code",
   "execution_count": 1189,
   "metadata": {},
   "outputs": [],
   "source": [
    "#rename columns\n",
    "reveiws.rename(columns={'score': 'rating'}, inplace=True)"
   ]
  },
  {
   "cell_type": "code",
   "execution_count": 1190,
   "metadata": {},
   "outputs": [],
   "source": [
    "#using map function to convert column values to numeric\n",
    "reveiws['super_reviewer'] = reveiws['super_reviewer'].map({False:0,True:1})\n",
    "                                                                   "
   ]
  },
  {
   "cell_type": "code",
   "execution_count": 1191,
   "metadata": {},
   "outputs": [],
   "source": [
    "reveiws['verified'] = reveiws['verified'].map({False:0,True:1})"
   ]
  },
  {
   "cell_type": "code",
   "execution_count": 1192,
   "metadata": {},
   "outputs": [],
   "source": [
    "reveiws['spoilers'] = reveiws['spoilers'].map({False:0,True: 1})"
   ]
  },
  {
   "cell_type": "code",
   "execution_count": 1193,
   "metadata": {},
   "outputs": [],
   "source": [
    "reveiws['profanity'] = reveiws['profanity'].map({False:0,True: 1})"
   ]
  },
  {
   "cell_type": "code",
   "execution_count": 1194,
   "metadata": {},
   "outputs": [
    {
     "data": {
      "text/html": [
       "<div>\n",
       "<style scoped>\n",
       "    .dataframe tbody tr th:only-of-type {\n",
       "        vertical-align: middle;\n",
       "    }\n",
       "\n",
       "    .dataframe tbody tr th {\n",
       "        vertical-align: top;\n",
       "    }\n",
       "\n",
       "    .dataframe thead th {\n",
       "        text-align: right;\n",
       "    }\n",
       "</style>\n",
       "<table border=\"1\" class=\"dataframe\">\n",
       "  <thead>\n",
       "    <tr style=\"text-align: right;\">\n",
       "      <th></th>\n",
       "      <th>review</th>\n",
       "      <th>verified</th>\n",
       "      <th>super_reviewer</th>\n",
       "      <th>spoilers</th>\n",
       "      <th>profanity</th>\n",
       "      <th>rating</th>\n",
       "    </tr>\n",
       "  </thead>\n",
       "  <tbody>\n",
       "    <tr>\n",
       "      <th>0</th>\n",
       "      <td>Every dog lover will absolutely love this movie</td>\n",
       "      <td>0</td>\n",
       "      <td>0</td>\n",
       "      <td>0</td>\n",
       "      <td>0</td>\n",
       "      <td>5.0</td>\n",
       "    </tr>\n",
       "    <tr>\n",
       "      <th>1</th>\n",
       "      <td>Nothing like the original but still good</td>\n",
       "      <td>1</td>\n",
       "      <td>0</td>\n",
       "      <td>0</td>\n",
       "      <td>0</td>\n",
       "      <td>5.0</td>\n",
       "    </tr>\n",
       "    <tr>\n",
       "      <th>2</th>\n",
       "      <td>Pretty much a faithful retelling on the animat...</td>\n",
       "      <td>0</td>\n",
       "      <td>0</td>\n",
       "      <td>0</td>\n",
       "      <td>0</td>\n",
       "      <td>4.0</td>\n",
       "    </tr>\n",
       "    <tr>\n",
       "      <th>3</th>\n",
       "      <td>The original story line was there and the movi...</td>\n",
       "      <td>0</td>\n",
       "      <td>0</td>\n",
       "      <td>0</td>\n",
       "      <td>0</td>\n",
       "      <td>3.5</td>\n",
       "    </tr>\n",
       "    <tr>\n",
       "      <th>4</th>\n",
       "      <td>there is nothing bad about the movie, I just f...</td>\n",
       "      <td>1</td>\n",
       "      <td>0</td>\n",
       "      <td>0</td>\n",
       "      <td>0</td>\n",
       "      <td>4.0</td>\n",
       "    </tr>\n",
       "  </tbody>\n",
       "</table>\n",
       "</div>"
      ],
      "text/plain": [
       "                                              review  verified  \\\n",
       "0    Every dog lover will absolutely love this movie         0   \n",
       "1           Nothing like the original but still good         1   \n",
       "2  Pretty much a faithful retelling on the animat...         0   \n",
       "3  The original story line was there and the movi...         0   \n",
       "4  there is nothing bad about the movie, I just f...         1   \n",
       "\n",
       "   super_reviewer  spoilers  profanity  rating  \n",
       "0               0         0          0     5.0  \n",
       "1               0         0          0     5.0  \n",
       "2               0         0          0     4.0  \n",
       "3               0         0          0     3.5  \n",
       "4               0         0          0     4.0  "
      ]
     },
     "execution_count": 1194,
     "metadata": {},
     "output_type": "execute_result"
    }
   ],
   "source": [
    "reveiws.head()"
   ]
  },
  {
   "cell_type": "code",
   "execution_count": 1195,
   "metadata": {},
   "outputs": [
    {
     "data": {
      "text/html": [
       "<div>\n",
       "<style scoped>\n",
       "    .dataframe tbody tr th:only-of-type {\n",
       "        vertical-align: middle;\n",
       "    }\n",
       "\n",
       "    .dataframe tbody tr th {\n",
       "        vertical-align: top;\n",
       "    }\n",
       "\n",
       "    .dataframe thead th {\n",
       "        text-align: right;\n",
       "    }\n",
       "</style>\n",
       "<table border=\"1\" class=\"dataframe\">\n",
       "  <thead>\n",
       "    <tr style=\"text-align: right;\">\n",
       "      <th></th>\n",
       "      <th>review</th>\n",
       "      <th>verified</th>\n",
       "      <th>super_reviewer</th>\n",
       "      <th>spoilers</th>\n",
       "      <th>profanity</th>\n",
       "      <th>rating</th>\n",
       "    </tr>\n",
       "  </thead>\n",
       "  <tbody>\n",
       "    <tr>\n",
       "      <th>count</th>\n",
       "      <td>3000</td>\n",
       "      <td>3000.000000</td>\n",
       "      <td>3000.000000</td>\n",
       "      <td>3000.000000</td>\n",
       "      <td>3000.000000</td>\n",
       "      <td>3000.000000</td>\n",
       "    </tr>\n",
       "    <tr>\n",
       "      <th>unique</th>\n",
       "      <td>2995</td>\n",
       "      <td>NaN</td>\n",
       "      <td>NaN</td>\n",
       "      <td>NaN</td>\n",
       "      <td>NaN</td>\n",
       "      <td>NaN</td>\n",
       "    </tr>\n",
       "    <tr>\n",
       "      <th>top</th>\n",
       "      <td>Great movie for all ages</td>\n",
       "      <td>NaN</td>\n",
       "      <td>NaN</td>\n",
       "      <td>NaN</td>\n",
       "      <td>NaN</td>\n",
       "      <td>NaN</td>\n",
       "    </tr>\n",
       "    <tr>\n",
       "      <th>freq</th>\n",
       "      <td>2</td>\n",
       "      <td>NaN</td>\n",
       "      <td>NaN</td>\n",
       "      <td>NaN</td>\n",
       "      <td>NaN</td>\n",
       "      <td>NaN</td>\n",
       "    </tr>\n",
       "    <tr>\n",
       "      <th>mean</th>\n",
       "      <td>NaN</td>\n",
       "      <td>0.719333</td>\n",
       "      <td>0.000333</td>\n",
       "      <td>0.000667</td>\n",
       "      <td>0.010667</td>\n",
       "      <td>3.918167</td>\n",
       "    </tr>\n",
       "    <tr>\n",
       "      <th>std</th>\n",
       "      <td>NaN</td>\n",
       "      <td>0.449400</td>\n",
       "      <td>0.018257</td>\n",
       "      <td>0.025816</td>\n",
       "      <td>0.102744</td>\n",
       "      <td>1.313314</td>\n",
       "    </tr>\n",
       "    <tr>\n",
       "      <th>min</th>\n",
       "      <td>NaN</td>\n",
       "      <td>0.000000</td>\n",
       "      <td>0.000000</td>\n",
       "      <td>0.000000</td>\n",
       "      <td>0.000000</td>\n",
       "      <td>0.500000</td>\n",
       "    </tr>\n",
       "    <tr>\n",
       "      <th>25%</th>\n",
       "      <td>NaN</td>\n",
       "      <td>0.000000</td>\n",
       "      <td>0.000000</td>\n",
       "      <td>0.000000</td>\n",
       "      <td>0.000000</td>\n",
       "      <td>3.000000</td>\n",
       "    </tr>\n",
       "    <tr>\n",
       "      <th>50%</th>\n",
       "      <td>NaN</td>\n",
       "      <td>1.000000</td>\n",
       "      <td>0.000000</td>\n",
       "      <td>0.000000</td>\n",
       "      <td>0.000000</td>\n",
       "      <td>4.500000</td>\n",
       "    </tr>\n",
       "    <tr>\n",
       "      <th>75%</th>\n",
       "      <td>NaN</td>\n",
       "      <td>1.000000</td>\n",
       "      <td>0.000000</td>\n",
       "      <td>0.000000</td>\n",
       "      <td>0.000000</td>\n",
       "      <td>5.000000</td>\n",
       "    </tr>\n",
       "    <tr>\n",
       "      <th>max</th>\n",
       "      <td>NaN</td>\n",
       "      <td>1.000000</td>\n",
       "      <td>1.000000</td>\n",
       "      <td>1.000000</td>\n",
       "      <td>1.000000</td>\n",
       "      <td>5.000000</td>\n",
       "    </tr>\n",
       "  </tbody>\n",
       "</table>\n",
       "</div>"
      ],
      "text/plain": [
       "                          review     verified  super_reviewer     spoilers  \\\n",
       "count                       3000  3000.000000     3000.000000  3000.000000   \n",
       "unique                      2995          NaN             NaN          NaN   \n",
       "top     Great movie for all ages          NaN             NaN          NaN   \n",
       "freq                           2          NaN             NaN          NaN   \n",
       "mean                         NaN     0.719333        0.000333     0.000667   \n",
       "std                          NaN     0.449400        0.018257     0.025816   \n",
       "min                          NaN     0.000000        0.000000     0.000000   \n",
       "25%                          NaN     0.000000        0.000000     0.000000   \n",
       "50%                          NaN     1.000000        0.000000     0.000000   \n",
       "75%                          NaN     1.000000        0.000000     0.000000   \n",
       "max                          NaN     1.000000        1.000000     1.000000   \n",
       "\n",
       "          profanity       rating  \n",
       "count   3000.000000  3000.000000  \n",
       "unique          NaN          NaN  \n",
       "top             NaN          NaN  \n",
       "freq            NaN          NaN  \n",
       "mean       0.010667     3.918167  \n",
       "std        0.102744     1.313314  \n",
       "min        0.000000     0.500000  \n",
       "25%        0.000000     3.000000  \n",
       "50%        0.000000     4.500000  \n",
       "75%        0.000000     5.000000  \n",
       "max        1.000000     5.000000  "
      ]
     },
     "execution_count": 1195,
     "metadata": {},
     "output_type": "execute_result"
    }
   ],
   "source": [
    "reveiws.describe(include='all')"
   ]
  },
  {
   "cell_type": "code",
   "execution_count": 1196,
   "metadata": {},
   "outputs": [
    {
     "data": {
      "text/html": [
       "<div>\n",
       "<style scoped>\n",
       "    .dataframe tbody tr th:only-of-type {\n",
       "        vertical-align: middle;\n",
       "    }\n",
       "\n",
       "    .dataframe tbody tr th {\n",
       "        vertical-align: top;\n",
       "    }\n",
       "\n",
       "    .dataframe thead th {\n",
       "        text-align: right;\n",
       "    }\n",
       "</style>\n",
       "<table border=\"1\" class=\"dataframe\">\n",
       "  <thead>\n",
       "    <tr style=\"text-align: right;\">\n",
       "      <th></th>\n",
       "      <th>review</th>\n",
       "      <th>verified</th>\n",
       "      <th>super_reviewer</th>\n",
       "      <th>spoilers</th>\n",
       "      <th>profanity</th>\n",
       "      <th>rating</th>\n",
       "    </tr>\n",
       "  </thead>\n",
       "  <tbody>\n",
       "    <tr>\n",
       "      <th>591</th>\n",
       "      <td>Great movie for all ages</td>\n",
       "      <td>1</td>\n",
       "      <td>0</td>\n",
       "      <td>0</td>\n",
       "      <td>0</td>\n",
       "      <td>5.0</td>\n",
       "    </tr>\n",
       "    <tr>\n",
       "      <th>990</th>\n",
       "      <td>Great movie for all ages</td>\n",
       "      <td>1</td>\n",
       "      <td>0</td>\n",
       "      <td>0</td>\n",
       "      <td>0</td>\n",
       "      <td>5.0</td>\n",
       "    </tr>\n",
       "  </tbody>\n",
       "</table>\n",
       "</div>"
      ],
      "text/plain": [
       "                       review  verified  super_reviewer  spoilers  profanity  \\\n",
       "591  Great movie for all ages         1               0         0          0   \n",
       "990  Great movie for all ages         1               0         0          0   \n",
       "\n",
       "     rating  \n",
       "591     5.0  \n",
       "990     5.0  "
      ]
     },
     "execution_count": 1196,
     "metadata": {},
     "output_type": "execute_result"
    }
   ],
   "source": [
    "reveiws[reveiws['review']=='Great movie for all ages']"
   ]
  },
  {
   "cell_type": "raw",
   "metadata": {},
   "source": [
    "* we observe 2 reveiws exactly same. this may mean that the two accounts belong to same person or they have copy-pasted the reveiw. anyway since reveiw id is unique, we will keep it."
   ]
  },
  {
   "cell_type": "code",
   "execution_count": 673,
   "metadata": {},
   "outputs": [
    {
     "data": {
      "text/plain": [
       "0    2998\n",
       "1       2\n",
       "Name: spoilers, dtype: int64"
      ]
     },
     "execution_count": 673,
     "metadata": {},
     "output_type": "execute_result"
    }
   ],
   "source": [
    "#checking counts to gain insights\n",
    "reveiws['spoilers'].value_counts()"
   ]
  },
  {
   "cell_type": "code",
   "execution_count": 674,
   "metadata": {},
   "outputs": [
    {
     "data": {
      "text/plain": [
       "0    2968\n",
       "1      32\n",
       "Name: profanity, dtype: int64"
      ]
     },
     "execution_count": 674,
     "metadata": {},
     "output_type": "execute_result"
    }
   ],
   "source": [
    "reveiws['profanity'].value_counts()"
   ]
  },
  {
   "cell_type": "code",
   "execution_count": 675,
   "metadata": {},
   "outputs": [
    {
     "data": {
      "text/plain": [
       "1    2158\n",
       "0     842\n",
       "Name: verified, dtype: int64"
      ]
     },
     "execution_count": 675,
     "metadata": {},
     "output_type": "execute_result"
    }
   ],
   "source": [
    "reveiws['verified'].value_counts()"
   ]
  },
  {
   "cell_type": "code",
   "execution_count": 676,
   "metadata": {},
   "outputs": [],
   "source": [
    "#verified users\n",
    "ver=reveiws.loc[reveiws['verified']==1]"
   ]
  },
  {
   "cell_type": "code",
   "execution_count": 677,
   "metadata": {},
   "outputs": [],
   "source": [
    "#not verified users\n",
    "not_ver=reveiws.loc[reveiws['verified']==0]"
   ]
  },
  {
   "cell_type": "code",
   "execution_count": 1124,
   "metadata": {},
   "outputs": [
    {
     "data": {
      "text/plain": [
       "count    3000.000000\n",
       "mean        3.918167\n",
       "std         1.313314\n",
       "min         0.500000\n",
       "25%         3.000000\n",
       "50%         4.500000\n",
       "75%         5.000000\n",
       "max         5.000000\n",
       "Name: rating, dtype: float64"
      ]
     },
     "execution_count": 1124,
     "metadata": {},
     "output_type": "execute_result"
    }
   ],
   "source": [
    "reveiws['rating'].describe()"
   ]
  },
  {
   "cell_type": "code",
   "execution_count": 678,
   "metadata": {},
   "outputs": [
    {
     "data": {
      "text/plain": [
       "count    842.000000\n",
       "mean       3.247625\n",
       "std        1.522374\n",
       "min        0.500000\n",
       "25%        2.000000\n",
       "50%        3.500000\n",
       "75%        5.000000\n",
       "max        5.000000\n",
       "Name: rating, dtype: float64"
      ]
     },
     "execution_count": 678,
     "metadata": {},
     "output_type": "execute_result"
    }
   ],
   "source": [
    "not_ver['rating'].describe()"
   ]
  },
  {
   "cell_type": "code",
   "execution_count": 679,
   "metadata": {},
   "outputs": [
    {
     "data": {
      "text/plain": [
       "count    2158.000000\n",
       "mean        4.179796\n",
       "std         1.118239\n",
       "min         0.500000\n",
       "25%         3.500000\n",
       "50%         5.000000\n",
       "75%         5.000000\n",
       "max         5.000000\n",
       "Name: rating, dtype: float64"
      ]
     },
     "execution_count": 679,
     "metadata": {},
     "output_type": "execute_result"
    }
   ],
   "source": [
    "ver['rating'].describe()"
   ]
  },
  {
   "cell_type": "code",
   "execution_count": 774,
   "metadata": {},
   "outputs": [
    {
     "data": {
      "text/plain": [
       "Text(0.5, 1.0, 'rating comparison of verified and non-verified users')"
      ]
     },
     "execution_count": 774,
     "metadata": {},
     "output_type": "execute_result"
    },
    {
     "data": {
      "image/png": "[encoded data removed]",
      "text/plain": [
       "<Figure size 432x288 with 1 Axes>"
      ]
     },
     "metadata": {},
     "output_type": "display_data"
    }
   ],
   "source": [
    "import numpy as np\n",
    "import matplotlib.pyplot as plt \n",
    "\n",
    "plt.figure()\n",
    "sns.distplot(ver['rating'], hist=True, rug=True)\n",
    "sns.distplot(not_ver['rating'], hist=True, rug=True)\n",
    "plt.legend(['verified', 'not verified'],fontsize=12)\n",
    "plt.title(\"rating comparison of verified and non-verified users\")"
   ]
  },
  {
   "cell_type": "raw",
   "metadata": {},
   "source": [
    "* overall audience sentiment is positive mostly with average rating 3.9\n",
    "* verified users tend to be more generous in rating the movie."
   ]
  },
  {
   "cell_type": "code",
   "execution_count": 681,
   "metadata": {},
   "outputs": [
    {
     "data": {
      "text/plain": [
       "0    2999\n",
       "1       1\n",
       "Name: super_reviewer, dtype: int64"
      ]
     },
     "execution_count": 681,
     "metadata": {},
     "output_type": "execute_result"
    }
   ],
   "source": [
    "reveiws['super_reviewer'].value_counts()"
   ]
  },
  {
   "cell_type": "code",
   "execution_count": 682,
   "metadata": {},
   "outputs": [
    {
     "data": {
      "text/html": [
       "<div>\n",
       "<style scoped>\n",
       "    .dataframe tbody tr th:only-of-type {\n",
       "        vertical-align: middle;\n",
       "    }\n",
       "\n",
       "    .dataframe tbody tr th {\n",
       "        vertical-align: top;\n",
       "    }\n",
       "\n",
       "    .dataframe thead th {\n",
       "        text-align: right;\n",
       "    }\n",
       "</style>\n",
       "<table border=\"1\" class=\"dataframe\">\n",
       "  <thead>\n",
       "    <tr style=\"text-align: right;\">\n",
       "      <th></th>\n",
       "      <th>review</th>\n",
       "      <th>verified</th>\n",
       "      <th>super_reviewer</th>\n",
       "      <th>spoilers</th>\n",
       "      <th>profanity</th>\n",
       "      <th>rating</th>\n",
       "    </tr>\n",
       "  </thead>\n",
       "  <tbody>\n",
       "    <tr>\n",
       "      <th>1310</th>\n",
       "      <td>Well, the original was better.  It's fine, and...</td>\n",
       "      <td>0</td>\n",
       "      <td>1</td>\n",
       "      <td>0</td>\n",
       "      <td>0</td>\n",
       "      <td>3.0</td>\n",
       "    </tr>\n",
       "  </tbody>\n",
       "</table>\n",
       "</div>"
      ],
      "text/plain": [
       "                                                 review  verified  \\\n",
       "1310  Well, the original was better.  It's fine, and...         0   \n",
       "\n",
       "      super_reviewer  spoilers  profanity  rating  \n",
       "1310               1         0          0     3.0  "
      ]
     },
     "execution_count": 682,
     "metadata": {},
     "output_type": "execute_result"
    }
   ],
   "source": [
    "reveiws[reveiws['super_reviewer'] ==1]"
   ]
  },
  {
   "cell_type": "code",
   "execution_count": 683,
   "metadata": {},
   "outputs": [
    {
     "data": {
      "text/html": [
       "<div>\n",
       "<style scoped>\n",
       "    .dataframe tbody tr th:only-of-type {\n",
       "        vertical-align: middle;\n",
       "    }\n",
       "\n",
       "    .dataframe tbody tr th {\n",
       "        vertical-align: top;\n",
       "    }\n",
       "\n",
       "    .dataframe thead th {\n",
       "        text-align: right;\n",
       "    }\n",
       "</style>\n",
       "<table border=\"1\" class=\"dataframe\">\n",
       "  <thead>\n",
       "    <tr style=\"text-align: right;\">\n",
       "      <th></th>\n",
       "      <th>review</th>\n",
       "      <th>verified</th>\n",
       "      <th>super_reviewer</th>\n",
       "      <th>spoilers</th>\n",
       "      <th>profanity</th>\n",
       "      <th>rating</th>\n",
       "    </tr>\n",
       "  </thead>\n",
       "  <tbody>\n",
       "    <tr>\n",
       "      <th>2738</th>\n",
       "      <td>More like a nature documentary. Film did not n...</td>\n",
       "      <td>0</td>\n",
       "      <td>0</td>\n",
       "      <td>1</td>\n",
       "      <td>0</td>\n",
       "      <td>2.0</td>\n",
       "    </tr>\n",
       "    <tr>\n",
       "      <th>2824</th>\n",
       "      <td>Man... where do I start with this one... I cam...</td>\n",
       "      <td>0</td>\n",
       "      <td>0</td>\n",
       "      <td>1</td>\n",
       "      <td>0</td>\n",
       "      <td>1.5</td>\n",
       "    </tr>\n",
       "  </tbody>\n",
       "</table>\n",
       "</div>"
      ],
      "text/plain": [
       "                                                 review  verified  \\\n",
       "2738  More like a nature documentary. Film did not n...         0   \n",
       "2824  Man... where do I start with this one... I cam...         0   \n",
       "\n",
       "      super_reviewer  spoilers  profanity  rating  \n",
       "2738               0         1          0     2.0  \n",
       "2824               0         1          0     1.5  "
      ]
     },
     "execution_count": 683,
     "metadata": {},
     "output_type": "execute_result"
    }
   ],
   "source": [
    "reveiws[reveiws['spoilers'] ==1]"
   ]
  },
  {
   "cell_type": "raw",
   "metadata": {},
   "source": [
    "* only one super user and two have included spoilers in their reveiw from the data we           collected, so we do not have enough information to comment.\n"
   ]
  },
  {
   "cell_type": "markdown",
   "metadata": {},
   "source": [
    "### Preprocessing and Data preparation"
   ]
  },
  {
   "cell_type": "code",
   "execution_count": 1164,
   "metadata": {},
   "outputs": [],
   "source": [
    "from nltk.tokenize import word_tokenize, sent_tokenize \n",
    "from nltk import pos_tag\n",
    "from nltk.corpus import stopwords\n",
    "from sklearn.feature_extraction.text import TfidfVectorizer, CountVectorizer\n",
    "from sklearn.model_selection import train_test_split"
   ]
  },
  {
   "cell_type": "code",
   "execution_count": 1165,
   "metadata": {},
   "outputs": [
    {
     "data": {
      "text/plain": [
       "(3000, 6)"
      ]
     },
     "execution_count": 1165,
     "metadata": {},
     "output_type": "execute_result"
    }
   ],
   "source": [
    "reveiws.shape\n"
   ]
  },
  {
   "cell_type": "code",
   "execution_count": 1166,
   "metadata": {},
   "outputs": [],
   "source": [
    "#cleaning text"
   ]
  },
  {
   "cell_type": "code",
   "execution_count": 1167,
   "metadata": {},
   "outputs": [],
   "source": [
    "cleaned_text=[]"
   ]
  },
  {
   "cell_type": "code",
   "execution_count": 1168,
   "metadata": {},
   "outputs": [],
   "source": [
    "from nltk.corpus import RegexpTokenizer as regextoken"
   ]
  },
  {
   "cell_type": "code",
   "execution_count": 1198,
   "metadata": {},
   "outputs": [],
   "source": [
    "\n",
    "#function to tokenize, stopword removal and extract adjectives\n",
    "def cleanme(text):\n",
    "    sent = text.lower()\n",
    "    wrds = word_tokenize(sent)\n",
    "\n",
    "    clwrds = [w for w in wrds if not w in stopwords.words('english')]\n",
    "    ln = len(clwrds)\n",
    "    pos = pd.DataFrame(pos_tag(wrds))\n",
    "    pos = \" \".join(list(pos[pos[1].str.contains(\"JJ\")].iloc[:,0]))\n",
    "    rt = [ln, \" \".join(clwrds), pos]\n",
    "    return(rt)"
   ]
  },
  {
   "cell_type": "code",
   "execution_count": 1199,
   "metadata": {},
   "outputs": [],
   "source": [
    "for i in range(0,3000):\n",
    "    text=reveiws['review'][i]\n",
    "    a=cleanme(text)\n",
    "    cleaned_text.append(a)\n",
    "    \n",
    "    "
   ]
  },
  {
   "cell_type": "code",
   "execution_count": 1316,
   "metadata": {},
   "outputs": [
    {
     "data": {
      "text/plain": [
       "[5, 'nothing like original still good', 'original good']"
      ]
     },
     "execution_count": 1316,
     "metadata": {},
     "output_type": "execute_result"
    }
   ],
   "source": [
    "cleaned_text[1]"
   ]
  },
  {
   "cell_type": "code",
   "execution_count": 1201,
   "metadata": {},
   "outputs": [],
   "source": [
    "#remove punctuation through regular expression and create new column\n",
    "regex=regextoken('\\w+')\n"
   ]
  },
  {
   "cell_type": "code",
   "execution_count": 1202,
   "metadata": {},
   "outputs": [],
   "source": [
    "reveiws['review-short']=0"
   ]
  },
  {
   "cell_type": "code",
   "execution_count": 1203,
   "metadata": {},
   "outputs": [
    {
     "name": "stderr",
     "output_type": "stream",
     "text": [
      "/Users/pavankumar/anaconda3/lib/python3.7/site-packages/ipykernel_launcher.py:3: SettingWithCopyWarning: \n",
      "A value is trying to be set on a copy of a slice from a DataFrame\n",
      "\n",
      "See the caveats in the documentation: http://pandas.pydata.org/pandas-docs/stable/user_guide/indexing.html#returning-a-view-versus-a-copy\n",
      "  This is separate from the ipykernel package so we can avoid doing imports until\n"
     ]
    }
   ],
   "source": [
    "for i in range(0,3000):\n",
    "    x=regex.tokenize(cleaned_text[i][1])\n",
    "    reveiws['review-short'][i]=x"
   ]
  },
  {
   "cell_type": "code",
   "execution_count": 1204,
   "metadata": {},
   "outputs": [
    {
     "data": {
      "text/plain": [
       "['nothing', 'like', 'original', 'still', 'good']"
      ]
     },
     "execution_count": 1204,
     "metadata": {},
     "output_type": "execute_result"
    }
   ],
   "source": [
    "reveiws['review-short'][1]"
   ]
  },
  {
   "cell_type": "code",
   "execution_count": 1205,
   "metadata": {
    "scrolled": true
   },
   "outputs": [
    {
     "data": {
      "text/html": [
       "<div>\n",
       "<style scoped>\n",
       "    .dataframe tbody tr th:only-of-type {\n",
       "        vertical-align: middle;\n",
       "    }\n",
       "\n",
       "    .dataframe tbody tr th {\n",
       "        vertical-align: top;\n",
       "    }\n",
       "\n",
       "    .dataframe thead th {\n",
       "        text-align: right;\n",
       "    }\n",
       "</style>\n",
       "<table border=\"1\" class=\"dataframe\">\n",
       "  <thead>\n",
       "    <tr style=\"text-align: right;\">\n",
       "      <th></th>\n",
       "      <th>review</th>\n",
       "      <th>verified</th>\n",
       "      <th>super_reviewer</th>\n",
       "      <th>spoilers</th>\n",
       "      <th>profanity</th>\n",
       "      <th>rating</th>\n",
       "      <th>review-short</th>\n",
       "    </tr>\n",
       "  </thead>\n",
       "  <tbody>\n",
       "    <tr>\n",
       "      <th>0</th>\n",
       "      <td>Every dog lover will absolutely love this movie</td>\n",
       "      <td>0</td>\n",
       "      <td>0</td>\n",
       "      <td>0</td>\n",
       "      <td>0</td>\n",
       "      <td>5.0</td>\n",
       "      <td>[every, dog, lover, absolutely, love, movie]</td>\n",
       "    </tr>\n",
       "    <tr>\n",
       "      <th>1</th>\n",
       "      <td>Nothing like the original but still good</td>\n",
       "      <td>1</td>\n",
       "      <td>0</td>\n",
       "      <td>0</td>\n",
       "      <td>0</td>\n",
       "      <td>5.0</td>\n",
       "      <td>[nothing, like, original, still, good]</td>\n",
       "    </tr>\n",
       "    <tr>\n",
       "      <th>2</th>\n",
       "      <td>Pretty much a faithful retelling on the animat...</td>\n",
       "      <td>0</td>\n",
       "      <td>0</td>\n",
       "      <td>0</td>\n",
       "      <td>0</td>\n",
       "      <td>4.0</td>\n",
       "      <td>[pretty, much, faithful, retelling, animated, ...</td>\n",
       "    </tr>\n",
       "    <tr>\n",
       "      <th>3</th>\n",
       "      <td>The original story line was there and the movi...</td>\n",
       "      <td>0</td>\n",
       "      <td>0</td>\n",
       "      <td>0</td>\n",
       "      <td>0</td>\n",
       "      <td>3.5</td>\n",
       "      <td>[original, story, line, movie, gave, feels, ne...</td>\n",
       "    </tr>\n",
       "    <tr>\n",
       "      <th>4</th>\n",
       "      <td>there is nothing bad about the movie, I just f...</td>\n",
       "      <td>1</td>\n",
       "      <td>0</td>\n",
       "      <td>0</td>\n",
       "      <td>0</td>\n",
       "      <td>4.0</td>\n",
       "      <td>[nothing, bad, movie, felt, enjoyed, original]</td>\n",
       "    </tr>\n",
       "  </tbody>\n",
       "</table>\n",
       "</div>"
      ],
      "text/plain": [
       "                                              review  verified  \\\n",
       "0    Every dog lover will absolutely love this movie         0   \n",
       "1           Nothing like the original but still good         1   \n",
       "2  Pretty much a faithful retelling on the animat...         0   \n",
       "3  The original story line was there and the movi...         0   \n",
       "4  there is nothing bad about the movie, I just f...         1   \n",
       "\n",
       "   super_reviewer  spoilers  profanity  rating  \\\n",
       "0               0         0          0     5.0   \n",
       "1               0         0          0     5.0   \n",
       "2               0         0          0     4.0   \n",
       "3               0         0          0     3.5   \n",
       "4               0         0          0     4.0   \n",
       "\n",
       "                                        review-short  \n",
       "0       [every, dog, lover, absolutely, love, movie]  \n",
       "1             [nothing, like, original, still, good]  \n",
       "2  [pretty, much, faithful, retelling, animated, ...  \n",
       "3  [original, story, line, movie, gave, feels, ne...  \n",
       "4     [nothing, bad, movie, felt, enjoyed, original]  "
      ]
     },
     "execution_count": 1205,
     "metadata": {},
     "output_type": "execute_result"
    }
   ],
   "source": [
    "reveiws.head()"
   ]
  },
  {
   "cell_type": "code",
   "execution_count": 1206,
   "metadata": {},
   "outputs": [],
   "source": [
    "reveiws['len']=0"
   ]
  },
  {
   "cell_type": "code",
   "execution_count": 1207,
   "metadata": {},
   "outputs": [],
   "source": [
    "#creating another column for reveiw length and adjectives"
   ]
  },
  {
   "cell_type": "code",
   "execution_count": 1208,
   "metadata": {},
   "outputs": [
    {
     "name": "stderr",
     "output_type": "stream",
     "text": [
      "/Users/pavankumar/anaconda3/lib/python3.7/site-packages/ipykernel_launcher.py:2: SettingWithCopyWarning: \n",
      "A value is trying to be set on a copy of a slice from a DataFrame\n",
      "\n",
      "See the caveats in the documentation: http://pandas.pydata.org/pandas-docs/stable/user_guide/indexing.html#returning-a-view-versus-a-copy\n",
      "  \n"
     ]
    }
   ],
   "source": [
    "for i in range(0,3000):\n",
    "    reveiws['len'][i]=cleaned_text[i][0]"
   ]
  },
  {
   "cell_type": "code",
   "execution_count": 1209,
   "metadata": {},
   "outputs": [],
   "source": [
    "reveiws['adjectives']=0"
   ]
  },
  {
   "cell_type": "code",
   "execution_count": 1210,
   "metadata": {},
   "outputs": [
    {
     "name": "stderr",
     "output_type": "stream",
     "text": [
      "/Users/pavankumar/anaconda3/lib/python3.7/site-packages/ipykernel_launcher.py:2: SettingWithCopyWarning: \n",
      "A value is trying to be set on a copy of a slice from a DataFrame\n",
      "\n",
      "See the caveats in the documentation: http://pandas.pydata.org/pandas-docs/stable/user_guide/indexing.html#returning-a-view-versus-a-copy\n",
      "  \n"
     ]
    }
   ],
   "source": [
    "for i in range(0,3000):\n",
    "    reveiws['adjectives'][i]=cleaned_text[i][2]"
   ]
  },
  {
   "cell_type": "code",
   "execution_count": 1211,
   "metadata": {
    "scrolled": true
   },
   "outputs": [
    {
     "data": {
      "text/html": [
       "<div>\n",
       "<style scoped>\n",
       "    .dataframe tbody tr th:only-of-type {\n",
       "        vertical-align: middle;\n",
       "    }\n",
       "\n",
       "    .dataframe tbody tr th {\n",
       "        vertical-align: top;\n",
       "    }\n",
       "\n",
       "    .dataframe thead th {\n",
       "        text-align: right;\n",
       "    }\n",
       "</style>\n",
       "<table border=\"1\" class=\"dataframe\">\n",
       "  <thead>\n",
       "    <tr style=\"text-align: right;\">\n",
       "      <th></th>\n",
       "      <th>review</th>\n",
       "      <th>verified</th>\n",
       "      <th>super_reviewer</th>\n",
       "      <th>spoilers</th>\n",
       "      <th>profanity</th>\n",
       "      <th>rating</th>\n",
       "      <th>review-short</th>\n",
       "      <th>len</th>\n",
       "      <th>adjectives</th>\n",
       "    </tr>\n",
       "  </thead>\n",
       "  <tbody>\n",
       "    <tr>\n",
       "      <th>0</th>\n",
       "      <td>Every dog lover will absolutely love this movie</td>\n",
       "      <td>0</td>\n",
       "      <td>0</td>\n",
       "      <td>0</td>\n",
       "      <td>0</td>\n",
       "      <td>5.0</td>\n",
       "      <td>[every, dog, lover, absolutely, love, movie]</td>\n",
       "      <td>6</td>\n",
       "      <td></td>\n",
       "    </tr>\n",
       "    <tr>\n",
       "      <th>1</th>\n",
       "      <td>Nothing like the original but still good</td>\n",
       "      <td>1</td>\n",
       "      <td>0</td>\n",
       "      <td>0</td>\n",
       "      <td>0</td>\n",
       "      <td>5.0</td>\n",
       "      <td>[nothing, like, original, still, good]</td>\n",
       "      <td>5</td>\n",
       "      <td>original good</td>\n",
       "    </tr>\n",
       "    <tr>\n",
       "      <th>2</th>\n",
       "      <td>Pretty much a faithful retelling on the animat...</td>\n",
       "      <td>0</td>\n",
       "      <td>0</td>\n",
       "      <td>0</td>\n",
       "      <td>0</td>\n",
       "      <td>4.0</td>\n",
       "      <td>[pretty, much, faithful, retelling, animated, ...</td>\n",
       "      <td>44</td>\n",
       "      <td>faithful animated classic new different origin...</td>\n",
       "    </tr>\n",
       "    <tr>\n",
       "      <th>3</th>\n",
       "      <td>The original story line was there and the movi...</td>\n",
       "      <td>0</td>\n",
       "      <td>0</td>\n",
       "      <td>0</td>\n",
       "      <td>0</td>\n",
       "      <td>3.5</td>\n",
       "      <td>[original, story, line, movie, gave, feels, ne...</td>\n",
       "      <td>22</td>\n",
       "      <td>original much nat half</td>\n",
       "    </tr>\n",
       "    <tr>\n",
       "      <th>4</th>\n",
       "      <td>there is nothing bad about the movie, I just f...</td>\n",
       "      <td>1</td>\n",
       "      <td>0</td>\n",
       "      <td>0</td>\n",
       "      <td>0</td>\n",
       "      <td>4.0</td>\n",
       "      <td>[nothing, bad, movie, felt, enjoyed, original]</td>\n",
       "      <td>7</td>\n",
       "      <td>bad original more</td>\n",
       "    </tr>\n",
       "  </tbody>\n",
       "</table>\n",
       "</div>"
      ],
      "text/plain": [
       "                                              review  verified  \\\n",
       "0    Every dog lover will absolutely love this movie         0   \n",
       "1           Nothing like the original but still good         1   \n",
       "2  Pretty much a faithful retelling on the animat...         0   \n",
       "3  The original story line was there and the movi...         0   \n",
       "4  there is nothing bad about the movie, I just f...         1   \n",
       "\n",
       "   super_reviewer  spoilers  profanity  rating  \\\n",
       "0               0         0          0     5.0   \n",
       "1               0         0          0     5.0   \n",
       "2               0         0          0     4.0   \n",
       "3               0         0          0     3.5   \n",
       "4               0         0          0     4.0   \n",
       "\n",
       "                                        review-short  len  \\\n",
       "0       [every, dog, lover, absolutely, love, movie]    6   \n",
       "1             [nothing, like, original, still, good]    5   \n",
       "2  [pretty, much, faithful, retelling, animated, ...   44   \n",
       "3  [original, story, line, movie, gave, feels, ne...   22   \n",
       "4     [nothing, bad, movie, felt, enjoyed, original]    7   \n",
       "\n",
       "                                          adjectives  \n",
       "0                                                     \n",
       "1                                      original good  \n",
       "2  faithful animated classic new different origin...  \n",
       "3                             original much nat half  \n",
       "4                                  bad original more  "
      ]
     },
     "execution_count": 1211,
     "metadata": {},
     "output_type": "execute_result"
    }
   ],
   "source": [
    "reveiws.head()"
   ]
  },
  {
   "cell_type": "code",
   "execution_count": 703,
   "metadata": {},
   "outputs": [
    {
     "data": {
      "text/plain": [
       "count    3000.000000\n",
       "mean       17.313333\n",
       "std        26.474367\n",
       "min         1.000000\n",
       "25%         6.000000\n",
       "50%        11.000000\n",
       "75%        19.000000\n",
       "max       485.000000\n",
       "Name: len, dtype: float64"
      ]
     },
     "execution_count": 703,
     "metadata": {},
     "output_type": "execute_result"
    }
   ],
   "source": [
    "reveiws['len'].describe()"
   ]
  },
  {
   "cell_type": "code",
   "execution_count": 704,
   "metadata": {},
   "outputs": [
    {
     "data": {
      "text/plain": [
       "count     3000\n",
       "unique    2015\n",
       "top           \n",
       "freq       288\n",
       "Name: adjectives, dtype: object"
      ]
     },
     "execution_count": 704,
     "metadata": {},
     "output_type": "execute_result"
    }
   ],
   "source": [
    "reveiws['adjectives'].describe()"
   ]
  },
  {
   "cell_type": "markdown",
   "metadata": {},
   "source": [
    "### Visualization and insights"
   ]
  },
  {
   "cell_type": "code",
   "execution_count": 762,
   "metadata": {},
   "outputs": [],
   "source": [
    "import seaborn as sns\n",
    "import matplotlib.pyplot as plt"
   ]
  },
  {
   "cell_type": "code",
   "execution_count": 707,
   "metadata": {},
   "outputs": [],
   "source": [
    "#disrtibution plot"
   ]
  },
  {
   "cell_type": "code",
   "execution_count": 767,
   "metadata": {},
   "outputs": [
    {
     "data": {
      "text/plain": [
       "Text(0.5, 1.0, 'distribution of reveiw length')"
      ]
     },
     "execution_count": 767,
     "metadata": {},
     "output_type": "execute_result"
    },
    {
     "data": {
      "image/png": "[encoded data removed]",
      "text/plain": [
       "<Figure size 432x288 with 1 Axes>"
      ]
     },
     "metadata": {},
     "output_type": "display_data"
    }
   ],
   "source": [
    "fig = plt.figure\n",
    "sns.distplot(reveiws['len'],kde=True, bins=30,rug=1);\n",
    "plt.title('distribution of reveiw length')"
   ]
  },
  {
   "cell_type": "raw",
   "metadata": {},
   "source": [
    "* Most of the reveiws' length are within 100 with few scarce ones in range 100-200.\n",
    "  for our problem we will consider only the reveiws of length 150 or below."
   ]
  },
  {
   "cell_type": "code",
   "execution_count": 709,
   "metadata": {},
   "outputs": [
    {
     "data": {
      "text/html": [
       "<div>\n",
       "<style scoped>\n",
       "    .dataframe tbody tr th:only-of-type {\n",
       "        vertical-align: middle;\n",
       "    }\n",
       "\n",
       "    .dataframe tbody tr th {\n",
       "        vertical-align: top;\n",
       "    }\n",
       "\n",
       "    .dataframe thead th {\n",
       "        text-align: right;\n",
       "    }\n",
       "</style>\n",
       "<table border=\"1\" class=\"dataframe\">\n",
       "  <thead>\n",
       "    <tr style=\"text-align: right;\">\n",
       "      <th></th>\n",
       "      <th>review</th>\n",
       "      <th>verified</th>\n",
       "      <th>super_reviewer</th>\n",
       "      <th>spoilers</th>\n",
       "      <th>profanity</th>\n",
       "      <th>rating</th>\n",
       "      <th>review-short</th>\n",
       "      <th>len</th>\n",
       "      <th>adjectives</th>\n",
       "    </tr>\n",
       "  </thead>\n",
       "  <tbody>\n",
       "    <tr>\n",
       "      <th>0</th>\n",
       "      <td>Every dog lover will absolutely love this movie</td>\n",
       "      <td>0</td>\n",
       "      <td>0</td>\n",
       "      <td>0</td>\n",
       "      <td>0</td>\n",
       "      <td>5.0</td>\n",
       "      <td>[every, dog, lover, absolutely, love, movie]</td>\n",
       "      <td>6</td>\n",
       "      <td></td>\n",
       "    </tr>\n",
       "    <tr>\n",
       "      <th>1</th>\n",
       "      <td>Nothing like the original but still good</td>\n",
       "      <td>1</td>\n",
       "      <td>0</td>\n",
       "      <td>0</td>\n",
       "      <td>0</td>\n",
       "      <td>5.0</td>\n",
       "      <td>[nothing, like, original, still, good]</td>\n",
       "      <td>5</td>\n",
       "      <td>original good</td>\n",
       "    </tr>\n",
       "    <tr>\n",
       "      <th>2</th>\n",
       "      <td>Pretty much a faithful retelling on the animat...</td>\n",
       "      <td>0</td>\n",
       "      <td>0</td>\n",
       "      <td>0</td>\n",
       "      <td>0</td>\n",
       "      <td>4.0</td>\n",
       "      <td>[pretty, much, faithful, retelling, animated, ...</td>\n",
       "      <td>44</td>\n",
       "      <td>faithful animated classic new different origin...</td>\n",
       "    </tr>\n",
       "    <tr>\n",
       "      <th>3</th>\n",
       "      <td>The original story line was there and the movi...</td>\n",
       "      <td>0</td>\n",
       "      <td>0</td>\n",
       "      <td>0</td>\n",
       "      <td>0</td>\n",
       "      <td>3.5</td>\n",
       "      <td>[original, story, line, movie, gave, feels, ne...</td>\n",
       "      <td>22</td>\n",
       "      <td>original much nat half</td>\n",
       "    </tr>\n",
       "    <tr>\n",
       "      <th>4</th>\n",
       "      <td>there is nothing bad about the movie, I just f...</td>\n",
       "      <td>1</td>\n",
       "      <td>0</td>\n",
       "      <td>0</td>\n",
       "      <td>0</td>\n",
       "      <td>4.0</td>\n",
       "      <td>[nothing, bad, movie, felt, enjoyed, original]</td>\n",
       "      <td>7</td>\n",
       "      <td>bad original more</td>\n",
       "    </tr>\n",
       "  </tbody>\n",
       "</table>\n",
       "</div>"
      ],
      "text/plain": [
       "                                              review  verified  \\\n",
       "0    Every dog lover will absolutely love this movie         0   \n",
       "1           Nothing like the original but still good         1   \n",
       "2  Pretty much a faithful retelling on the animat...         0   \n",
       "3  The original story line was there and the movi...         0   \n",
       "4  there is nothing bad about the movie, I just f...         1   \n",
       "\n",
       "   super_reviewer  spoilers  profanity  rating  \\\n",
       "0               0         0          0     5.0   \n",
       "1               0         0          0     5.0   \n",
       "2               0         0          0     4.0   \n",
       "3               0         0          0     3.5   \n",
       "4               0         0          0     4.0   \n",
       "\n",
       "                                        review-short  len  \\\n",
       "0       [every, dog, lover, absolutely, love, movie]    6   \n",
       "1             [nothing, like, original, still, good]    5   \n",
       "2  [pretty, much, faithful, retelling, animated, ...   44   \n",
       "3  [original, story, line, movie, gave, feels, ne...   22   \n",
       "4     [nothing, bad, movie, felt, enjoyed, original]    7   \n",
       "\n",
       "                                          adjectives  \n",
       "0                                                     \n",
       "1                                      original good  \n",
       "2  faithful animated classic new different origin...  \n",
       "3                             original much nat half  \n",
       "4                                  bad original more  "
      ]
     },
     "execution_count": 709,
     "metadata": {},
     "output_type": "execute_result"
    }
   ],
   "source": [
    "reveiws.head()"
   ]
  },
  {
   "cell_type": "code",
   "execution_count": 768,
   "metadata": {},
   "outputs": [
    {
     "data": {
      "text/plain": [
       "Text(0.5, 1.0, 'distribution of rating')"
      ]
     },
     "execution_count": 768,
     "metadata": {},
     "output_type": "execute_result"
    },
    {
     "data": {
      "image/png": "[encoded data removed]",
      "text/plain": [
       "<Figure size 432x288 with 1 Axes>"
      ]
     },
     "metadata": {},
     "output_type": "display_data"
    }
   ],
   "source": [
    "#distribution of rating\n",
    "sns.distplot(reveiws['rating'],kde=True,bins=5,rug=1);\n",
    "plt.title(\"distribution of rating\")"
   ]
  },
  {
   "cell_type": "code",
   "execution_count": 769,
   "metadata": {},
   "outputs": [
    {
     "data": {
      "text/plain": [
       "Text(0.5, 1.0, 'distribution of rating')"
      ]
     },
     "execution_count": 769,
     "metadata": {},
     "output_type": "execute_result"
    },
    {
     "data": {
      "image/png": "[encoded data removed]",
      "text/plain": [
       "<Figure size 432x288 with 1 Axes>"
      ]
     },
     "metadata": {},
     "output_type": "display_data"
    }
   ],
   "source": [
    "sns.countplot(x=\"rating\",data=reveiws)\n",
    "plt.title(\"distribution of rating\")"
   ]
  },
  {
   "cell_type": "code",
   "execution_count": 168,
   "metadata": {
    "scrolled": true
   },
   "outputs": [
    {
     "data": {
      "text/plain": [
       "5.0    1361\n",
       "4.0     437\n",
       "3.0     286\n",
       "3.5     196\n",
       "4.5     176\n",
       "2.0     171\n",
       "2.5     122\n",
       "0.5     113\n",
       "1.0      90\n",
       "1.5      48\n",
       "Name: rating, dtype: int64"
      ]
     },
     "execution_count": 168,
     "metadata": {},
     "output_type": "execute_result"
    }
   ],
   "source": [
    "reveiws['rating'].value_counts()"
   ]
  },
  {
   "cell_type": "code",
   "execution_count": 169,
   "metadata": {
    "scrolled": true
   },
   "outputs": [
    {
     "data": {
      "text/plain": [
       "review            2170\n",
       "verified          2170\n",
       "super_reviewer    2170\n",
       "spoilers          2170\n",
       "profanity         2170\n",
       "rating            2170\n",
       "review-short      2170\n",
       "len               2170\n",
       "adjectives        2170\n",
       "dtype: int64"
      ]
     },
     "execution_count": 169,
     "metadata": {},
     "output_type": "execute_result"
    }
   ],
   "source": [
    "reveiws[reveiws['rating']>3].count()"
   ]
  },
  {
   "cell_type": "raw",
   "metadata": {},
   "source": [
    "* most of the people rated the movie 5. 1361 people to be exact out of 3000.\n",
    "* 2170 people that is 72% have rated it more than 3(sentiment positive)"
   ]
  },
  {
   "cell_type": "code",
   "execution_count": 170,
   "metadata": {},
   "outputs": [],
   "source": [
    "#pie chart with binning\n",
    "#used [0-1], (1,2], (2,3,(3,4],(4,]"
   ]
  },
  {
   "cell_type": "code",
   "execution_count": 171,
   "metadata": {},
   "outputs": [
    {
     "data": {
      "image/png": "[encoded data removed]",
      "text/plain": [
       "<Figure size 432x288 with 1 Axes>"
      ]
     },
     "metadata": {},
     "output_type": "display_data"
    }
   ],
   "source": [
    "import matplotlib.pyplot as plt\n",
    "#used [0-1], (1,2], ()\n",
    "# Pie chart\n",
    "labels = ['[0-1]*', '(1,2]*', '(2,3]*', '(3,4]*','(4,5]*']\n",
    "sizes = [90+113,48+171,286+122,437+196,176+1361]\n",
    "# only \"explode\" the 2nd slice (i.e. 'Hogs')\n",
    "explode = (0.1, 0.1, 0.1, 0.1,0.2)  \n",
    "fig1, ax1 = plt.subplots()\n",
    "ax1.pie(sizes, explode=explode, labels=labels, autopct='%1.2f%%',\n",
    "        shadow=True, startangle=90,radius=5)\n",
    "# Equal aspect ratio ensures that pie is drawn as a circle\n",
    "ax1.axis('equal')  \n",
    "plt.tight_layout()\n",
    "plt.show()"
   ]
  },
  {
   "cell_type": "code",
   "execution_count": 172,
   "metadata": {},
   "outputs": [
    {
     "data": {
      "text/html": [
       "<div>\n",
       "<style scoped>\n",
       "    .dataframe tbody tr th:only-of-type {\n",
       "        vertical-align: middle;\n",
       "    }\n",
       "\n",
       "    .dataframe tbody tr th {\n",
       "        vertical-align: top;\n",
       "    }\n",
       "\n",
       "    .dataframe thead th {\n",
       "        text-align: right;\n",
       "    }\n",
       "</style>\n",
       "<table border=\"1\" class=\"dataframe\">\n",
       "  <thead>\n",
       "    <tr style=\"text-align: right;\">\n",
       "      <th></th>\n",
       "      <th>review</th>\n",
       "      <th>verified</th>\n",
       "      <th>super_reviewer</th>\n",
       "      <th>spoilers</th>\n",
       "      <th>profanity</th>\n",
       "      <th>rating</th>\n",
       "      <th>review-short</th>\n",
       "      <th>len</th>\n",
       "      <th>adjectives</th>\n",
       "    </tr>\n",
       "  </thead>\n",
       "  <tbody>\n",
       "    <tr>\n",
       "      <th>574</th>\n",
       "      <td>Soooooo Lion King. Yeaaaaaa. I've got a rant w...</td>\n",
       "      <td>1</td>\n",
       "      <td>0</td>\n",
       "      <td>0</td>\n",
       "      <td>1</td>\n",
       "      <td>2.0</td>\n",
       "      <td>[soooooo, lion, king, yeaaaaaa, ve, got, rant,...</td>\n",
       "      <td>349</td>\n",
       "      <td>soooooo i original other super disappointing r...</td>\n",
       "    </tr>\n",
       "    <tr>\n",
       "      <th>2735</th>\n",
       "      <td>If you could think which Disney classic seems ...</td>\n",
       "      <td>0</td>\n",
       "      <td>0</td>\n",
       "      <td>0</td>\n",
       "      <td>0</td>\n",
       "      <td>4.5</td>\n",
       "      <td>[could, think, disney, classic, seems, masterp...</td>\n",
       "      <td>485</td>\n",
       "      <td>more majestic outstanding animated questionabl...</td>\n",
       "    </tr>\n",
       "    <tr>\n",
       "      <th>2824</th>\n",
       "      <td>Man... where do I start with this one... I cam...</td>\n",
       "      <td>0</td>\n",
       "      <td>0</td>\n",
       "      <td>1</td>\n",
       "      <td>0</td>\n",
       "      <td>1.5</td>\n",
       "      <td>[man, start, one, came, film, hearing, good, t...</td>\n",
       "      <td>470</td>\n",
       "      <td>good bad i open i hard many new subtle more wo...</td>\n",
       "    </tr>\n",
       "  </tbody>\n",
       "</table>\n",
       "</div>"
      ],
      "text/plain": [
       "                                                 review  verified  \\\n",
       "574   Soooooo Lion King. Yeaaaaaa. I've got a rant w...         1   \n",
       "2735  If you could think which Disney classic seems ...         0   \n",
       "2824  Man... where do I start with this one... I cam...         0   \n",
       "\n",
       "      super_reviewer  spoilers  profanity  rating  \\\n",
       "574                0         0          1     2.0   \n",
       "2735               0         0          0     4.5   \n",
       "2824               0         1          0     1.5   \n",
       "\n",
       "                                           review-short  len  \\\n",
       "574   [soooooo, lion, king, yeaaaaaa, ve, got, rant,...  349   \n",
       "2735  [could, think, disney, classic, seems, masterp...  485   \n",
       "2824  [man, start, one, came, film, hearing, good, t...  470   \n",
       "\n",
       "                                             adjectives  \n",
       "574   soooooo i original other super disappointing r...  \n",
       "2735  more majestic outstanding animated questionabl...  \n",
       "2824  good bad i open i hard many new subtle more wo...  "
      ]
     },
     "execution_count": 172,
     "metadata": {},
     "output_type": "execute_result"
    }
   ],
   "source": [
    "reveiws.loc[reveiws['len']>300]"
   ]
  },
  {
   "cell_type": "code",
   "execution_count": 173,
   "metadata": {},
   "outputs": [],
   "source": [
    "#add new columns number of adjectives and target variable"
   ]
  },
  {
   "cell_type": "code",
   "execution_count": 1212,
   "metadata": {
    "scrolled": true
   },
   "outputs": [],
   "source": [
    "reveiws['adj-count']= reveiws['adjectives'].apply(lambda x: len(x.split()))"
   ]
  },
  {
   "cell_type": "code",
   "execution_count": 1213,
   "metadata": {},
   "outputs": [],
   "source": [
    "reveiws['user_sentiment']=reveiws['rating'].apply(lambda x: 0 if x>3 else 1)"
   ]
  },
  {
   "cell_type": "code",
   "execution_count": 716,
   "metadata": {},
   "outputs": [
    {
     "data": {
      "text/plain": [
       "(3000, 11)"
      ]
     },
     "execution_count": 716,
     "metadata": {},
     "output_type": "execute_result"
    }
   ],
   "source": [
    "reveiws.shape"
   ]
  },
  {
   "cell_type": "code",
   "execution_count": 1214,
   "metadata": {},
   "outputs": [
    {
     "data": {
      "text/html": [
       "<div>\n",
       "<style scoped>\n",
       "    .dataframe tbody tr th:only-of-type {\n",
       "        vertical-align: middle;\n",
       "    }\n",
       "\n",
       "    .dataframe tbody tr th {\n",
       "        vertical-align: top;\n",
       "    }\n",
       "\n",
       "    .dataframe thead th {\n",
       "        text-align: right;\n",
       "    }\n",
       "</style>\n",
       "<table border=\"1\" class=\"dataframe\">\n",
       "  <thead>\n",
       "    <tr style=\"text-align: right;\">\n",
       "      <th></th>\n",
       "      <th>review</th>\n",
       "      <th>verified</th>\n",
       "      <th>super_reviewer</th>\n",
       "      <th>spoilers</th>\n",
       "      <th>profanity</th>\n",
       "      <th>rating</th>\n",
       "      <th>review-short</th>\n",
       "      <th>len</th>\n",
       "      <th>adjectives</th>\n",
       "      <th>adj-count</th>\n",
       "      <th>user_sentiment</th>\n",
       "    </tr>\n",
       "  </thead>\n",
       "  <tbody>\n",
       "    <tr>\n",
       "      <th>0</th>\n",
       "      <td>Every dog lover will absolutely love this movie</td>\n",
       "      <td>0</td>\n",
       "      <td>0</td>\n",
       "      <td>0</td>\n",
       "      <td>0</td>\n",
       "      <td>5.0</td>\n",
       "      <td>[every, dog, lover, absolutely, love, movie]</td>\n",
       "      <td>6</td>\n",
       "      <td></td>\n",
       "      <td>0</td>\n",
       "      <td>0</td>\n",
       "    </tr>\n",
       "    <tr>\n",
       "      <th>1</th>\n",
       "      <td>Nothing like the original but still good</td>\n",
       "      <td>1</td>\n",
       "      <td>0</td>\n",
       "      <td>0</td>\n",
       "      <td>0</td>\n",
       "      <td>5.0</td>\n",
       "      <td>[nothing, like, original, still, good]</td>\n",
       "      <td>5</td>\n",
       "      <td>original good</td>\n",
       "      <td>2</td>\n",
       "      <td>0</td>\n",
       "    </tr>\n",
       "    <tr>\n",
       "      <th>2</th>\n",
       "      <td>Pretty much a faithful retelling on the animat...</td>\n",
       "      <td>0</td>\n",
       "      <td>0</td>\n",
       "      <td>0</td>\n",
       "      <td>0</td>\n",
       "      <td>4.0</td>\n",
       "      <td>[pretty, much, faithful, retelling, animated, ...</td>\n",
       "      <td>44</td>\n",
       "      <td>faithful animated classic new different origin...</td>\n",
       "      <td>15</td>\n",
       "      <td>0</td>\n",
       "    </tr>\n",
       "    <tr>\n",
       "      <th>3</th>\n",
       "      <td>The original story line was there and the movi...</td>\n",
       "      <td>0</td>\n",
       "      <td>0</td>\n",
       "      <td>0</td>\n",
       "      <td>0</td>\n",
       "      <td>3.5</td>\n",
       "      <td>[original, story, line, movie, gave, feels, ne...</td>\n",
       "      <td>22</td>\n",
       "      <td>original much nat half</td>\n",
       "      <td>4</td>\n",
       "      <td>0</td>\n",
       "    </tr>\n",
       "    <tr>\n",
       "      <th>4</th>\n",
       "      <td>there is nothing bad about the movie, I just f...</td>\n",
       "      <td>1</td>\n",
       "      <td>0</td>\n",
       "      <td>0</td>\n",
       "      <td>0</td>\n",
       "      <td>4.0</td>\n",
       "      <td>[nothing, bad, movie, felt, enjoyed, original]</td>\n",
       "      <td>7</td>\n",
       "      <td>bad original more</td>\n",
       "      <td>3</td>\n",
       "      <td>0</td>\n",
       "    </tr>\n",
       "  </tbody>\n",
       "</table>\n",
       "</div>"
      ],
      "text/plain": [
       "                                              review  verified  \\\n",
       "0    Every dog lover will absolutely love this movie         0   \n",
       "1           Nothing like the original but still good         1   \n",
       "2  Pretty much a faithful retelling on the animat...         0   \n",
       "3  The original story line was there and the movi...         0   \n",
       "4  there is nothing bad about the movie, I just f...         1   \n",
       "\n",
       "   super_reviewer  spoilers  profanity  rating  \\\n",
       "0               0         0          0     5.0   \n",
       "1               0         0          0     5.0   \n",
       "2               0         0          0     4.0   \n",
       "3               0         0          0     3.5   \n",
       "4               0         0          0     4.0   \n",
       "\n",
       "                                        review-short  len  \\\n",
       "0       [every, dog, lover, absolutely, love, movie]    6   \n",
       "1             [nothing, like, original, still, good]    5   \n",
       "2  [pretty, much, faithful, retelling, animated, ...   44   \n",
       "3  [original, story, line, movie, gave, feels, ne...   22   \n",
       "4     [nothing, bad, movie, felt, enjoyed, original]    7   \n",
       "\n",
       "                                          adjectives  adj-count  \\\n",
       "0                                                             0   \n",
       "1                                      original good          2   \n",
       "2  faithful animated classic new different origin...         15   \n",
       "3                             original much nat half          4   \n",
       "4                                  bad original more          3   \n",
       "\n",
       "   user_sentiment  \n",
       "0               0  \n",
       "1               0  \n",
       "2               0  \n",
       "3               0  \n",
       "4               0  "
      ]
     },
     "execution_count": 1214,
     "metadata": {},
     "output_type": "execute_result"
    }
   ],
   "source": [
    "reveiws.head()"
   ]
  },
  {
   "cell_type": "code",
   "execution_count": 178,
   "metadata": {},
   "outputs": [],
   "source": [
    "# create bigrams column"
   ]
  },
  {
   "cell_type": "code",
   "execution_count": 717,
   "metadata": {},
   "outputs": [],
   "source": [
    "from textblob import TextBlob "
   ]
  },
  {
   "cell_type": "code",
   "execution_count": 1215,
   "metadata": {},
   "outputs": [],
   "source": [
    "reveiws['ngrams']=reveiws['review'].apply(lambda x:TextBlob(x))\n",
    "reveiws['ngrams']=reveiws['ngrams'].apply(lambda x:x.ngrams(n=2))"
   ]
  },
  {
   "cell_type": "markdown",
   "metadata": {},
   "source": [
    "#### Getting Polarity, subjectivity and sentiment intensity scores from the libraries textblob and vader"
   ]
  },
  {
   "cell_type": "raw",
   "metadata": {},
   "source": [
    "TEXTBLOB:\n",
    "* Polarity is a score that measures the degree of bias: positive/negetive/neutral on a scale of [-1,1]\n",
    "* Subjectivity is a measure that differentiates a personal statement from a factual one on a scle of [0,1]\n",
    "\n",
    "VADER:\n",
    "* Vader sentimentIntensityAnalyzer has 4 components each defining degree of positivity, negetivity and neutral.  the   4th one is a compound score that is a combination of all on a scale of [-1,1]\n"
   ]
  },
  {
   "cell_type": "code",
   "execution_count": 1216,
   "metadata": {},
   "outputs": [],
   "source": [
    "\n",
    "#!pip install vaderSentiment\n",
    "from vaderSentiment.vaderSentiment import SentimentIntensityAnalyzer"
   ]
  },
  {
   "cell_type": "code",
   "execution_count": 1217,
   "metadata": {},
   "outputs": [],
   "source": [
    "reveiws['polarity']=reveiws['review'].apply(lambda x: TextBlob(x).sentiment.polarity)"
   ]
  },
  {
   "cell_type": "code",
   "execution_count": 1218,
   "metadata": {},
   "outputs": [],
   "source": [
    "reveiws['subjectivity']=reveiws['review'].apply(lambda x: TextBlob(x).sentiment.subjectivity)"
   ]
  },
  {
   "cell_type": "code",
   "execution_count": 1219,
   "metadata": {},
   "outputs": [],
   "source": [
    "#create new column with vader-sentiment intensity score"
   ]
  },
  {
   "cell_type": "code",
   "execution_count": 1220,
   "metadata": {},
   "outputs": [],
   "source": [
    "reveiws['vader-score']=reveiws['review'].apply(lambda x:SentimentIntensityAnalyzer().polarity_scores(x))"
   ]
  },
  {
   "cell_type": "code",
   "execution_count": 1221,
   "metadata": {},
   "outputs": [],
   "source": [
    "reveiws['vader-score']=reveiws['vader-score'].apply(lambda x:x['compound'])"
   ]
  },
  {
   "cell_type": "code",
   "execution_count": 1222,
   "metadata": {},
   "outputs": [],
   "source": [
    "#negligible variance\n",
    "reveiws.drop(['spoilers','super_reviewer'],axis=1,inplace=True)"
   ]
  },
  {
   "cell_type": "code",
   "execution_count": 1223,
   "metadata": {
    "scrolled": true
   },
   "outputs": [
    {
     "data": {
      "text/html": [
       "<div>\n",
       "<style scoped>\n",
       "    .dataframe tbody tr th:only-of-type {\n",
       "        vertical-align: middle;\n",
       "    }\n",
       "\n",
       "    .dataframe tbody tr th {\n",
       "        vertical-align: top;\n",
       "    }\n",
       "\n",
       "    .dataframe thead th {\n",
       "        text-align: right;\n",
       "    }\n",
       "</style>\n",
       "<table border=\"1\" class=\"dataframe\">\n",
       "  <thead>\n",
       "    <tr style=\"text-align: right;\">\n",
       "      <th></th>\n",
       "      <th>review</th>\n",
       "      <th>verified</th>\n",
       "      <th>profanity</th>\n",
       "      <th>rating</th>\n",
       "      <th>review-short</th>\n",
       "      <th>len</th>\n",
       "      <th>adjectives</th>\n",
       "      <th>adj-count</th>\n",
       "      <th>user_sentiment</th>\n",
       "      <th>ngrams</th>\n",
       "      <th>polarity</th>\n",
       "      <th>subjectivity</th>\n",
       "      <th>vader-score</th>\n",
       "    </tr>\n",
       "  </thead>\n",
       "  <tbody>\n",
       "    <tr>\n",
       "      <th>0</th>\n",
       "      <td>Every dog lover will absolutely love this movie</td>\n",
       "      <td>0</td>\n",
       "      <td>0</td>\n",
       "      <td>5.0</td>\n",
       "      <td>[every, dog, lover, absolutely, love, movie]</td>\n",
       "      <td>6</td>\n",
       "      <td></td>\n",
       "      <td>0</td>\n",
       "      <td>0</td>\n",
       "      <td>[[Every, dog], [dog, lover], [lover, will], [w...</td>\n",
       "      <td>0.500000</td>\n",
       "      <td>0.600000</td>\n",
       "      <td>0.8516</td>\n",
       "    </tr>\n",
       "    <tr>\n",
       "      <th>1</th>\n",
       "      <td>Nothing like the original but still good</td>\n",
       "      <td>1</td>\n",
       "      <td>0</td>\n",
       "      <td>5.0</td>\n",
       "      <td>[nothing, like, original, still, good]</td>\n",
       "      <td>5</td>\n",
       "      <td>original good</td>\n",
       "      <td>2</td>\n",
       "      <td>0</td>\n",
       "      <td>[[Nothing, like], [like, the], [the, original]...</td>\n",
       "      <td>0.537500</td>\n",
       "      <td>0.675000</td>\n",
       "      <td>0.4242</td>\n",
       "    </tr>\n",
       "    <tr>\n",
       "      <th>2</th>\n",
       "      <td>Pretty much a faithful retelling on the animat...</td>\n",
       "      <td>0</td>\n",
       "      <td>0</td>\n",
       "      <td>4.0</td>\n",
       "      <td>[pretty, much, faithful, retelling, animated, ...</td>\n",
       "      <td>44</td>\n",
       "      <td>faithful animated classic new different origin...</td>\n",
       "      <td>15</td>\n",
       "      <td>0</td>\n",
       "      <td>[[Pretty, much], [much, a], [a, faithful], [fa...</td>\n",
       "      <td>0.148844</td>\n",
       "      <td>0.605521</td>\n",
       "      <td>-0.4398</td>\n",
       "    </tr>\n",
       "    <tr>\n",
       "      <th>3</th>\n",
       "      <td>The original story line was there and the movi...</td>\n",
       "      <td>0</td>\n",
       "      <td>0</td>\n",
       "      <td>3.5</td>\n",
       "      <td>[original, story, line, movie, gave, feels, ne...</td>\n",
       "      <td>22</td>\n",
       "      <td>original much nat half</td>\n",
       "      <td>4</td>\n",
       "      <td>0</td>\n",
       "      <td>[[The, original], [original, story], [story, l...</td>\n",
       "      <td>0.089583</td>\n",
       "      <td>0.379167</td>\n",
       "      <td>0.1655</td>\n",
       "    </tr>\n",
       "    <tr>\n",
       "      <th>4</th>\n",
       "      <td>there is nothing bad about the movie, I just f...</td>\n",
       "      <td>1</td>\n",
       "      <td>0</td>\n",
       "      <td>4.0</td>\n",
       "      <td>[nothing, bad, movie, felt, enjoyed, original]</td>\n",
       "      <td>7</td>\n",
       "      <td>bad original more</td>\n",
       "      <td>3</td>\n",
       "      <td>0</td>\n",
       "      <td>[[there, is], [is, nothing], [nothing, bad], [...</td>\n",
       "      <td>0.168750</td>\n",
       "      <td>0.654167</td>\n",
       "      <td>0.8151</td>\n",
       "    </tr>\n",
       "  </tbody>\n",
       "</table>\n",
       "</div>"
      ],
      "text/plain": [
       "                                              review  verified  profanity  \\\n",
       "0    Every dog lover will absolutely love this movie         0          0   \n",
       "1           Nothing like the original but still good         1          0   \n",
       "2  Pretty much a faithful retelling on the animat...         0          0   \n",
       "3  The original story line was there and the movi...         0          0   \n",
       "4  there is nothing bad about the movie, I just f...         1          0   \n",
       "\n",
       "   rating                                       review-short  len  \\\n",
       "0     5.0       [every, dog, lover, absolutely, love, movie]    6   \n",
       "1     5.0             [nothing, like, original, still, good]    5   \n",
       "2     4.0  [pretty, much, faithful, retelling, animated, ...   44   \n",
       "3     3.5  [original, story, line, movie, gave, feels, ne...   22   \n",
       "4     4.0     [nothing, bad, movie, felt, enjoyed, original]    7   \n",
       "\n",
       "                                          adjectives  adj-count  \\\n",
       "0                                                             0   \n",
       "1                                      original good          2   \n",
       "2  faithful animated classic new different origin...         15   \n",
       "3                             original much nat half          4   \n",
       "4                                  bad original more          3   \n",
       "\n",
       "   user_sentiment                                             ngrams  \\\n",
       "0               0  [[Every, dog], [dog, lover], [lover, will], [w...   \n",
       "1               0  [[Nothing, like], [like, the], [the, original]...   \n",
       "2               0  [[Pretty, much], [much, a], [a, faithful], [fa...   \n",
       "3               0  [[The, original], [original, story], [story, l...   \n",
       "4               0  [[there, is], [is, nothing], [nothing, bad], [...   \n",
       "\n",
       "   polarity  subjectivity  vader-score  \n",
       "0  0.500000      0.600000       0.8516  \n",
       "1  0.537500      0.675000       0.4242  \n",
       "2  0.148844      0.605521      -0.4398  \n",
       "3  0.089583      0.379167       0.1655  \n",
       "4  0.168750      0.654167       0.8151  "
      ]
     },
     "execution_count": 1223,
     "metadata": {},
     "output_type": "execute_result"
    }
   ],
   "source": [
    "reveiws.head()"
   ]
  },
  {
   "cell_type": "code",
   "execution_count": null,
   "metadata": {},
   "outputs": [],
   "source": [
    "#converting format to str"
   ]
  },
  {
   "cell_type": "code",
   "execution_count": 1224,
   "metadata": {},
   "outputs": [],
   "source": [
    "reveiws['review-short'] = [' '.join(map(str, l)) for l in reveiws['review-short']]"
   ]
  },
  {
   "cell_type": "code",
   "execution_count": 190,
   "metadata": {},
   "outputs": [],
   "source": [
    "#corelation plot"
   ]
  },
  {
   "cell_type": "code",
   "execution_count": 1317,
   "metadata": {
    "scrolled": true
   },
   "outputs": [
    {
     "data": {
      "text/html": [
       "<style  type=\"text/css\" >\n",
       "    #T_98146542_caeb_11e9_ab80_d4619d0212ee th {\n",
       "          font-size: 7pt;\n",
       "    }    #T_98146542_caeb_11e9_ab80_d4619d0212ee td {\n",
       "          padding: 0em 0em;\n",
       "    }    #T_98146542_caeb_11e9_ab80_d4619d0212ee th:hover {\n",
       "          font-size: 12pt;\n",
       "    }    #T_98146542_caeb_11e9_ab80_d4619d0212ee tr:hover td:hover {\n",
       "          max-width: 200px;\n",
       "          font-size: 12pt;\n",
       "    }    #T_98146542_caeb_11e9_ab80_d4619d0212eerow0_col0 {\n",
       "            background-color:  #4479bb;\n",
       "            color:  #000000;\n",
       "            max-width:  80px;\n",
       "            font-size:  10pt;\n",
       "        }    #T_98146542_caeb_11e9_ab80_d4619d0212eerow0_col1 {\n",
       "            background-color:  #e58094;\n",
       "            color:  #000000;\n",
       "            max-width:  80px;\n",
       "            font-size:  10pt;\n",
       "        }    #T_98146542_caeb_11e9_ab80_d4619d0212eerow0_col2 {\n",
       "            background-color:  #fae6ea;\n",
       "            color:  #000000;\n",
       "            max-width:  80px;\n",
       "            font-size:  10pt;\n",
       "        }    #T_98146542_caeb_11e9_ab80_d4619d0212eerow0_col3 {\n",
       "            background-color:  #d94462;\n",
       "            color:  #f1f1f1;\n",
       "            max-width:  80px;\n",
       "            font-size:  10pt;\n",
       "        }    #T_98146542_caeb_11e9_ab80_d4619d0212eerow0_col4 {\n",
       "            background-color:  #d94563;\n",
       "            color:  #f1f1f1;\n",
       "            max-width:  80px;\n",
       "            font-size:  10pt;\n",
       "        }    #T_98146542_caeb_11e9_ab80_d4619d0212eerow0_col5 {\n",
       "            background-color:  #d73c5b;\n",
       "            color:  #f1f1f1;\n",
       "            max-width:  80px;\n",
       "            font-size:  10pt;\n",
       "        }    #T_98146542_caeb_11e9_ab80_d4619d0212eerow0_col6 {\n",
       "            background-color:  #f4c8d0;\n",
       "            color:  #000000;\n",
       "            max-width:  80px;\n",
       "            font-size:  10pt;\n",
       "        }    #T_98146542_caeb_11e9_ab80_d4619d0212eerow0_col7 {\n",
       "            background-color:  #eeaab7;\n",
       "            color:  #000000;\n",
       "            max-width:  80px;\n",
       "            font-size:  10pt;\n",
       "        }    #T_98146542_caeb_11e9_ab80_d4619d0212eerow0_col8 {\n",
       "            background-color:  #eeabb8;\n",
       "            color:  #000000;\n",
       "            max-width:  80px;\n",
       "            font-size:  10pt;\n",
       "        }    #T_98146542_caeb_11e9_ab80_d4619d0212eerow0_col9 {\n",
       "            background-color:  #e06880;\n",
       "            color:  #000000;\n",
       "            max-width:  80px;\n",
       "            font-size:  10pt;\n",
       "        }    #T_98146542_caeb_11e9_ab80_d4619d0212eerow0_col10 {\n",
       "            background-color:  #efb2bf;\n",
       "            color:  #000000;\n",
       "            max-width:  80px;\n",
       "            font-size:  10pt;\n",
       "        }    #T_98146542_caeb_11e9_ab80_d4619d0212eerow1_col0 {\n",
       "            background-color:  #db4f6b;\n",
       "            color:  #000000;\n",
       "            max-width:  80px;\n",
       "            font-size:  10pt;\n",
       "        }    #T_98146542_caeb_11e9_ab80_d4619d0212eerow1_col1 {\n",
       "            background-color:  #4479bb;\n",
       "            color:  #000000;\n",
       "            max-width:  80px;\n",
       "            font-size:  10pt;\n",
       "        }    #T_98146542_caeb_11e9_ab80_d4619d0212eerow1_col2 {\n",
       "            background-color:  #d73c5b;\n",
       "            color:  #f1f1f1;\n",
       "            max-width:  80px;\n",
       "            font-size:  10pt;\n",
       "        }    #T_98146542_caeb_11e9_ab80_d4619d0212eerow1_col3 {\n",
       "            background-color:  #e58195;\n",
       "            color:  #000000;\n",
       "            max-width:  80px;\n",
       "            font-size:  10pt;\n",
       "        }    #T_98146542_caeb_11e9_ab80_d4619d0212eerow1_col4 {\n",
       "            background-color:  #e47a90;\n",
       "            color:  #000000;\n",
       "            max-width:  80px;\n",
       "            font-size:  10pt;\n",
       "        }    #T_98146542_caeb_11e9_ab80_d4619d0212eerow1_col5 {\n",
       "            background-color:  #e27389;\n",
       "            color:  #000000;\n",
       "            max-width:  80px;\n",
       "            font-size:  10pt;\n",
       "        }    #T_98146542_caeb_11e9_ab80_d4619d0212eerow1_col6 {\n",
       "            background-color:  #d8405e;\n",
       "            color:  #f1f1f1;\n",
       "            max-width:  80px;\n",
       "            font-size:  10pt;\n",
       "        }    #T_98146542_caeb_11e9_ab80_d4619d0212eerow1_col7 {\n",
       "            background-color:  #dd5a74;\n",
       "            color:  #000000;\n",
       "            max-width:  80px;\n",
       "            font-size:  10pt;\n",
       "        }    #T_98146542_caeb_11e9_ab80_d4619d0212eerow1_col8 {\n",
       "            background-color:  #d94764;\n",
       "            color:  #f1f1f1;\n",
       "            max-width:  80px;\n",
       "            font-size:  10pt;\n",
       "        }    #T_98146542_caeb_11e9_ab80_d4619d0212eerow1_col9 {\n",
       "            background-color:  #e16b82;\n",
       "            color:  #000000;\n",
       "            max-width:  80px;\n",
       "            font-size:  10pt;\n",
       "        }    #T_98146542_caeb_11e9_ab80_d4619d0212eerow1_col10 {\n",
       "            background-color:  #dc5570;\n",
       "            color:  #000000;\n",
       "            max-width:  80px;\n",
       "            font-size:  10pt;\n",
       "        }    #T_98146542_caeb_11e9_ab80_d4619d0212eerow2_col0 {\n",
       "            background-color:  #c5d5ea;\n",
       "            color:  #000000;\n",
       "            max-width:  80px;\n",
       "            font-size:  10pt;\n",
       "        }    #T_98146542_caeb_11e9_ab80_d4619d0212eerow2_col1 {\n",
       "            background-color:  #f6d2d9;\n",
       "            color:  #000000;\n",
       "            max-width:  80px;\n",
       "            font-size:  10pt;\n",
       "        }    #T_98146542_caeb_11e9_ab80_d4619d0212eerow2_col2 {\n",
       "            background-color:  #4479bb;\n",
       "            color:  #000000;\n",
       "            max-width:  80px;\n",
       "            font-size:  10pt;\n",
       "        }    #T_98146542_caeb_11e9_ab80_d4619d0212eerow2_col3 {\n",
       "            background-color:  #f1b9c4;\n",
       "            color:  #000000;\n",
       "            max-width:  80px;\n",
       "            font-size:  10pt;\n",
       "        }    #T_98146542_caeb_11e9_ab80_d4619d0212eerow2_col4 {\n",
       "            background-color:  #f1b9c4;\n",
       "            color:  #000000;\n",
       "            max-width:  80px;\n",
       "            font-size:  10pt;\n",
       "        }    #T_98146542_caeb_11e9_ab80_d4619d0212eerow2_col5 {\n",
       "            background-color:  #d73c5b;\n",
       "            color:  #f1f1f1;\n",
       "            max-width:  80px;\n",
       "            font-size:  10pt;\n",
       "        }    #T_98146542_caeb_11e9_ab80_d4619d0212eerow2_col6 {\n",
       "            background-color:  #9bb7da;\n",
       "            color:  #000000;\n",
       "            max-width:  80px;\n",
       "            font-size:  10pt;\n",
       "        }    #T_98146542_caeb_11e9_ab80_d4619d0212eerow2_col7 {\n",
       "            background-color:  #d3dfef;\n",
       "            color:  #000000;\n",
       "            max-width:  80px;\n",
       "            font-size:  10pt;\n",
       "        }    #T_98146542_caeb_11e9_ab80_d4619d0212eerow2_col8 {\n",
       "            background-color:  #adc4e1;\n",
       "            color:  #000000;\n",
       "            max-width:  80px;\n",
       "            font-size:  10pt;\n",
       "        }    #T_98146542_caeb_11e9_ab80_d4619d0212eerow2_col9 {\n",
       "            background-color:  #e991a3;\n",
       "            color:  #000000;\n",
       "            max-width:  80px;\n",
       "            font-size:  10pt;\n",
       "        }    #T_98146542_caeb_11e9_ab80_d4619d0212eerow2_col10 {\n",
       "            background-color:  #cedced;\n",
       "            color:  #000000;\n",
       "            max-width:  80px;\n",
       "            font-size:  10pt;\n",
       "        }    #T_98146542_caeb_11e9_ab80_d4619d0212eerow3_col0 {\n",
       "            background-color:  #d73c5b;\n",
       "            color:  #f1f1f1;\n",
       "            max-width:  80px;\n",
       "            font-size:  10pt;\n",
       "        }    #T_98146542_caeb_11e9_ab80_d4619d0212eerow3_col1 {\n",
       "            background-color:  #eda6b4;\n",
       "            color:  #000000;\n",
       "            max-width:  80px;\n",
       "            font-size:  10pt;\n",
       "        }    #T_98146542_caeb_11e9_ab80_d4619d0212eerow3_col2 {\n",
       "            background-color:  #d94261;\n",
       "            color:  #f1f1f1;\n",
       "            max-width:  80px;\n",
       "            font-size:  10pt;\n",
       "        }    #T_98146542_caeb_11e9_ab80_d4619d0212eerow3_col3 {\n",
       "            background-color:  #4479bb;\n",
       "            color:  #000000;\n",
       "            max-width:  80px;\n",
       "            font-size:  10pt;\n",
       "        }    #T_98146542_caeb_11e9_ab80_d4619d0212eerow3_col4 {\n",
       "            background-color:  #5384c0;\n",
       "            color:  #000000;\n",
       "            max-width:  80px;\n",
       "            font-size:  10pt;\n",
       "        }    #T_98146542_caeb_11e9_ab80_d4619d0212eerow3_col5 {\n",
       "            background-color:  #f2c1cb;\n",
       "            color:  #000000;\n",
       "            max-width:  80px;\n",
       "            font-size:  10pt;\n",
       "        }    #T_98146542_caeb_11e9_ab80_d4619d0212eerow3_col6 {\n",
       "            background-color:  #db4d69;\n",
       "            color:  #000000;\n",
       "            max-width:  80px;\n",
       "            font-size:  10pt;\n",
       "        }    #T_98146542_caeb_11e9_ab80_d4619d0212eerow3_col7 {\n",
       "            background-color:  #e0667e;\n",
       "            color:  #000000;\n",
       "            max-width:  80px;\n",
       "            font-size:  10pt;\n",
       "        }    #T_98146542_caeb_11e9_ab80_d4619d0212eerow3_col8 {\n",
       "            background-color:  #eda7b5;\n",
       "            color:  #000000;\n",
       "            max-width:  80px;\n",
       "            font-size:  10pt;\n",
       "        }    #T_98146542_caeb_11e9_ab80_d4619d0212eerow3_col9 {\n",
       "            background-color:  #e3748a;\n",
       "            color:  #000000;\n",
       "            max-width:  80px;\n",
       "            font-size:  10pt;\n",
       "        }    #T_98146542_caeb_11e9_ab80_d4619d0212eerow3_col10 {\n",
       "            background-color:  #df617a;\n",
       "            color:  #000000;\n",
       "            max-width:  80px;\n",
       "            font-size:  10pt;\n",
       "        }    #T_98146542_caeb_11e9_ab80_d4619d0212eerow4_col0 {\n",
       "            background-color:  #d73c5b;\n",
       "            color:  #f1f1f1;\n",
       "            max-width:  80px;\n",
       "            font-size:  10pt;\n",
       "        }    #T_98146542_caeb_11e9_ab80_d4619d0212eerow4_col1 {\n",
       "            background-color:  #eb9ead;\n",
       "            color:  #000000;\n",
       "            max-width:  80px;\n",
       "            font-size:  10pt;\n",
       "        }    #T_98146542_caeb_11e9_ab80_d4619d0212eerow4_col2 {\n",
       "            background-color:  #d8405e;\n",
       "            color:  #f1f1f1;\n",
       "            max-width:  80px;\n",
       "            font-size:  10pt;\n",
       "        }    #T_98146542_caeb_11e9_ab80_d4619d0212eerow4_col3 {\n",
       "            background-color:  #5384c0;\n",
       "            color:  #000000;\n",
       "            max-width:  80px;\n",
       "            font-size:  10pt;\n",
       "        }    #T_98146542_caeb_11e9_ab80_d4619d0212eerow4_col4 {\n",
       "            background-color:  #4479bb;\n",
       "            color:  #000000;\n",
       "            max-width:  80px;\n",
       "            font-size:  10pt;\n",
       "        }    #T_98146542_caeb_11e9_ab80_d4619d0212eerow4_col5 {\n",
       "            background-color:  #f2bfca;\n",
       "            color:  #000000;\n",
       "            max-width:  80px;\n",
       "            font-size:  10pt;\n",
       "        }    #T_98146542_caeb_11e9_ab80_d4619d0212eerow4_col6 {\n",
       "            background-color:  #da4865;\n",
       "            color:  #000000;\n",
       "            max-width:  80px;\n",
       "            font-size:  10pt;\n",
       "        }    #T_98146542_caeb_11e9_ab80_d4619d0212eerow4_col7 {\n",
       "            background-color:  #e0667e;\n",
       "            color:  #000000;\n",
       "            max-width:  80px;\n",
       "            font-size:  10pt;\n",
       "        }    #T_98146542_caeb_11e9_ab80_d4619d0212eerow4_col8 {\n",
       "            background-color:  #eeabb8;\n",
       "            color:  #000000;\n",
       "            max-width:  80px;\n",
       "            font-size:  10pt;\n",
       "        }    #T_98146542_caeb_11e9_ab80_d4619d0212eerow4_col9 {\n",
       "            background-color:  #e27087;\n",
       "            color:  #000000;\n",
       "            max-width:  80px;\n",
       "            font-size:  10pt;\n",
       "        }    #T_98146542_caeb_11e9_ab80_d4619d0212eerow4_col10 {\n",
       "            background-color:  #dc5570;\n",
       "            color:  #000000;\n",
       "            max-width:  80px;\n",
       "            font-size:  10pt;\n",
       "        }    #T_98146542_caeb_11e9_ab80_d4619d0212eerow5_col0 {\n",
       "            background-color:  #eeaebb;\n",
       "            color:  #000000;\n",
       "            max-width:  80px;\n",
       "            font-size:  10pt;\n",
       "        }    #T_98146542_caeb_11e9_ab80_d4619d0212eerow5_col1 {\n",
       "            background-color:  #f2f2f2;\n",
       "            color:  #000000;\n",
       "            max-width:  80px;\n",
       "            font-size:  10pt;\n",
       "        }    #T_98146542_caeb_11e9_ab80_d4619d0212eerow5_col2 {\n",
       "            background-color:  #d73c5b;\n",
       "            color:  #f1f1f1;\n",
       "            max-width:  80px;\n",
       "            font-size:  10pt;\n",
       "        }    #T_98146542_caeb_11e9_ab80_d4619d0212eerow5_col3 {\n",
       "            background-color:  #d9e4f1;\n",
       "            color:  #000000;\n",
       "            max-width:  80px;\n",
       "            font-size:  10pt;\n",
       "        }    #T_98146542_caeb_11e9_ab80_d4619d0212eerow5_col4 {\n",
       "            background-color:  #d9e4f1;\n",
       "            color:  #000000;\n",
       "            max-width:  80px;\n",
       "            font-size:  10pt;\n",
       "        }    #T_98146542_caeb_11e9_ab80_d4619d0212eerow5_col5 {\n",
       "            background-color:  #4479bb;\n",
       "            color:  #000000;\n",
       "            max-width:  80px;\n",
       "            font-size:  10pt;\n",
       "        }    #T_98146542_caeb_11e9_ab80_d4619d0212eerow5_col6 {\n",
       "            background-color:  #e78a9d;\n",
       "            color:  #000000;\n",
       "            max-width:  80px;\n",
       "            font-size:  10pt;\n",
       "        }    #T_98146542_caeb_11e9_ab80_d4619d0212eerow5_col7 {\n",
       "            background-color:  #f1b8c3;\n",
       "            color:  #000000;\n",
       "            max-width:  80px;\n",
       "            font-size:  10pt;\n",
       "        }    #T_98146542_caeb_11e9_ab80_d4619d0212eerow5_col8 {\n",
       "            background-color:  #ea9aaa;\n",
       "            color:  #000000;\n",
       "            max-width:  80px;\n",
       "            font-size:  10pt;\n",
       "        }    #T_98146542_caeb_11e9_ab80_d4619d0212eerow5_col9 {\n",
       "            background-color:  #bbcee6;\n",
       "            color:  #000000;\n",
       "            max-width:  80px;\n",
       "            font-size:  10pt;\n",
       "        }    #T_98146542_caeb_11e9_ab80_d4619d0212eerow5_col10 {\n",
       "            background-color:  #f1b9c4;\n",
       "            color:  #000000;\n",
       "            max-width:  80px;\n",
       "            font-size:  10pt;\n",
       "        }    #T_98146542_caeb_11e9_ab80_d4619d0212eerow6_col0 {\n",
       "            background-color:  #f2f2f2;\n",
       "            color:  #000000;\n",
       "            max-width:  80px;\n",
       "            font-size:  10pt;\n",
       "        }    #T_98146542_caeb_11e9_ab80_d4619d0212eerow6_col1 {\n",
       "            background-color:  #efafbc;\n",
       "            color:  #000000;\n",
       "            max-width:  80px;\n",
       "            font-size:  10pt;\n",
       "        }    #T_98146542_caeb_11e9_ab80_d4619d0212eerow6_col2 {\n",
       "            background-color:  #aac2e0;\n",
       "            color:  #000000;\n",
       "            max-width:  80px;\n",
       "            font-size:  10pt;\n",
       "        }    #T_98146542_caeb_11e9_ab80_d4619d0212eerow6_col3 {\n",
       "            background-color:  #ea97a8;\n",
       "            color:  #000000;\n",
       "            max-width:  80px;\n",
       "            font-size:  10pt;\n",
       "        }    #T_98146542_caeb_11e9_ab80_d4619d0212eerow6_col4 {\n",
       "            background-color:  #e994a5;\n",
       "            color:  #000000;\n",
       "            max-width:  80px;\n",
       "            font-size:  10pt;\n",
       "        }    #T_98146542_caeb_11e9_ab80_d4619d0212eerow6_col5 {\n",
       "            background-color:  #dd5671;\n",
       "            color:  #000000;\n",
       "            max-width:  80px;\n",
       "            font-size:  10pt;\n",
       "        }    #T_98146542_caeb_11e9_ab80_d4619d0212eerow6_col6 {\n",
       "            background-color:  #4479bb;\n",
       "            color:  #000000;\n",
       "            max-width:  80px;\n",
       "            font-size:  10pt;\n",
       "        }    #T_98146542_caeb_11e9_ab80_d4619d0212eerow6_col7 {\n",
       "            background-color:  #c1d3e8;\n",
       "            color:  #000000;\n",
       "            max-width:  80px;\n",
       "            font-size:  10pt;\n",
       "        }    #T_98146542_caeb_11e9_ab80_d4619d0212eerow6_col8 {\n",
       "            background-color:  #a9c1e0;\n",
       "            color:  #000000;\n",
       "            max-width:  80px;\n",
       "            font-size:  10pt;\n",
       "        }    #T_98146542_caeb_11e9_ab80_d4619d0212eerow6_col9 {\n",
       "            background-color:  #d73c5b;\n",
       "            color:  #f1f1f1;\n",
       "            max-width:  80px;\n",
       "            font-size:  10pt;\n",
       "        }    #T_98146542_caeb_11e9_ab80_d4619d0212eerow6_col10 {\n",
       "            background-color:  #e4ecf5;\n",
       "            color:  #000000;\n",
       "            max-width:  80px;\n",
       "            font-size:  10pt;\n",
       "        }    #T_98146542_caeb_11e9_ab80_d4619d0212eerow7_col0 {\n",
       "            background-color:  #eeaebb;\n",
       "            color:  #000000;\n",
       "            max-width:  80px;\n",
       "            font-size:  10pt;\n",
       "        }    #T_98146542_caeb_11e9_ab80_d4619d0212eerow7_col1 {\n",
       "            background-color:  #e88ea0;\n",
       "            color:  #000000;\n",
       "            max-width:  80px;\n",
       "            font-size:  10pt;\n",
       "        }    #T_98146542_caeb_11e9_ab80_d4619d0212eerow7_col2 {\n",
       "            background-color:  #f7d6dd;\n",
       "            color:  #000000;\n",
       "            max-width:  80px;\n",
       "            font-size:  10pt;\n",
       "        }    #T_98146542_caeb_11e9_ab80_d4619d0212eerow7_col3 {\n",
       "            background-color:  #e3748a;\n",
       "            color:  #000000;\n",
       "            max-width:  80px;\n",
       "            font-size:  10pt;\n",
       "        }    #T_98146542_caeb_11e9_ab80_d4619d0212eerow7_col4 {\n",
       "            background-color:  #e3768c;\n",
       "            color:  #000000;\n",
       "            max-width:  80px;\n",
       "            font-size:  10pt;\n",
       "        }    #T_98146542_caeb_11e9_ab80_d4619d0212eerow7_col5 {\n",
       "            background-color:  #dc516d;\n",
       "            color:  #000000;\n",
       "            max-width:  80px;\n",
       "            font-size:  10pt;\n",
       "        }    #T_98146542_caeb_11e9_ab80_d4619d0212eerow7_col6 {\n",
       "            background-color:  #dce6f2;\n",
       "            color:  #000000;\n",
       "            max-width:  80px;\n",
       "            font-size:  10pt;\n",
       "        }    #T_98146542_caeb_11e9_ab80_d4619d0212eerow7_col7 {\n",
       "            background-color:  #4479bb;\n",
       "            color:  #000000;\n",
       "            max-width:  80px;\n",
       "            font-size:  10pt;\n",
       "        }    #T_98146542_caeb_11e9_ab80_d4619d0212eerow7_col8 {\n",
       "            background-color:  #f5ccd4;\n",
       "            color:  #000000;\n",
       "            max-width:  80px;\n",
       "            font-size:  10pt;\n",
       "        }    #T_98146542_caeb_11e9_ab80_d4619d0212eerow7_col9 {\n",
       "            background-color:  #d73c5b;\n",
       "            color:  #f1f1f1;\n",
       "            max-width:  80px;\n",
       "            font-size:  10pt;\n",
       "        }    #T_98146542_caeb_11e9_ab80_d4619d0212eerow7_col10 {\n",
       "            background-color:  #f3c5ce;\n",
       "            color:  #000000;\n",
       "            max-width:  80px;\n",
       "            font-size:  10pt;\n",
       "        }    #T_98146542_caeb_11e9_ab80_d4619d0212eerow8_col0 {\n",
       "            background-color:  #ecf2f8;\n",
       "            color:  #000000;\n",
       "            max-width:  80px;\n",
       "            font-size:  10pt;\n",
       "        }    #T_98146542_caeb_11e9_ab80_d4619d0212eerow8_col1 {\n",
       "            background-color:  #f7d9df;\n",
       "            color:  #000000;\n",
       "            max-width:  80px;\n",
       "            font-size:  10pt;\n",
       "        }    #T_98146542_caeb_11e9_ab80_d4619d0212eerow8_col2 {\n",
       "            background-color:  #aec5e1;\n",
       "            color:  #000000;\n",
       "            max-width:  80px;\n",
       "            font-size:  10pt;\n",
       "        }    #T_98146542_caeb_11e9_ab80_d4619d0212eerow8_col3 {\n",
       "            background-color:  #eaf0f7;\n",
       "            color:  #000000;\n",
       "            max-width:  80px;\n",
       "            font-size:  10pt;\n",
       "        }    #T_98146542_caeb_11e9_ab80_d4619d0212eerow8_col4 {\n",
       "            background-color:  #e7eef6;\n",
       "            color:  #000000;\n",
       "            max-width:  80px;\n",
       "            font-size:  10pt;\n",
       "        }    #T_98146542_caeb_11e9_ab80_d4619d0212eerow8_col5 {\n",
       "            background-color:  #ea9aaa;\n",
       "            color:  #000000;\n",
       "            max-width:  80px;\n",
       "            font-size:  10pt;\n",
       "        }    #T_98146542_caeb_11e9_ab80_d4619d0212eerow8_col6 {\n",
       "            background-color:  #9ab6da;\n",
       "            color:  #000000;\n",
       "            max-width:  80px;\n",
       "            font-size:  10pt;\n",
       "        }    #T_98146542_caeb_11e9_ab80_d4619d0212eerow8_col7 {\n",
       "            background-color:  #d8e3f1;\n",
       "            color:  #000000;\n",
       "            max-width:  80px;\n",
       "            font-size:  10pt;\n",
       "        }    #T_98146542_caeb_11e9_ab80_d4619d0212eerow8_col8 {\n",
       "            background-color:  #4479bb;\n",
       "            color:  #000000;\n",
       "            max-width:  80px;\n",
       "            font-size:  10pt;\n",
       "        }    #T_98146542_caeb_11e9_ab80_d4619d0212eerow8_col9 {\n",
       "            background-color:  #d73c5b;\n",
       "            color:  #f1f1f1;\n",
       "            max-width:  80px;\n",
       "            font-size:  10pt;\n",
       "        }    #T_98146542_caeb_11e9_ab80_d4619d0212eerow8_col10 {\n",
       "            background-color:  #dce6f2;\n",
       "            color:  #000000;\n",
       "            max-width:  80px;\n",
       "            font-size:  10pt;\n",
       "        }    #T_98146542_caeb_11e9_ab80_d4619d0212eerow9_col0 {\n",
       "            background-color:  #f5ccd4;\n",
       "            color:  #000000;\n",
       "            max-width:  80px;\n",
       "            font-size:  10pt;\n",
       "        }    #T_98146542_caeb_11e9_ab80_d4619d0212eerow9_col1 {\n",
       "            background-color:  #f2f2f2;\n",
       "            color:  #000000;\n",
       "            max-width:  80px;\n",
       "            font-size:  10pt;\n",
       "        }    #T_98146542_caeb_11e9_ab80_d4619d0212eerow9_col2 {\n",
       "            background-color:  #e991a3;\n",
       "            color:  #000000;\n",
       "            max-width:  80px;\n",
       "            font-size:  10pt;\n",
       "        }    #T_98146542_caeb_11e9_ab80_d4619d0212eerow9_col3 {\n",
       "            background-color:  #f7dae0;\n",
       "            color:  #000000;\n",
       "            max-width:  80px;\n",
       "            font-size:  10pt;\n",
       "        }    #T_98146542_caeb_11e9_ab80_d4619d0212eerow9_col4 {\n",
       "            background-color:  #f7d9df;\n",
       "            color:  #000000;\n",
       "            max-width:  80px;\n",
       "            font-size:  10pt;\n",
       "        }    #T_98146542_caeb_11e9_ab80_d4619d0212eerow9_col5 {\n",
       "            background-color:  #bbcee6;\n",
       "            color:  #000000;\n",
       "            max-width:  80px;\n",
       "            font-size:  10pt;\n",
       "        }    #T_98146542_caeb_11e9_ab80_d4619d0212eerow9_col6 {\n",
       "            background-color:  #e27288;\n",
       "            color:  #000000;\n",
       "            max-width:  80px;\n",
       "            font-size:  10pt;\n",
       "        }    #T_98146542_caeb_11e9_ab80_d4619d0212eerow9_col7 {\n",
       "            background-color:  #eda8b6;\n",
       "            color:  #000000;\n",
       "            max-width:  80px;\n",
       "            font-size:  10pt;\n",
       "        }    #T_98146542_caeb_11e9_ab80_d4619d0212eerow9_col8 {\n",
       "            background-color:  #d73c5b;\n",
       "            color:  #f1f1f1;\n",
       "            max-width:  80px;\n",
       "            font-size:  10pt;\n",
       "        }    #T_98146542_caeb_11e9_ab80_d4619d0212eerow9_col9 {\n",
       "            background-color:  #4479bb;\n",
       "            color:  #000000;\n",
       "            max-width:  80px;\n",
       "            font-size:  10pt;\n",
       "        }    #T_98146542_caeb_11e9_ab80_d4619d0212eerow9_col10 {\n",
       "            background-color:  #f2bfca;\n",
       "            color:  #000000;\n",
       "            max-width:  80px;\n",
       "            font-size:  10pt;\n",
       "        }    #T_98146542_caeb_11e9_ab80_d4619d0212eerow10_col0 {\n",
       "            background-color:  #eda7b5;\n",
       "            color:  #000000;\n",
       "            max-width:  80px;\n",
       "            font-size:  10pt;\n",
       "        }    #T_98146542_caeb_11e9_ab80_d4619d0212eerow10_col1 {\n",
       "            background-color:  #e3788d;\n",
       "            color:  #000000;\n",
       "            max-width:  80px;\n",
       "            font-size:  10pt;\n",
       "        }    #T_98146542_caeb_11e9_ab80_d4619d0212eerow10_col2 {\n",
       "            background-color:  #f5ced6;\n",
       "            color:  #000000;\n",
       "            max-width:  80px;\n",
       "            font-size:  10pt;\n",
       "        }    #T_98146542_caeb_11e9_ab80_d4619d0212eerow10_col3 {\n",
       "            background-color:  #de5b75;\n",
       "            color:  #000000;\n",
       "            max-width:  80px;\n",
       "            font-size:  10pt;\n",
       "        }    #T_98146542_caeb_11e9_ab80_d4619d0212eerow10_col4 {\n",
       "            background-color:  #db4f6b;\n",
       "            color:  #000000;\n",
       "            max-width:  80px;\n",
       "            font-size:  10pt;\n",
       "        }    #T_98146542_caeb_11e9_ab80_d4619d0212eerow10_col5 {\n",
       "            background-color:  #d73c5b;\n",
       "            color:  #f1f1f1;\n",
       "            max-width:  80px;\n",
       "            font-size:  10pt;\n",
       "        }    #T_98146542_caeb_11e9_ab80_d4619d0212eerow10_col6 {\n",
       "            background-color:  #f6d2d9;\n",
       "            color:  #000000;\n",
       "            max-width:  80px;\n",
       "            font-size:  10pt;\n",
       "        }    #T_98146542_caeb_11e9_ab80_d4619d0212eerow10_col7 {\n",
       "            background-color:  #f0b5c1;\n",
       "            color:  #000000;\n",
       "            max-width:  80px;\n",
       "            font-size:  10pt;\n",
       "        }    #T_98146542_caeb_11e9_ab80_d4619d0212eerow10_col8 {\n",
       "            background-color:  #f1b8c3;\n",
       "            color:  #000000;\n",
       "            max-width:  80px;\n",
       "            font-size:  10pt;\n",
       "        }    #T_98146542_caeb_11e9_ab80_d4619d0212eerow10_col9 {\n",
       "            background-color:  #d94563;\n",
       "            color:  #f1f1f1;\n",
       "            max-width:  80px;\n",
       "            font-size:  10pt;\n",
       "        }    #T_98146542_caeb_11e9_ab80_d4619d0212eerow10_col10 {\n",
       "            background-color:  #4479bb;\n",
       "            color:  #000000;\n",
       "            max-width:  80px;\n",
       "            font-size:  10pt;\n",
       "        }</style><table id=\"T_98146542_caeb_11e9_ab80_d4619d0212ee\" ><caption>Hover to magify</caption><thead>    <tr>        <th class=\"blank level0\" ></th>        <th class=\"col_heading level0 col0\" >verified</th>        <th class=\"col_heading level0 col1\" >profanity</th>        <th class=\"col_heading level0 col2\" >rating</th>        <th class=\"col_heading level0 col3\" >len</th>        <th class=\"col_heading level0 col4\" >adj-count</th>        <th class=\"col_heading level0 col5\" >user_sentiment</th>        <th class=\"col_heading level0 col6\" >polarity</th>        <th class=\"col_heading level0 col7\" >subjectivity</th>        <th class=\"col_heading level0 col8\" >vader-score</th>        <th class=\"col_heading level0 col9\" >scores_cluster</th>        <th class=\"col_heading level0 col10\" >cluster_label</th>    </tr></thead><tbody>\n",
       "                <tr>\n",
       "                        <th id=\"T_98146542_caeb_11e9_ab80_d4619d0212eelevel0_row0\" class=\"row_heading level0 row0\" >verified</th>\n",
       "                        <td id=\"T_98146542_caeb_11e9_ab80_d4619d0212eerow0_col0\" class=\"data row0 col0\" >1</td>\n",
       "                        <td id=\"T_98146542_caeb_11e9_ab80_d4619d0212eerow0_col1\" class=\"data row0 col1\" >-0.036</td>\n",
       "                        <td id=\"T_98146542_caeb_11e9_ab80_d4619d0212eerow0_col2\" class=\"data row0 col2\" >0.32</td>\n",
       "                        <td id=\"T_98146542_caeb_11e9_ab80_d4619d0212eerow0_col3\" class=\"data row0 col3\" >-0.25</td>\n",
       "                        <td id=\"T_98146542_caeb_11e9_ab80_d4619d0212eerow0_col4\" class=\"data row0 col4\" >-0.24</td>\n",
       "                        <td id=\"T_98146542_caeb_11e9_ab80_d4619d0212eerow0_col5\" class=\"data row0 col5\" >-0.28</td>\n",
       "                        <td id=\"T_98146542_caeb_11e9_ab80_d4619d0212eerow0_col6\" class=\"data row0 col6\" >0.21</td>\n",
       "                        <td id=\"T_98146542_caeb_11e9_ab80_d4619d0212eerow0_col7\" class=\"data row0 col7\" >0.11</td>\n",
       "                        <td id=\"T_98146542_caeb_11e9_ab80_d4619d0212eerow0_col8\" class=\"data row0 col8\" >0.11</td>\n",
       "                        <td id=\"T_98146542_caeb_11e9_ab80_d4619d0212eerow0_col9\" class=\"data row0 col9\" >-0.12</td>\n",
       "                        <td id=\"T_98146542_caeb_11e9_ab80_d4619d0212eerow0_col10\" class=\"data row0 col10\" >0.14</td>\n",
       "            </tr>\n",
       "            <tr>\n",
       "                        <th id=\"T_98146542_caeb_11e9_ab80_d4619d0212eelevel0_row1\" class=\"row_heading level0 row1\" >profanity</th>\n",
       "                        <td id=\"T_98146542_caeb_11e9_ab80_d4619d0212eerow1_col0\" class=\"data row1 col0\" >-0.036</td>\n",
       "                        <td id=\"T_98146542_caeb_11e9_ab80_d4619d0212eerow1_col1\" class=\"data row1 col1\" >1</td>\n",
       "                        <td id=\"T_98146542_caeb_11e9_ab80_d4619d0212eerow1_col2\" class=\"data row1 col2\" >-0.097</td>\n",
       "                        <td id=\"T_98146542_caeb_11e9_ab80_d4619d0212eerow1_col3\" class=\"data row1 col3\" >0.11</td>\n",
       "                        <td id=\"T_98146542_caeb_11e9_ab80_d4619d0212eerow1_col4\" class=\"data row1 col4\" >0.094</td>\n",
       "                        <td id=\"T_98146542_caeb_11e9_ab80_d4619d0212eerow1_col5\" class=\"data row1 col5\" >0.074</td>\n",
       "                        <td id=\"T_98146542_caeb_11e9_ab80_d4619d0212eerow1_col6\" class=\"data row1 col6\" >-0.081</td>\n",
       "                        <td id=\"T_98146542_caeb_11e9_ab80_d4619d0212eerow1_col7\" class=\"data row1 col7\" >-0.0072</td>\n",
       "                        <td id=\"T_98146542_caeb_11e9_ab80_d4619d0212eerow1_col8\" class=\"data row1 col8\" >-0.061</td>\n",
       "                        <td id=\"T_98146542_caeb_11e9_ab80_d4619d0212eerow1_col9\" class=\"data row1 col9\" >0.045</td>\n",
       "                        <td id=\"T_98146542_caeb_11e9_ab80_d4619d0212eerow1_col10\" class=\"data row1 col10\" >-0.02</td>\n",
       "            </tr>\n",
       "            <tr>\n",
       "                        <th id=\"T_98146542_caeb_11e9_ab80_d4619d0212eelevel0_row2\" class=\"row_heading level0 row2\" >rating</th>\n",
       "                        <td id=\"T_98146542_caeb_11e9_ab80_d4619d0212eerow2_col0\" class=\"data row2 col0\" >0.32</td>\n",
       "                        <td id=\"T_98146542_caeb_11e9_ab80_d4619d0212eerow2_col1\" class=\"data row2 col1\" >-0.097</td>\n",
       "                        <td id=\"T_98146542_caeb_11e9_ab80_d4619d0212eerow2_col2\" class=\"data row2 col2\" >1</td>\n",
       "                        <td id=\"T_98146542_caeb_11e9_ab80_d4619d0212eerow2_col3\" class=\"data row2 col3\" >-0.22</td>\n",
       "                        <td id=\"T_98146542_caeb_11e9_ab80_d4619d0212eerow2_col4\" class=\"data row2 col4\" >-0.22</td>\n",
       "                        <td id=\"T_98146542_caeb_11e9_ab80_d4619d0212eerow2_col5\" class=\"data row2 col5\" >-0.87</td>\n",
       "                        <td id=\"T_98146542_caeb_11e9_ab80_d4619d0212eerow2_col6\" class=\"data row2 col6\" >0.54</td>\n",
       "                        <td id=\"T_98146542_caeb_11e9_ab80_d4619d0212eerow2_col7\" class=\"data row2 col7\" >0.25</td>\n",
       "                        <td id=\"T_98146542_caeb_11e9_ab80_d4619d0212eerow2_col8\" class=\"data row2 col8\" >0.44</td>\n",
       "                        <td id=\"T_98146542_caeb_11e9_ab80_d4619d0212eerow2_col9\" class=\"data row2 col9\" >-0.43</td>\n",
       "                        <td id=\"T_98146542_caeb_11e9_ab80_d4619d0212eerow2_col10\" class=\"data row2 col10\" >0.26</td>\n",
       "            </tr>\n",
       "            <tr>\n",
       "                        <th id=\"T_98146542_caeb_11e9_ab80_d4619d0212eelevel0_row3\" class=\"row_heading level0 row3\" >len</th>\n",
       "                        <td id=\"T_98146542_caeb_11e9_ab80_d4619d0212eerow3_col0\" class=\"data row3 col0\" >-0.25</td>\n",
       "                        <td id=\"T_98146542_caeb_11e9_ab80_d4619d0212eerow3_col1\" class=\"data row3 col1\" >0.11</td>\n",
       "                        <td id=\"T_98146542_caeb_11e9_ab80_d4619d0212eerow3_col2\" class=\"data row3 col2\" >-0.22</td>\n",
       "                        <td id=\"T_98146542_caeb_11e9_ab80_d4619d0212eerow3_col3\" class=\"data row3 col3\" >1</td>\n",
       "                        <td id=\"T_98146542_caeb_11e9_ab80_d4619d0212eerow3_col4\" class=\"data row3 col4\" >0.94</td>\n",
       "                        <td id=\"T_98146542_caeb_11e9_ab80_d4619d0212eerow3_col5\" class=\"data row3 col5\" >0.21</td>\n",
       "                        <td id=\"T_98146542_caeb_11e9_ab80_d4619d0212eerow3_col6\" class=\"data row3 col6\" >-0.19</td>\n",
       "                        <td id=\"T_98146542_caeb_11e9_ab80_d4619d0212eerow3_col7\" class=\"data row3 col7\" >-0.099</td>\n",
       "                        <td id=\"T_98146542_caeb_11e9_ab80_d4619d0212eerow3_col8\" class=\"data row3 col8\" >0.12</td>\n",
       "                        <td id=\"T_98146542_caeb_11e9_ab80_d4619d0212eerow3_col9\" class=\"data row3 col9\" >-0.049</td>\n",
       "                        <td id=\"T_98146542_caeb_11e9_ab80_d4619d0212eerow3_col10\" class=\"data row3 col10\" >-0.12</td>\n",
       "            </tr>\n",
       "            <tr>\n",
       "                        <th id=\"T_98146542_caeb_11e9_ab80_d4619d0212eelevel0_row4\" class=\"row_heading level0 row4\" >adj-count</th>\n",
       "                        <td id=\"T_98146542_caeb_11e9_ab80_d4619d0212eerow4_col0\" class=\"data row4 col0\" >-0.24</td>\n",
       "                        <td id=\"T_98146542_caeb_11e9_ab80_d4619d0212eerow4_col1\" class=\"data row4 col1\" >0.094</td>\n",
       "                        <td id=\"T_98146542_caeb_11e9_ab80_d4619d0212eerow4_col2\" class=\"data row4 col2\" >-0.22</td>\n",
       "                        <td id=\"T_98146542_caeb_11e9_ab80_d4619d0212eerow4_col3\" class=\"data row4 col3\" >0.94</td>\n",
       "                        <td id=\"T_98146542_caeb_11e9_ab80_d4619d0212eerow4_col4\" class=\"data row4 col4\" >1</td>\n",
       "                        <td id=\"T_98146542_caeb_11e9_ab80_d4619d0212eerow4_col5\" class=\"data row4 col5\" >0.21</td>\n",
       "                        <td id=\"T_98146542_caeb_11e9_ab80_d4619d0212eerow4_col6\" class=\"data row4 col6\" >-0.2</td>\n",
       "                        <td id=\"T_98146542_caeb_11e9_ab80_d4619d0212eerow4_col7\" class=\"data row4 col7\" >-0.092</td>\n",
       "                        <td id=\"T_98146542_caeb_11e9_ab80_d4619d0212eerow4_col8\" class=\"data row4 col8\" >0.14</td>\n",
       "                        <td id=\"T_98146542_caeb_11e9_ab80_d4619d0212eerow4_col9\" class=\"data row4 col9\" >-0.062</td>\n",
       "                        <td id=\"T_98146542_caeb_11e9_ab80_d4619d0212eerow4_col10\" class=\"data row4 col10\" >-0.15</td>\n",
       "            </tr>\n",
       "            <tr>\n",
       "                        <th id=\"T_98146542_caeb_11e9_ab80_d4619d0212eelevel0_row5\" class=\"row_heading level0 row5\" >user_sentiment</th>\n",
       "                        <td id=\"T_98146542_caeb_11e9_ab80_d4619d0212eerow5_col0\" class=\"data row5 col0\" >-0.28</td>\n",
       "                        <td id=\"T_98146542_caeb_11e9_ab80_d4619d0212eerow5_col1\" class=\"data row5 col1\" >0.074</td>\n",
       "                        <td id=\"T_98146542_caeb_11e9_ab80_d4619d0212eerow5_col2\" class=\"data row5 col2\" >-0.87</td>\n",
       "                        <td id=\"T_98146542_caeb_11e9_ab80_d4619d0212eerow5_col3\" class=\"data row5 col3\" >0.21</td>\n",
       "                        <td id=\"T_98146542_caeb_11e9_ab80_d4619d0212eerow5_col4\" class=\"data row5 col4\" >0.21</td>\n",
       "                        <td id=\"T_98146542_caeb_11e9_ab80_d4619d0212eerow5_col5\" class=\"data row5 col5\" >1</td>\n",
       "                        <td id=\"T_98146542_caeb_11e9_ab80_d4619d0212eerow5_col6\" class=\"data row5 col6\" >-0.47</td>\n",
       "                        <td id=\"T_98146542_caeb_11e9_ab80_d4619d0212eerow5_col7\" class=\"data row5 col7\" >-0.23</td>\n",
       "                        <td id=\"T_98146542_caeb_11e9_ab80_d4619d0212eerow5_col8\" class=\"data row5 col8\" >-0.38</td>\n",
       "                        <td id=\"T_98146542_caeb_11e9_ab80_d4619d0212eerow5_col9\" class=\"data row5 col9\" >0.37</td>\n",
       "                        <td id=\"T_98146542_caeb_11e9_ab80_d4619d0212eerow5_col10\" class=\"data row5 col10\" >-0.22</td>\n",
       "            </tr>\n",
       "            <tr>\n",
       "                        <th id=\"T_98146542_caeb_11e9_ab80_d4619d0212eelevel0_row6\" class=\"row_heading level0 row6\" >polarity</th>\n",
       "                        <td id=\"T_98146542_caeb_11e9_ab80_d4619d0212eerow6_col0\" class=\"data row6 col0\" >0.21</td>\n",
       "                        <td id=\"T_98146542_caeb_11e9_ab80_d4619d0212eerow6_col1\" class=\"data row6 col1\" >-0.081</td>\n",
       "                        <td id=\"T_98146542_caeb_11e9_ab80_d4619d0212eerow6_col2\" class=\"data row6 col2\" >0.54</td>\n",
       "                        <td id=\"T_98146542_caeb_11e9_ab80_d4619d0212eerow6_col3\" class=\"data row6 col3\" >-0.19</td>\n",
       "                        <td id=\"T_98146542_caeb_11e9_ab80_d4619d0212eerow6_col4\" class=\"data row6 col4\" >-0.2</td>\n",
       "                        <td id=\"T_98146542_caeb_11e9_ab80_d4619d0212eerow6_col5\" class=\"data row6 col5\" >-0.47</td>\n",
       "                        <td id=\"T_98146542_caeb_11e9_ab80_d4619d0212eerow6_col6\" class=\"data row6 col6\" >1</td>\n",
       "                        <td id=\"T_98146542_caeb_11e9_ab80_d4619d0212eerow6_col7\" class=\"data row6 col7\" >0.44</td>\n",
       "                        <td id=\"T_98146542_caeb_11e9_ab80_d4619d0212eerow6_col8\" class=\"data row6 col8\" >0.55</td>\n",
       "                        <td id=\"T_98146542_caeb_11e9_ab80_d4619d0212eerow6_col9\" class=\"data row6 col9\" >-0.59</td>\n",
       "                        <td id=\"T_98146542_caeb_11e9_ab80_d4619d0212eerow6_col10\" class=\"data row6 col10\" >0.28</td>\n",
       "            </tr>\n",
       "            <tr>\n",
       "                        <th id=\"T_98146542_caeb_11e9_ab80_d4619d0212eelevel0_row7\" class=\"row_heading level0 row7\" >subjectivity</th>\n",
       "                        <td id=\"T_98146542_caeb_11e9_ab80_d4619d0212eerow7_col0\" class=\"data row7 col0\" >0.11</td>\n",
       "                        <td id=\"T_98146542_caeb_11e9_ab80_d4619d0212eerow7_col1\" class=\"data row7 col1\" >-0.0072</td>\n",
       "                        <td id=\"T_98146542_caeb_11e9_ab80_d4619d0212eerow7_col2\" class=\"data row7 col2\" >0.25</td>\n",
       "                        <td id=\"T_98146542_caeb_11e9_ab80_d4619d0212eerow7_col3\" class=\"data row7 col3\" >-0.099</td>\n",
       "                        <td id=\"T_98146542_caeb_11e9_ab80_d4619d0212eerow7_col4\" class=\"data row7 col4\" >-0.092</td>\n",
       "                        <td id=\"T_98146542_caeb_11e9_ab80_d4619d0212eerow7_col5\" class=\"data row7 col5\" >-0.23</td>\n",
       "                        <td id=\"T_98146542_caeb_11e9_ab80_d4619d0212eerow7_col6\" class=\"data row7 col6\" >0.44</td>\n",
       "                        <td id=\"T_98146542_caeb_11e9_ab80_d4619d0212eerow7_col7\" class=\"data row7 col7\" >1</td>\n",
       "                        <td id=\"T_98146542_caeb_11e9_ab80_d4619d0212eerow7_col8\" class=\"data row7 col8\" >0.21</td>\n",
       "                        <td id=\"T_98146542_caeb_11e9_ab80_d4619d0212eerow7_col9\" class=\"data row7 col9\" >-0.31</td>\n",
       "                        <td id=\"T_98146542_caeb_11e9_ab80_d4619d0212eerow7_col10\" class=\"data row7 col10\" >0.18</td>\n",
       "            </tr>\n",
       "            <tr>\n",
       "                        <th id=\"T_98146542_caeb_11e9_ab80_d4619d0212eelevel0_row8\" class=\"row_heading level0 row8\" >vader-score</th>\n",
       "                        <td id=\"T_98146542_caeb_11e9_ab80_d4619d0212eerow8_col0\" class=\"data row8 col0\" >0.11</td>\n",
       "                        <td id=\"T_98146542_caeb_11e9_ab80_d4619d0212eerow8_col1\" class=\"data row8 col1\" >-0.061</td>\n",
       "                        <td id=\"T_98146542_caeb_11e9_ab80_d4619d0212eerow8_col2\" class=\"data row8 col2\" >0.44</td>\n",
       "                        <td id=\"T_98146542_caeb_11e9_ab80_d4619d0212eerow8_col3\" class=\"data row8 col3\" >0.12</td>\n",
       "                        <td id=\"T_98146542_caeb_11e9_ab80_d4619d0212eerow8_col4\" class=\"data row8 col4\" >0.14</td>\n",
       "                        <td id=\"T_98146542_caeb_11e9_ab80_d4619d0212eerow8_col5\" class=\"data row8 col5\" >-0.38</td>\n",
       "                        <td id=\"T_98146542_caeb_11e9_ab80_d4619d0212eerow8_col6\" class=\"data row8 col6\" >0.55</td>\n",
       "                        <td id=\"T_98146542_caeb_11e9_ab80_d4619d0212eerow8_col7\" class=\"data row8 col7\" >0.21</td>\n",
       "                        <td id=\"T_98146542_caeb_11e9_ab80_d4619d0212eerow8_col8\" class=\"data row8 col8\" >1</td>\n",
       "                        <td id=\"T_98146542_caeb_11e9_ab80_d4619d0212eerow8_col9\" class=\"data row8 col9\" >-0.86</td>\n",
       "                        <td id=\"T_98146542_caeb_11e9_ab80_d4619d0212eerow8_col10\" class=\"data row8 col10\" >0.19</td>\n",
       "            </tr>\n",
       "            <tr>\n",
       "                        <th id=\"T_98146542_caeb_11e9_ab80_d4619d0212eelevel0_row9\" class=\"row_heading level0 row9\" >scores_cluster</th>\n",
       "                        <td id=\"T_98146542_caeb_11e9_ab80_d4619d0212eerow9_col0\" class=\"data row9 col0\" >-0.12</td>\n",
       "                        <td id=\"T_98146542_caeb_11e9_ab80_d4619d0212eerow9_col1\" class=\"data row9 col1\" >0.045</td>\n",
       "                        <td id=\"T_98146542_caeb_11e9_ab80_d4619d0212eerow9_col2\" class=\"data row9 col2\" >-0.43</td>\n",
       "                        <td id=\"T_98146542_caeb_11e9_ab80_d4619d0212eerow9_col3\" class=\"data row9 col3\" >-0.049</td>\n",
       "                        <td id=\"T_98146542_caeb_11e9_ab80_d4619d0212eerow9_col4\" class=\"data row9 col4\" >-0.062</td>\n",
       "                        <td id=\"T_98146542_caeb_11e9_ab80_d4619d0212eerow9_col5\" class=\"data row9 col5\" >0.37</td>\n",
       "                        <td id=\"T_98146542_caeb_11e9_ab80_d4619d0212eerow9_col6\" class=\"data row9 col6\" >-0.59</td>\n",
       "                        <td id=\"T_98146542_caeb_11e9_ab80_d4619d0212eerow9_col7\" class=\"data row9 col7\" >-0.31</td>\n",
       "                        <td id=\"T_98146542_caeb_11e9_ab80_d4619d0212eerow9_col8\" class=\"data row9 col8\" >-0.86</td>\n",
       "                        <td id=\"T_98146542_caeb_11e9_ab80_d4619d0212eerow9_col9\" class=\"data row9 col9\" >1</td>\n",
       "                        <td id=\"T_98146542_caeb_11e9_ab80_d4619d0212eerow9_col10\" class=\"data row9 col10\" >-0.19</td>\n",
       "            </tr>\n",
       "            <tr>\n",
       "                        <th id=\"T_98146542_caeb_11e9_ab80_d4619d0212eelevel0_row10\" class=\"row_heading level0 row10\" >cluster_label</th>\n",
       "                        <td id=\"T_98146542_caeb_11e9_ab80_d4619d0212eerow10_col0\" class=\"data row10 col0\" >0.14</td>\n",
       "                        <td id=\"T_98146542_caeb_11e9_ab80_d4619d0212eerow10_col1\" class=\"data row10 col1\" >-0.02</td>\n",
       "                        <td id=\"T_98146542_caeb_11e9_ab80_d4619d0212eerow10_col2\" class=\"data row10 col2\" >0.26</td>\n",
       "                        <td id=\"T_98146542_caeb_11e9_ab80_d4619d0212eerow10_col3\" class=\"data row10 col3\" >-0.12</td>\n",
       "                        <td id=\"T_98146542_caeb_11e9_ab80_d4619d0212eerow10_col4\" class=\"data row10 col4\" >-0.15</td>\n",
       "                        <td id=\"T_98146542_caeb_11e9_ab80_d4619d0212eerow10_col5\" class=\"data row10 col5\" >-0.22</td>\n",
       "                        <td id=\"T_98146542_caeb_11e9_ab80_d4619d0212eerow10_col6\" class=\"data row10 col6\" >0.28</td>\n",
       "                        <td id=\"T_98146542_caeb_11e9_ab80_d4619d0212eerow10_col7\" class=\"data row10 col7\" >0.18</td>\n",
       "                        <td id=\"T_98146542_caeb_11e9_ab80_d4619d0212eerow10_col8\" class=\"data row10 col8\" >0.19</td>\n",
       "                        <td id=\"T_98146542_caeb_11e9_ab80_d4619d0212eerow10_col9\" class=\"data row10 col9\" >-0.19</td>\n",
       "                        <td id=\"T_98146542_caeb_11e9_ab80_d4619d0212eerow10_col10\" class=\"data row10 col10\" >1</td>\n",
       "            </tr>\n",
       "    </tbody></table>"
      ],
      "text/plain": [
       "<pandas.io.formats.style.Styler at 0x172406780>"
      ]
     },
     "execution_count": 1317,
     "metadata": {},
     "output_type": "execute_result"
    }
   ],
   "source": [
    "import seaborn as sns\n",
    "cmap = cmap=sns.diverging_palette(5, 250, as_cmap=True)\n",
    "corr=reveiws.corr()\n",
    "def magnify():\n",
    "    return [dict(selector=\"th\",\n",
    "                 props=[(\"font-size\", \"7pt\")]),\n",
    "            dict(selector=\"td\",\n",
    "                 props=[('padding', \"0em 0em\")]),\n",
    "            dict(selector=\"th:hover\",\n",
    "                 props=[(\"font-size\", \"12pt\")]),\n",
    "            dict(selector=\"tr:hover td:hover\",\n",
    "                 props=[('max-width', '200px'),\n",
    "                        ('font-size', '12pt')])\n",
    "]\n",
    "\n",
    "corr.style.background_gradient(cmap, axis=1)\\\n",
    "    .set_properties(**{'max-width': '80px', 'font-size': '10pt'})\\\n",
    "    .set_caption(\"Hover to magify\")\\\n",
    "    .set_precision(2)\\\n",
    "    .set_table_styles(magnify())"
   ]
  },
  {
   "cell_type": "raw",
   "metadata": {},
   "source": [
    "* adjective count highly corelated with length of reveiw."
   ]
  },
  {
   "cell_type": "markdown",
   "metadata": {},
   "source": [
    "### some more plots"
   ]
  },
  {
   "cell_type": "code",
   "execution_count": 728,
   "metadata": {},
   "outputs": [],
   "source": [
    "import numpy as np\n",
    "import matplotlib as plt \n",
    "\n",
    "ver1=reveiws.loc[reveiws['verified']==1]\n",
    "notver2=reveiws.loc[reveiws['verified']==0]\n"
   ]
  },
  {
   "cell_type": "code",
   "execution_count": 776,
   "metadata": {},
   "outputs": [
    {
     "data": {
      "text/plain": [
       "<matplotlib.legend.Legend at 0x17ddab630>"
      ]
     },
     "execution_count": 776,
     "metadata": {},
     "output_type": "execute_result"
    },
    {
     "data": {
      "image/png": "[encoded data removed]",
      "text/plain": [
       "<Figure size 432x288 with 1 Axes>"
      ]
     },
     "metadata": {},
     "output_type": "display_data"
    }
   ],
   "source": [
    "\n",
    "sns.distplot(ver1['polarity'], hist=True, rug=True)\n",
    "sns.distplot(notver2['polarity'], hist=True, rug=True)\n",
    "plt.title(\"distribution of polarity\")\n",
    "plt.legend(['verified', 'not verified'],fontsize=12)"
   ]
  },
  {
   "cell_type": "code",
   "execution_count": 782,
   "metadata": {},
   "outputs": [
    {
     "data": {
      "text/plain": [
       "Text(0.5, 1.0, 'distribution of vader-score')"
      ]
     },
     "execution_count": 782,
     "metadata": {},
     "output_type": "execute_result"
    },
    {
     "data": {
      "image/png": "[encoded data removed]",
      "text/plain": [
       "<Figure size 432x288 with 1 Axes>"
      ]
     },
     "metadata": {},
     "output_type": "display_data"
    }
   ],
   "source": [
    "import numpy as np\n",
    "import matplotlib.pyplot as plt \n",
    "from sklearn.datasets import load_iris\n",
    "fig = plt.figure()\n",
    "sns.distplot(ver1['vader-score'], hist=True, rug=True,axlabel='verified')\n",
    "sns.distplot(notver2['vader-score'], hist=True, rug=True)\n",
    "plt.legend(['verified', 'not verified'],fontsize=12)\n",
    "plt.title(\"distribution of vader-score\")"
   ]
  },
  {
   "cell_type": "raw",
   "metadata": {},
   "source": [
    "* the polarity distribution shows that the audience is mostly positively biased."
   ]
  },
  {
   "cell_type": "code",
   "execution_count": 785,
   "metadata": {
    "scrolled": true
   },
   "outputs": [
    {
     "data": {
      "text/plain": [
       "Text(0.5, 1.0, 'polarity-rating trend')"
      ]
     },
     "execution_count": 785,
     "metadata": {},
     "output_type": "execute_result"
    },
    {
     "data": {
      "image/png": "[encoded data removed]",
      "text/plain": [
       "<Figure size 432x288 with 1 Axes>"
      ]
     },
     "metadata": {},
     "output_type": "display_data"
    }
   ],
   "source": [
    "import matplotlib.pyplot as plt \n",
    "fig = plt.figure()\n",
    "sns.boxenplot(x=reveiws['rating'], y=reveiws['polarity'], data=reveiws)\n",
    "plt.title(\"polarity-rating trend\")\n"
   ]
  },
  {
   "cell_type": "raw",
   "metadata": {},
   "source": [
    "* rating and their polarity has a positive corelation. which means people who are rating higher are most likely to have over-rated the movie where as the near-neutral audience has rated it around 3"
   ]
  },
  {
   "cell_type": "code",
   "execution_count": 793,
   "metadata": {},
   "outputs": [
    {
     "data": {
      "text/plain": [
       "Text(0.5, 1.0, 'reveiw length-rating trend')"
      ]
     },
     "execution_count": 793,
     "metadata": {},
     "output_type": "execute_result"
    },
    {
     "data": {
      "image/png": "[encoded data removed]",
      "text/plain": [
       "<Figure size 432x288 with 1 Axes>"
      ]
     },
     "metadata": {},
     "output_type": "display_data"
    }
   ],
   "source": [
    "fig = plt.figure()\n",
    "sns.boxenplot(x=reveiws['rating'], y=reveiws['len'], data=reveiws)\n",
    "plt.title(\"reveiw length-rating trend\")"
   ]
  },
  {
   "cell_type": "raw",
   "metadata": {},
   "source": [
    "* the longer reveiws are written by critics or haters who have gone all the way to express       dicontent."
   ]
  },
  {
   "cell_type": "code",
   "execution_count": 786,
   "metadata": {},
   "outputs": [
    {
     "data": {
      "text/plain": [
       "Text(0.5, 1.0, 'distribution of subjectivity')"
      ]
     },
     "execution_count": 786,
     "metadata": {},
     "output_type": "execute_result"
    },
    {
     "data": {
      "image/png": "[encoded data removed]",
      "text/plain": [
       "<Figure size 432x288 with 1 Axes>"
      ]
     },
     "metadata": {},
     "output_type": "display_data"
    }
   ],
   "source": [
    "sns.distplot(ver1['subjectivity'], hist=True, rug=True,axlabel='verified')\n",
    "sns.distplot(notver2['subjectivity'], hist=True, rug=True)\n",
    "plt.title(\"distribution of subjectivity\")"
   ]
  },
  {
   "cell_type": "raw",
   "metadata": {},
   "source": [
    "* subjectivity also shows a tilt towards higher side indicating the higher probability of audience being influenced by their own interests and opinions while writing reveiws."
   ]
  },
  {
   "cell_type": "raw",
   "metadata": {},
   "source": [
    "wordcloud showing the most frequent words."
   ]
  },
  {
   "cell_type": "code",
   "execution_count": 209,
   "metadata": {},
   "outputs": [],
   "source": [
    "import nltk\n",
    "from nltk.stem import WordNetLemmatizer"
   ]
  },
  {
   "cell_type": "code",
   "execution_count": 210,
   "metadata": {},
   "outputs": [],
   "source": [
    "words = reveiws.review.str.cat(sep=' ')\n",
    "#function to split text into word\n",
    "tokens = word_tokenize(words)\n",
    "stop_words = set(stopwords.words('english'))\n",
    "stopwordrmvd = [w for w in tokens if not w in stop_words]\n",
    "lmt = WordNetLemmatizer()\n",
    "adj_freq = [lmt.lemmatize(i) for i in reveiws['adjectives']]\n",
    "word_freq = [lmt.lemmatize(i) for i in reveiws['review-short']]\n",
    "adj_dist = nltk.FreqDist(adj_freq)\n",
    "word_dist = nltk.FreqDist(word_freq)\n"
   ]
  },
  {
   "cell_type": "code",
   "execution_count": 1141,
   "metadata": {},
   "outputs": [
    {
     "data": {
      "image/png": "[encoded data removed]",
      "text/plain": [
       "<Figure size 432x288 with 1 Axes>"
      ]
     },
     "metadata": {
      "needs_background": "light"
     },
     "output_type": "display_data"
    }
   ],
   "source": [
    "#most frequent words\n",
    "from wordcloud import WordCloud\n",
    "import matplotlib.pyplot as plt\n",
    "wordcloud = WordCloud().generate_from_frequencies(word_dist)\n",
    "plt.imshow(wordcloud)\n",
    "plt.axis(\"off\")\n",
    "plt.show()"
   ]
  },
  {
   "cell_type": "code",
   "execution_count": 212,
   "metadata": {},
   "outputs": [
    {
     "data": {
      "image/png": "[encoded data removed]",
      "text/plain": [
       "<Figure size 432x288 with 1 Axes>"
      ]
     },
     "metadata": {
      "needs_background": "light"
     },
     "output_type": "display_data"
    }
   ],
   "source": [
    "#most frequent adjectives\n",
    "from wordcloud import WordCloud\n",
    "import matplotlib.pyplot as plt\n",
    "wordcloud = WordCloud().generate_from_frequencies(adj_dist)\n",
    "plt.imshow(wordcloud)\n",
    "plt.axis(\"off\")\n",
    "plt.show()"
   ]
  },
  {
   "cell_type": "code",
   "execution_count": 213,
   "metadata": {},
   "outputs": [],
   "source": [
    "#converting ngrams column format to str"
   ]
  },
  {
   "cell_type": "code",
   "execution_count": 1226,
   "metadata": {
    "scrolled": false
   },
   "outputs": [
    {
     "name": "stderr",
     "output_type": "stream",
     "text": [
      "/Users/pavankumar/anaconda3/lib/python3.7/site-packages/ipykernel_launcher.py:2: SettingWithCopyWarning: \n",
      "A value is trying to be set on a copy of a slice from a DataFrame\n",
      "\n",
      "See the caveats in the documentation: http://pandas.pydata.org/pandas-docs/stable/user_guide/indexing.html#returning-a-view-versus-a-copy\n",
      "  \n"
     ]
    }
   ],
   "source": [
    "for i in range (0,3000):\n",
    "    reveiws['ngrams'][i] = [item for sublist in reveiws['ngrams'][i] for item in sublist]"
   ]
  },
  {
   "cell_type": "code",
   "execution_count": 1227,
   "metadata": {},
   "outputs": [],
   "source": [
    "reveiws['ngrams'] = [' '.join(map(str, l)) for l in reveiws['ngrams']]"
   ]
  },
  {
   "cell_type": "code",
   "execution_count": 1228,
   "metadata": {},
   "outputs": [
    {
     "data": {
      "text/html": [
       "<div>\n",
       "<style scoped>\n",
       "    .dataframe tbody tr th:only-of-type {\n",
       "        vertical-align: middle;\n",
       "    }\n",
       "\n",
       "    .dataframe tbody tr th {\n",
       "        vertical-align: top;\n",
       "    }\n",
       "\n",
       "    .dataframe thead th {\n",
       "        text-align: right;\n",
       "    }\n",
       "</style>\n",
       "<table border=\"1\" class=\"dataframe\">\n",
       "  <thead>\n",
       "    <tr style=\"text-align: right;\">\n",
       "      <th></th>\n",
       "      <th>review</th>\n",
       "      <th>verified</th>\n",
       "      <th>profanity</th>\n",
       "      <th>rating</th>\n",
       "      <th>review-short</th>\n",
       "      <th>len</th>\n",
       "      <th>adjectives</th>\n",
       "      <th>adj-count</th>\n",
       "      <th>user_sentiment</th>\n",
       "      <th>ngrams</th>\n",
       "      <th>polarity</th>\n",
       "      <th>subjectivity</th>\n",
       "      <th>vader-score</th>\n",
       "    </tr>\n",
       "  </thead>\n",
       "  <tbody>\n",
       "    <tr>\n",
       "      <th>0</th>\n",
       "      <td>Every dog lover will absolutely love this movie</td>\n",
       "      <td>0</td>\n",
       "      <td>0</td>\n",
       "      <td>5.0</td>\n",
       "      <td>every dog lover absolutely love movie</td>\n",
       "      <td>6</td>\n",
       "      <td></td>\n",
       "      <td>0</td>\n",
       "      <td>0</td>\n",
       "      <td>Every dog dog lover lover will will absolutely...</td>\n",
       "      <td>0.500000</td>\n",
       "      <td>0.600000</td>\n",
       "      <td>0.8516</td>\n",
       "    </tr>\n",
       "    <tr>\n",
       "      <th>1</th>\n",
       "      <td>Nothing like the original but still good</td>\n",
       "      <td>1</td>\n",
       "      <td>0</td>\n",
       "      <td>5.0</td>\n",
       "      <td>nothing like original still good</td>\n",
       "      <td>5</td>\n",
       "      <td>original good</td>\n",
       "      <td>2</td>\n",
       "      <td>0</td>\n",
       "      <td>Nothing like like the the original original bu...</td>\n",
       "      <td>0.537500</td>\n",
       "      <td>0.675000</td>\n",
       "      <td>0.4242</td>\n",
       "    </tr>\n",
       "    <tr>\n",
       "      <th>2</th>\n",
       "      <td>Pretty much a faithful retelling on the animat...</td>\n",
       "      <td>0</td>\n",
       "      <td>0</td>\n",
       "      <td>4.0</td>\n",
       "      <td>pretty much faithful retelling animated classi...</td>\n",
       "      <td>44</td>\n",
       "      <td>faithful animated classic new different origin...</td>\n",
       "      <td>15</td>\n",
       "      <td>0</td>\n",
       "      <td>Pretty much much a a faithful faithful retelli...</td>\n",
       "      <td>0.148844</td>\n",
       "      <td>0.605521</td>\n",
       "      <td>-0.4398</td>\n",
       "    </tr>\n",
       "    <tr>\n",
       "      <th>3</th>\n",
       "      <td>The original story line was there and the movi...</td>\n",
       "      <td>0</td>\n",
       "      <td>0</td>\n",
       "      <td>3.5</td>\n",
       "      <td>original story line movie gave feels needed lo...</td>\n",
       "      <td>22</td>\n",
       "      <td>original much nat half</td>\n",
       "      <td>4</td>\n",
       "      <td>0</td>\n",
       "      <td>The original original story story line line wa...</td>\n",
       "      <td>0.089583</td>\n",
       "      <td>0.379167</td>\n",
       "      <td>0.1655</td>\n",
       "    </tr>\n",
       "    <tr>\n",
       "      <th>4</th>\n",
       "      <td>there is nothing bad about the movie, I just f...</td>\n",
       "      <td>1</td>\n",
       "      <td>0</td>\n",
       "      <td>4.0</td>\n",
       "      <td>nothing bad movie felt enjoyed original</td>\n",
       "      <td>7</td>\n",
       "      <td>bad original more</td>\n",
       "      <td>3</td>\n",
       "      <td>0</td>\n",
       "      <td>there is is nothing nothing bad bad about abou...</td>\n",
       "      <td>0.168750</td>\n",
       "      <td>0.654167</td>\n",
       "      <td>0.8151</td>\n",
       "    </tr>\n",
       "  </tbody>\n",
       "</table>\n",
       "</div>"
      ],
      "text/plain": [
       "                                              review  verified  profanity  \\\n",
       "0    Every dog lover will absolutely love this movie         0          0   \n",
       "1           Nothing like the original but still good         1          0   \n",
       "2  Pretty much a faithful retelling on the animat...         0          0   \n",
       "3  The original story line was there and the movi...         0          0   \n",
       "4  there is nothing bad about the movie, I just f...         1          0   \n",
       "\n",
       "   rating                                       review-short  len  \\\n",
       "0     5.0              every dog lover absolutely love movie    6   \n",
       "1     5.0                   nothing like original still good    5   \n",
       "2     4.0  pretty much faithful retelling animated classi...   44   \n",
       "3     3.5  original story line movie gave feels needed lo...   22   \n",
       "4     4.0            nothing bad movie felt enjoyed original    7   \n",
       "\n",
       "                                          adjectives  adj-count  \\\n",
       "0                                                             0   \n",
       "1                                      original good          2   \n",
       "2  faithful animated classic new different origin...         15   \n",
       "3                             original much nat half          4   \n",
       "4                                  bad original more          3   \n",
       "\n",
       "   user_sentiment                                             ngrams  \\\n",
       "0               0  Every dog dog lover lover will will absolutely...   \n",
       "1               0  Nothing like like the the original original bu...   \n",
       "2               0  Pretty much much a a faithful faithful retelli...   \n",
       "3               0  The original original story story line line wa...   \n",
       "4               0  there is is nothing nothing bad bad about abou...   \n",
       "\n",
       "   polarity  subjectivity  vader-score  \n",
       "0  0.500000      0.600000       0.8516  \n",
       "1  0.537500      0.675000       0.4242  \n",
       "2  0.148844      0.605521      -0.4398  \n",
       "3  0.089583      0.379167       0.1655  \n",
       "4  0.168750      0.654167       0.8151  "
      ]
     },
     "execution_count": 1228,
     "metadata": {},
     "output_type": "execute_result"
    }
   ],
   "source": [
    "reveiws.head()"
   ]
  },
  {
   "cell_type": "code",
   "execution_count": 1229,
   "metadata": {},
   "outputs": [],
   "source": [
    "import nltk\n",
    "ngram_freq = nltk.FreqDist(reveiws['ngrams'])\n",
    "ngram_dist = nltk.FreqDist(ngram_freq)"
   ]
  },
  {
   "cell_type": "code",
   "execution_count": 1230,
   "metadata": {},
   "outputs": [
    {
     "data": {
      "image/png": "[encoded data removed]",
      "text/plain": [
       "<Figure size 432x288 with 1 Axes>"
      ]
     },
     "metadata": {
      "needs_background": "light"
     },
     "output_type": "display_data"
    }
   ],
   "source": [
    "#most frequent ngrams\n",
    "from wordcloud import WordCloud\n",
    "import matplotlib.pyplot as plt\n",
    "wordcloud = WordCloud().generate_from_frequencies(ngram_dist)\n",
    "plt.imshow(wordcloud)\n",
    "plt.axis(\"off\")\n",
    "plt.show()"
   ]
  },
  {
   "cell_type": "raw",
   "metadata": {},
   "source": [
    "* most frequent occuring words are positive giving us an overall picture of sentiments among audience\n",
    "* we don't observe any significantly frequent ngrams."
   ]
  },
  {
   "cell_type": "markdown",
   "metadata": {},
   "source": [
    "### strange observations"
   ]
  },
  {
   "cell_type": "raw",
   "metadata": {},
   "source": [
    "* lets take a look at how the library functions have rated. there were 309 cases where the polarity score of textblob   and vader compound score were entirely opposite.\n",
    "\n",
    "* there are also cases where the rating was high and the vader- score was low and vice versa.\n",
    "\n"
   ]
  },
  {
   "cell_type": "code",
   "execution_count": 1136,
   "metadata": {},
   "outputs": [],
   "source": [
    "import pandas as pd\n",
    "exceptions=pd.read_csv(\"/Users/pavankumar/Downloads/phd/exceptions.csv\")"
   ]
  },
  {
   "cell_type": "code",
   "execution_count": 1137,
   "metadata": {},
   "outputs": [],
   "source": [
    "exceptions=exceptions[exceptions['vader-score']!=0]"
   ]
  },
  {
   "cell_type": "code",
   "execution_count": 1138,
   "metadata": {},
   "outputs": [
    {
     "data": {
      "text/plain": [
       "(309, 5)"
      ]
     },
     "execution_count": 1138,
     "metadata": {},
     "output_type": "execute_result"
    }
   ],
   "source": [
    "exceptions.shape"
   ]
  },
  {
   "cell_type": "code",
   "execution_count": 1139,
   "metadata": {
    "scrolled": true
   },
   "outputs": [
    {
     "data": {
      "text/html": [
       "<div>\n",
       "<style scoped>\n",
       "    .dataframe tbody tr th:only-of-type {\n",
       "        vertical-align: middle;\n",
       "    }\n",
       "\n",
       "    .dataframe tbody tr th {\n",
       "        vertical-align: top;\n",
       "    }\n",
       "\n",
       "    .dataframe thead th {\n",
       "        text-align: right;\n",
       "    }\n",
       "</style>\n",
       "<table border=\"1\" class=\"dataframe\">\n",
       "  <thead>\n",
       "    <tr style=\"text-align: right;\">\n",
       "      <th></th>\n",
       "      <th>review</th>\n",
       "      <th>rating</th>\n",
       "      <th>polarity</th>\n",
       "      <th>subjectivity</th>\n",
       "      <th>vader-score</th>\n",
       "    </tr>\n",
       "  </thead>\n",
       "  <tbody>\n",
       "    <tr>\n",
       "      <th>0</th>\n",
       "      <td>Pretty much a faithful retelling on the animat...</td>\n",
       "      <td>4.0</td>\n",
       "      <td>0.148844</td>\n",
       "      <td>0.605521</td>\n",
       "      <td>-0.4398</td>\n",
       "    </tr>\n",
       "    <tr>\n",
       "      <th>1</th>\n",
       "      <td>Soulless and uninspired, I expected at least a...</td>\n",
       "      <td>2.5</td>\n",
       "      <td>-0.117500</td>\n",
       "      <td>0.660000</td>\n",
       "      <td>0.7216</td>\n",
       "    </tr>\n",
       "    <tr>\n",
       "      <th>2</th>\n",
       "      <td>It was just okay. Had to leave, 3 year old cou...</td>\n",
       "      <td>3.0</td>\n",
       "      <td>0.300000</td>\n",
       "      <td>0.350000</td>\n",
       "      <td>-0.1426</td>\n",
       "    </tr>\n",
       "    <tr>\n",
       "      <th>3</th>\n",
       "      <td>Not even remotely good as the original</td>\n",
       "      <td>1.5</td>\n",
       "      <td>0.537500</td>\n",
       "      <td>0.675000</td>\n",
       "      <td>-0.0274</td>\n",
       "    </tr>\n",
       "    <tr>\n",
       "      <th>5</th>\n",
       "      <td>some good features but nothing like the origin...</td>\n",
       "      <td>2.5</td>\n",
       "      <td>0.537500</td>\n",
       "      <td>0.675000</td>\n",
       "      <td>-0.4867</td>\n",
       "    </tr>\n",
       "  </tbody>\n",
       "</table>\n",
       "</div>"
      ],
      "text/plain": [
       "                                              review  rating  polarity  \\\n",
       "0  Pretty much a faithful retelling on the animat...     4.0  0.148844   \n",
       "1  Soulless and uninspired, I expected at least a...     2.5 -0.117500   \n",
       "2  It was just okay. Had to leave, 3 year old cou...     3.0  0.300000   \n",
       "3             Not even remotely good as the original     1.5  0.537500   \n",
       "5  some good features but nothing like the origin...     2.5  0.537500   \n",
       "\n",
       "   subjectivity  vader-score  \n",
       "0      0.605521      -0.4398  \n",
       "1      0.660000       0.7216  \n",
       "2      0.350000      -0.1426  \n",
       "3      0.675000      -0.0274  \n",
       "5      0.675000      -0.4867  "
      ]
     },
     "execution_count": 1139,
     "metadata": {},
     "output_type": "execute_result"
    }
   ],
   "source": [
    "exceptions.head()"
   ]
  },
  {
   "cell_type": "raw",
   "metadata": {},
   "source": [
    "NOTEWORTHY POINTS:\n",
    "\n",
    "* These libraries i have used work only with text and does not consider sarcasm, double         negetives,context etc.\n",
    "\n",
    "* we are considering only rating in determining the target column sentiment and also for         training model which can be very misleading and gives no idea of context or moods.\n",
    "\n",
    "* using just the sentiment scores may miss some exceptional cases as it gives a lot of           importance to words as per the data its trained on.\n",
    "\n",
    "* we can include these scores and many more attributes to improve our process of sentiment       analysis and rating prediction.\n",
    "\n",
    "* maybe if we get into the working of these scores we may find advantages and disadvantages of   both so that we can think of ways to combine them for better results or to answer: \"when to   use what?\"\n",
    "\n",
    "* there are many algorithms that capture the context which i may use in the upcoming part       depending on the constraints."
   ]
  },
  {
   "cell_type": "markdown",
   "metadata": {},
   "source": [
    "### Modelling"
   ]
  },
  {
   "cell_type": "markdown",
   "metadata": {},
   "source": [
    "#### import libraries, X-y split and train-test split"
   ]
  },
  {
   "cell_type": "code",
   "execution_count": 493,
   "metadata": {},
   "outputs": [],
   "source": [
    "import pandas as pd\n",
    "import numpy as np\n",
    "import pickle\n",
    "import sys\n",
    "import os\n",
    "import io\n",
    "import re\n",
    "from sys import path\n",
    "\n",
    "import pickle\n",
    "from sklearn.feature_extraction.text import TfidfVectorizer\n",
    "from sklearn.naive_bayes import MultinomialNB\n",
    "from sklearn.model_selection import train_test_split\n",
    "from sklearn.preprocessing import LabelBinarizer\n",
    "import matplotlib.pyplot as plt\n",
    "from string import punctuation, digits\n",
    "from IPython.core.display import display, HTML\n",
    "from nltk.corpus import stopwords\n",
    "from sklearn import metrics\n",
    "from nltk.tokenize import word_tokenize\n",
    "from nltk.tokenize import RegexpTokenizer\n"
   ]
  },
  {
   "cell_type": "code",
   "execution_count": 494,
   "metadata": {},
   "outputs": [],
   "source": [
    "#lemmatize the words in corpus\n",
    "import nltk\n",
    "from nltk.stem import WordNetLemmatizer\n",
    "lmt = WordNetLemmatizer()\n",
    "reveiws['review']= [lmt.lemmatize(word) for word in reveiws['review']]\n",
    "reveiws['review-short']= [lmt.lemmatize(word) for word in reveiws['review-short']]"
   ]
  },
  {
   "cell_type": "code",
   "execution_count": 1244,
   "metadata": {},
   "outputs": [],
   "source": [
    "reveiws.drop(['rating'],axis=1,inplace=True)\n",
    "\n",
    "y=reveiws['user_sentiment']\n",
    "\n",
    "X=reveiws['review-short']\n",
    "\n"
   ]
  },
  {
   "cell_type": "code",
   "execution_count": 1245,
   "metadata": {},
   "outputs": [
    {
     "data": {
      "text/plain": [
       "(3000,)"
      ]
     },
     "execution_count": 1245,
     "metadata": {},
     "output_type": "execute_result"
    }
   ],
   "source": [
    "X.shape"
   ]
  },
  {
   "cell_type": "code",
   "execution_count": 1246,
   "metadata": {},
   "outputs": [
    {
     "name": "stdout",
     "output_type": "stream",
     "text": [
      "(2100,) (900,) (2100,) (900,)\n"
     ]
    }
   ],
   "source": [
    "X_train, X_test, y_train, y_test = train_test_split(X, y, test_size=0.30, random_state=123)\n",
    "\n",
    "print(X_train.shape,X_test.shape,y_train.shape,y_test.shape)"
   ]
  },
  {
   "cell_type": "markdown",
   "metadata": {},
   "source": [
    "#### 1. Logistic regression"
   ]
  },
  {
   "cell_type": "code",
   "execution_count": 315,
   "metadata": {},
   "outputs": [],
   "source": [
    "from sklearn.linear_model import LogisticRegression\n",
    "from sklearn.feature_extraction.text import TfidfVectorizer\n",
    "from sklearn.feature_extraction.text import TfidfTransformer\n",
    "from sklearn.metrics import classification_report"
   ]
  },
  {
   "cell_type": "code",
   "execution_count": 316,
   "metadata": {},
   "outputs": [
    {
     "name": "stdout",
     "output_type": "stream",
     "text": [
      "(2100, 23790) (900, 23790)\n"
     ]
    }
   ],
   "source": [
    "\n",
    "vectorizer = TfidfVectorizer(ngram_range=(1, 2),use_idf=True)\n",
    "train_vect=vectorizer.fit_transform(X_train)\n",
    "test_vect=vectorizer.transform(X_test)\n",
    "logreg=LogisticRegression()\n",
    "print(train_vect.shape,test_vect.shape)"
   ]
  },
  {
   "cell_type": "code",
   "execution_count": 322,
   "metadata": {},
   "outputs": [
    {
     "name": "stderr",
     "output_type": "stream",
     "text": [
      "/Users/pavankumar/anaconda3/lib/python3.7/site-packages/sklearn/linear_model/logistic.py:432: FutureWarning: Default solver will be changed to 'lbfgs' in 0.22. Specify a solver to silence this warning.\n",
      "  FutureWarning)\n"
     ]
    }
   ],
   "source": [
    "from sklearn.linear_model import LogisticRegression\n",
    "\n",
    "logreg = LogisticRegression().fit(train_vect,y_train)\n",
    "\n"
   ]
  },
  {
   "cell_type": "code",
   "execution_count": 324,
   "metadata": {
    "scrolled": true
   },
   "outputs": [],
   "source": [
    "log_pred=logreg.predict(test_vect)"
   ]
  },
  {
   "cell_type": "code",
   "execution_count": 326,
   "metadata": {
    "scrolled": true
   },
   "outputs": [
    {
     "name": "stdout",
     "output_type": "stream",
     "text": [
      "              precision    recall  f1-score   support\n",
      "\n",
      "           0       0.78      0.97      0.86       652\n",
      "           1       0.76      0.28      0.41       248\n",
      "\n",
      "    accuracy                           0.78       900\n",
      "   macro avg       0.77      0.62      0.64       900\n",
      "weighted avg       0.77      0.78      0.74       900\n",
      "\n"
     ]
    }
   ],
   "source": [
    "print(classification_report(y_test,log_pred, digits=2))"
   ]
  },
  {
   "cell_type": "raw",
   "metadata": {},
   "source": [
    "* logistic regression as a base model performed just fine with a max f1 score of 0.54 for the   class-1 in validation and 0.50 on test data"
   ]
  },
  {
   "cell_type": "markdown",
   "metadata": {},
   "source": [
    "#### 2. Simple neural net"
   ]
  },
  {
   "cell_type": "code",
   "execution_count": 927,
   "metadata": {},
   "outputs": [
    {
     "name": "stderr",
     "output_type": "stream",
     "text": [
      "W0829 10:29:48.748808 140735876789184 deprecation.py:506] From /Users/pavankumar/anaconda3/lib/python3.7/site-packages/keras/backend/tensorflow_backend.py:3445: calling dropout (from tensorflow.python.ops.nn_ops) with keep_prob is deprecated and will be removed in a future version.\n",
      "Instructions for updating:\n",
      "Please use `rate` instead of `keep_prob`. Rate should be set to `rate = 1 - keep_prob`.\n"
     ]
    }
   ],
   "source": [
    "from keras.models import Sequential\n",
    "from keras import layers\n",
    "from keras.layers import Dense, Dropout, BatchNormalization\n",
    "\n",
    "input_dim = train_vect.shape[1]  # Number of features\n",
    "\n",
    "model = Sequential()\n",
    "\n",
    "model.add(layers.Dense(32, input_dim=input_dim, activation='relu'))\n",
    "model.add(BatchNormalization())\n",
    "model.add(Dropout(0.3))\n",
    "\n",
    "model.add(layers.Dense(21, input_dim=input_dim, activation='tanh'))\n",
    "model.add(BatchNormalization())\n",
    "model.add(Dropout(0.2))\n",
    "\n",
    "model.add(layers.Dense(11, input_dim=input_dim, activation='relu'))\n",
    "model.add(BatchNormalization())\n",
    "model.add(Dropout(0.1))\n",
    "                                                            \n",
    "model.add(layers.Dense(5, input_dim=input_dim, activation='tanh'))\n",
    "model.add(BatchNormalization())\n",
    "\n",
    "                                                            \n",
    "model.add(layers.Dense(1, activation='sigmoid'))"
   ]
  },
  {
   "cell_type": "code",
   "execution_count": 928,
   "metadata": {},
   "outputs": [
    {
     "name": "stdout",
     "output_type": "stream",
     "text": [
      "_________________________________________________________________\n",
      "Layer (type)                 Output Shape              Param #   \n",
      "=================================================================\n",
      "dense_24 (Dense)             (None, 32)                761312    \n",
      "_________________________________________________________________\n",
      "batch_normalization_1 (Batch (None, 32)                128       \n",
      "_________________________________________________________________\n",
      "dropout_1 (Dropout)          (None, 32)                0         \n",
      "_________________________________________________________________\n",
      "dense_25 (Dense)             (None, 21)                693       \n",
      "_________________________________________________________________\n",
      "batch_normalization_2 (Batch (None, 21)                84        \n",
      "_________________________________________________________________\n",
      "dropout_2 (Dropout)          (None, 21)                0         \n",
      "_________________________________________________________________\n",
      "dense_26 (Dense)             (None, 11)                242       \n",
      "_________________________________________________________________\n",
      "batch_normalization_3 (Batch (None, 11)                44        \n",
      "_________________________________________________________________\n",
      "dropout_3 (Dropout)          (None, 11)                0         \n",
      "_________________________________________________________________\n",
      "dense_27 (Dense)             (None, 5)                 60        \n",
      "_________________________________________________________________\n",
      "batch_normalization_4 (Batch (None, 5)                 20        \n",
      "_________________________________________________________________\n",
      "dense_28 (Dense)             (None, 1)                 6         \n",
      "=================================================================\n",
      "Total params: 762,589\n",
      "Trainable params: 762,451\n",
      "Non-trainable params: 138\n",
      "_________________________________________________________________\n"
     ]
    }
   ],
   "source": [
    "model.compile(loss='binary_crossentropy', optimizer='adam', metrics=['accuracy'])\n",
    "model.summary()"
   ]
  },
  {
   "cell_type": "code",
   "execution_count": 929,
   "metadata": {},
   "outputs": [
    {
     "data": {
      "text/plain": [
       "<keras.callbacks.History at 0x182506438>"
      ]
     },
     "execution_count": 929,
     "metadata": {},
     "output_type": "execute_result"
    }
   ],
   "source": [
    "model.fit(train_vect,y_train,epochs=50, verbose=False, batch_size=5)"
   ]
  },
  {
   "cell_type": "code",
   "execution_count": 930,
   "metadata": {},
   "outputs": [],
   "source": [
    "nn_pred=model.predict_classes(test_vect)"
   ]
  },
  {
   "cell_type": "code",
   "execution_count": 931,
   "metadata": {},
   "outputs": [
    {
     "name": "stdout",
     "output_type": "stream",
     "text": [
      "              precision    recall  f1-score   support\n",
      "\n",
      "           0       0.92      0.82      0.87       731\n",
      "           1       0.48      0.71      0.58       169\n",
      "\n",
      "    accuracy                           0.80       900\n",
      "   macro avg       0.70      0.77      0.72       900\n",
      "weighted avg       0.84      0.80      0.82       900\n",
      "\n"
     ]
    }
   ],
   "source": [
    "from sklearn.metrics import classification_report\n",
    "print(classification_report(nn_pred,y_test, digits=2))"
   ]
  },
  {
   "cell_type": "raw",
   "metadata": {},
   "source": [
    "* this simple neural network was ran through various hyperparameters. it gave a maximum f1       score of 0.70 on validation data and 0.64 on test data"
   ]
  },
  {
   "cell_type": "markdown",
   "metadata": {},
   "source": [
    "#### 3. Multinomial Naive bayes"
   ]
  },
  {
   "cell_type": "code",
   "execution_count": 327,
   "metadata": {},
   "outputs": [],
   "source": [
    "from sklearn.pipeline import Pipeline\n",
    "from sklearn.naive_bayes import MultinomialNB\n",
    "from sklearn.feature_extraction.text import CountVectorizer, TfidfTransformer\n",
    "from sklearn.model_selection import train_test_split, GridSearchCV\n",
    "text_clf = Pipeline([('vect', CountVectorizer()),\n",
    "                     ('tfidf', TfidfTransformer()),\n",
    "                     ('clf', MultinomialNB())])\n",
    "tuned_parameters = {\n",
    "    'vect__ngram_range': [(1, 1), (1, 2), (2, 2)],\n",
    "    'tfidf__use_idf': (True, False),\n",
    "    'tfidf__norm': ('l1', 'l2'),\n",
    "    'clf__alpha': [1, 1e-1, 1e-2]\n",
    "}\n",
    "\n"
   ]
  },
  {
   "cell_type": "code",
   "execution_count": 334,
   "metadata": {},
   "outputs": [],
   "source": [
    "from sklearn.metrics import classification_report\n",
    "clf = GridSearchCV(text_clf, tuned_parameters, cv=5, scoring=\"precision\")\n",
    "\n"
   ]
  },
  {
   "cell_type": "code",
   "execution_count": 335,
   "metadata": {},
   "outputs": [
    {
     "name": "stderr",
     "output_type": "stream",
     "text": [
      "/Users/pavankumar/anaconda3/lib/python3.7/site-packages/sklearn/metrics/classification.py:1437: UndefinedMetricWarning: Precision is ill-defined and being set to 0.0 due to no predicted samples.\n",
      "  'precision', 'predicted', average, warn_for)\n",
      "/Users/pavankumar/anaconda3/lib/python3.7/site-packages/sklearn/metrics/classification.py:1437: UndefinedMetricWarning: Precision is ill-defined and being set to 0.0 due to no predicted samples.\n",
      "  'precision', 'predicted', average, warn_for)\n",
      "/Users/pavankumar/anaconda3/lib/python3.7/site-packages/sklearn/metrics/classification.py:1437: UndefinedMetricWarning: Precision is ill-defined and being set to 0.0 due to no predicted samples.\n",
      "  'precision', 'predicted', average, warn_for)\n",
      "/Users/pavankumar/anaconda3/lib/python3.7/site-packages/sklearn/metrics/classification.py:1437: UndefinedMetricWarning: Precision is ill-defined and being set to 0.0 due to no predicted samples.\n",
      "  'precision', 'predicted', average, warn_for)\n",
      "/Users/pavankumar/anaconda3/lib/python3.7/site-packages/sklearn/metrics/classification.py:1437: UndefinedMetricWarning: Precision is ill-defined and being set to 0.0 due to no predicted samples.\n",
      "  'precision', 'predicted', average, warn_for)\n",
      "/Users/pavankumar/anaconda3/lib/python3.7/site-packages/sklearn/metrics/classification.py:1437: UndefinedMetricWarning: Precision is ill-defined and being set to 0.0 due to no predicted samples.\n",
      "  'precision', 'predicted', average, warn_for)\n",
      "/Users/pavankumar/anaconda3/lib/python3.7/site-packages/sklearn/metrics/classification.py:1437: UndefinedMetricWarning: Precision is ill-defined and being set to 0.0 due to no predicted samples.\n",
      "  'precision', 'predicted', average, warn_for)\n",
      "/Users/pavankumar/anaconda3/lib/python3.7/site-packages/sklearn/metrics/classification.py:1437: UndefinedMetricWarning: Precision is ill-defined and being set to 0.0 due to no predicted samples.\n",
      "  'precision', 'predicted', average, warn_for)\n",
      "/Users/pavankumar/anaconda3/lib/python3.7/site-packages/sklearn/metrics/classification.py:1437: UndefinedMetricWarning: Precision is ill-defined and being set to 0.0 due to no predicted samples.\n",
      "  'precision', 'predicted', average, warn_for)\n",
      "/Users/pavankumar/anaconda3/lib/python3.7/site-packages/sklearn/metrics/classification.py:1437: UndefinedMetricWarning: Precision is ill-defined and being set to 0.0 due to no predicted samples.\n",
      "  'precision', 'predicted', average, warn_for)\n",
      "/Users/pavankumar/anaconda3/lib/python3.7/site-packages/sklearn/metrics/classification.py:1437: UndefinedMetricWarning: Precision is ill-defined and being set to 0.0 due to no predicted samples.\n",
      "  'precision', 'predicted', average, warn_for)\n",
      "/Users/pavankumar/anaconda3/lib/python3.7/site-packages/sklearn/metrics/classification.py:1437: UndefinedMetricWarning: Precision is ill-defined and being set to 0.0 due to no predicted samples.\n",
      "  'precision', 'predicted', average, warn_for)\n",
      "/Users/pavankumar/anaconda3/lib/python3.7/site-packages/sklearn/metrics/classification.py:1437: UndefinedMetricWarning: Precision is ill-defined and being set to 0.0 due to no predicted samples.\n",
      "  'precision', 'predicted', average, warn_for)\n",
      "/Users/pavankumar/anaconda3/lib/python3.7/site-packages/sklearn/metrics/classification.py:1437: UndefinedMetricWarning: Precision is ill-defined and being set to 0.0 due to no predicted samples.\n",
      "  'precision', 'predicted', average, warn_for)\n",
      "/Users/pavankumar/anaconda3/lib/python3.7/site-packages/sklearn/metrics/classification.py:1437: UndefinedMetricWarning: Precision is ill-defined and being set to 0.0 due to no predicted samples.\n",
      "  'precision', 'predicted', average, warn_for)\n",
      "/Users/pavankumar/anaconda3/lib/python3.7/site-packages/sklearn/metrics/classification.py:1437: UndefinedMetricWarning: Precision is ill-defined and being set to 0.0 due to no predicted samples.\n",
      "  'precision', 'predicted', average, warn_for)\n",
      "/Users/pavankumar/anaconda3/lib/python3.7/site-packages/sklearn/metrics/classification.py:1437: UndefinedMetricWarning: Precision is ill-defined and being set to 0.0 due to no predicted samples.\n",
      "  'precision', 'predicted', average, warn_for)\n",
      "/Users/pavankumar/anaconda3/lib/python3.7/site-packages/sklearn/metrics/classification.py:1437: UndefinedMetricWarning: Precision is ill-defined and being set to 0.0 due to no predicted samples.\n",
      "  'precision', 'predicted', average, warn_for)\n",
      "/Users/pavankumar/anaconda3/lib/python3.7/site-packages/sklearn/metrics/classification.py:1437: UndefinedMetricWarning: Precision is ill-defined and being set to 0.0 due to no predicted samples.\n",
      "  'precision', 'predicted', average, warn_for)\n",
      "/Users/pavankumar/anaconda3/lib/python3.7/site-packages/sklearn/metrics/classification.py:1437: UndefinedMetricWarning: Precision is ill-defined and being set to 0.0 due to no predicted samples.\n",
      "  'precision', 'predicted', average, warn_for)\n",
      "/Users/pavankumar/anaconda3/lib/python3.7/site-packages/sklearn/metrics/classification.py:1437: UndefinedMetricWarning: Precision is ill-defined and being set to 0.0 due to no predicted samples.\n",
      "  'precision', 'predicted', average, warn_for)\n",
      "/Users/pavankumar/anaconda3/lib/python3.7/site-packages/sklearn/metrics/classification.py:1437: UndefinedMetricWarning: Precision is ill-defined and being set to 0.0 due to no predicted samples.\n",
      "  'precision', 'predicted', average, warn_for)\n",
      "/Users/pavankumar/anaconda3/lib/python3.7/site-packages/sklearn/metrics/classification.py:1437: UndefinedMetricWarning: Precision is ill-defined and being set to 0.0 due to no predicted samples.\n",
      "  'precision', 'predicted', average, warn_for)\n",
      "/Users/pavankumar/anaconda3/lib/python3.7/site-packages/sklearn/metrics/classification.py:1437: UndefinedMetricWarning: Precision is ill-defined and being set to 0.0 due to no predicted samples.\n",
      "  'precision', 'predicted', average, warn_for)\n",
      "/Users/pavankumar/anaconda3/lib/python3.7/site-packages/sklearn/metrics/classification.py:1437: UndefinedMetricWarning: Precision is ill-defined and being set to 0.0 due to no predicted samples.\n",
      "  'precision', 'predicted', average, warn_for)\n",
      "/Users/pavankumar/anaconda3/lib/python3.7/site-packages/sklearn/metrics/classification.py:1437: UndefinedMetricWarning: Precision is ill-defined and being set to 0.0 due to no predicted samples.\n",
      "  'precision', 'predicted', average, warn_for)\n",
      "/Users/pavankumar/anaconda3/lib/python3.7/site-packages/sklearn/metrics/classification.py:1437: UndefinedMetricWarning: Precision is ill-defined and being set to 0.0 due to no predicted samples.\n",
      "  'precision', 'predicted', average, warn_for)\n",
      "/Users/pavankumar/anaconda3/lib/python3.7/site-packages/sklearn/metrics/classification.py:1437: UndefinedMetricWarning: Precision is ill-defined and being set to 0.0 due to no predicted samples.\n",
      "  'precision', 'predicted', average, warn_for)\n",
      "/Users/pavankumar/anaconda3/lib/python3.7/site-packages/sklearn/metrics/classification.py:1437: UndefinedMetricWarning: Precision is ill-defined and being set to 0.0 due to no predicted samples.\n",
      "  'precision', 'predicted', average, warn_for)\n",
      "/Users/pavankumar/anaconda3/lib/python3.7/site-packages/sklearn/metrics/classification.py:1437: UndefinedMetricWarning: Precision is ill-defined and being set to 0.0 due to no predicted samples.\n",
      "  'precision', 'predicted', average, warn_for)\n",
      "/Users/pavankumar/anaconda3/lib/python3.7/site-packages/sklearn/metrics/classification.py:1437: UndefinedMetricWarning: Precision is ill-defined and being set to 0.0 due to no predicted samples.\n",
      "  'precision', 'predicted', average, warn_for)\n",
      "/Users/pavankumar/anaconda3/lib/python3.7/site-packages/sklearn/metrics/classification.py:1437: UndefinedMetricWarning: Precision is ill-defined and being set to 0.0 due to no predicted samples.\n",
      "  'precision', 'predicted', average, warn_for)\n",
      "/Users/pavankumar/anaconda3/lib/python3.7/site-packages/sklearn/metrics/classification.py:1437: UndefinedMetricWarning: Precision is ill-defined and being set to 0.0 due to no predicted samples.\n",
      "  'precision', 'predicted', average, warn_for)\n",
      "/Users/pavankumar/anaconda3/lib/python3.7/site-packages/sklearn/model_selection/_search.py:813: DeprecationWarning: The default of the `iid` parameter will change from True to False in version 0.22 and will be removed in 0.24. This will change numeric results when test-set sizes are unequal.\n",
      "  DeprecationWarning)\n"
     ]
    },
    {
     "data": {
      "text/plain": [
       "GridSearchCV(cv=5, error_score='raise-deprecating',\n",
       "             estimator=Pipeline(memory=None,\n",
       "                                steps=[('vect',\n",
       "                                        CountVectorizer(analyzer='word',\n",
       "                                                        binary=False,\n",
       "                                                        decode_error='strict',\n",
       "                                                        dtype=<class 'numpy.int64'>,\n",
       "                                                        encoding='utf-8',\n",
       "                                                        input='content',\n",
       "                                                        lowercase=True,\n",
       "                                                        max_df=1.0,\n",
       "                                                        max_features=None,\n",
       "                                                        min_df=1,\n",
       "                                                        ngram_range=(1, 1),\n",
       "                                                        preprocessor=None,\n",
       "                                                        stop_words=None,\n",
       "                                                        strip_accents=None,\n",
       "                                                        tok...\n",
       "                                                         sublinear_tf=False,\n",
       "                                                         use_idf=True)),\n",
       "                                       ('clf',\n",
       "                                        MultinomialNB(alpha=1.0,\n",
       "                                                      class_prior=None,\n",
       "                                                      fit_prior=True))],\n",
       "                                verbose=False),\n",
       "             iid='warn', n_jobs=None,\n",
       "             param_grid={'clf__alpha': [1, 0.1, 0.01],\n",
       "                         'tfidf__norm': ('l1', 'l2'),\n",
       "                         'tfidf__use_idf': (True, False),\n",
       "                         'vect__ngram_range': [(1, 1), (1, 2), (2, 2)]},\n",
       "             pre_dispatch='2*n_jobs', refit=True, return_train_score=False,\n",
       "             scoring='precision', verbose=0)"
      ]
     },
     "execution_count": 335,
     "metadata": {},
     "output_type": "execute_result"
    }
   ],
   "source": [
    "clf.fit(X_train,y_train)\n",
    "\n"
   ]
  },
  {
   "cell_type": "code",
   "execution_count": 330,
   "metadata": {},
   "outputs": [],
   "source": [
    "p=clf.predict(X_test)"
   ]
  },
  {
   "cell_type": "code",
   "execution_count": 331,
   "metadata": {
    "scrolled": false
   },
   "outputs": [
    {
     "name": "stdout",
     "output_type": "stream",
     "text": [
      "              precision    recall  f1-score   support\n",
      "\n",
      "           0     0.7290    0.9985    0.8427       652\n",
      "           1     0.8571    0.0242    0.0471       248\n",
      "\n",
      "    accuracy                         0.7300       900\n",
      "   macro avg     0.7931    0.5113    0.4449       900\n",
      "weighted avg     0.7643    0.7300    0.6235       900\n",
      "\n"
     ]
    }
   ],
   "source": [
    "print(classification_report(y_test, p, digits=4))"
   ]
  },
  {
   "cell_type": "raw",
   "metadata": {},
   "source": [
    "* having read that naive bayes would perform well on similar problems, i tried this on my data but it failed miserably with a max of 0.09 on validation."
   ]
  },
  {
   "cell_type": "markdown",
   "metadata": {},
   "source": [
    "#### 4. SGD classifier"
   ]
  },
  {
   "cell_type": "code",
   "execution_count": 613,
   "metadata": {},
   "outputs": [],
   "source": [
    "from sklearn.neural_network import MLPClassifier\n",
    "from sklearn.feature_extraction.text import TfidfVectorizer\n",
    "from sklearn.linear_model import SGDClassifier"
   ]
  },
  {
   "cell_type": "code",
   "execution_count": 614,
   "metadata": {},
   "outputs": [],
   "source": [
    "#grid search result\n",
    "vectorizer = TfidfVectorizer(analyzer='word',ngram_range=(1,2),max_df=0.5,use_idf=True, max_features=10000,norm='l2') \n",
    "counts = vectorizer.fit_transform(X_train)\n",
    "classifier = SGDClassifier(alpha=1e-03,max_iter=5000,penalty='elasticnet')\n",
    "classifier = classifier.fit(counts, y_train)\n",
    "predictions_val = classifier.predict(vectorizer.transform(X_test))\n",
    "predictions_train = classifier.predict(vectorizer.transform(X_train))"
   ]
  },
  {
   "cell_type": "code",
   "execution_count": 615,
   "metadata": {},
   "outputs": [
    {
     "name": "stdout",
     "output_type": "stream",
     "text": [
      "              precision    recall  f1-score   support\n",
      "\n",
      "           0       0.78      0.97      0.86       652\n",
      "           1       0.77      0.29      0.42       248\n",
      "\n",
      "    accuracy                           0.78       900\n",
      "   macro avg       0.77      0.63      0.64       900\n",
      "weighted avg       0.78      0.78      0.74       900\n",
      "\n"
     ]
    }
   ],
   "source": [
    "from sklearn.metrics import classification_report\n",
    "print(classification_report(y_test, predictions_val))"
   ]
  },
  {
   "cell_type": "code",
   "execution_count": null,
   "metadata": {},
   "outputs": [],
   "source": [
    "predictions_val = classifier.predict(testdatvector)"
   ]
  },
  {
   "cell_type": "raw",
   "metadata": {},
   "source": [
    "* SGD worked well on my data giving a max score of 0.68 on validation data and 0.66 on test     data"
   ]
  },
  {
   "cell_type": "markdown",
   "metadata": {},
   "source": [
    "#### 5. SVC with tf-idf grid search"
   ]
  },
  {
   "cell_type": "code",
   "execution_count": 1240,
   "metadata": {},
   "outputs": [],
   "source": [
    "from sklearn.svm import SVC"
   ]
  },
  {
   "cell_type": "code",
   "execution_count": 1241,
   "metadata": {},
   "outputs": [],
   "source": [
    "from sklearn.model_selection import GridSearchCV\n",
    "\n",
    "svc_grid = SVC()\n",
    " \n",
    "\n",
    "param_grid = { \n",
    "                'C': [5,6,8,7,9],\n",
    "                'gamma': [0.5,0.1,0.3,0.4,0.2,1], \n",
    "                'kernel':['poly'],\n",
    "                'degree':[1]\n",
    "        \n",
    "                \n",
    "             }\n",
    "\n",
    " \n",
    "svc_cv_grid = GridSearchCV(estimator = svc_grid, param_grid = param_grid, cv = 3)\n"
   ]
  },
  {
   "cell_type": "code",
   "execution_count": 1253,
   "metadata": {},
   "outputs": [],
   "source": [
    "\n",
    "train_vect=vectorizer.fit_transform(X_train)\n",
    "test_vect=vectorizer.transform(X_test)\n"
   ]
  },
  {
   "cell_type": "code",
   "execution_count": 1254,
   "metadata": {
    "scrolled": false
   },
   "outputs": [
    {
     "data": {
      "text/plain": [
       "GridSearchCV(cv=3, error_score='raise-deprecating',\n",
       "             estimator=SVC(C=1.0, cache_size=200, class_weight=None, coef0=0.0,\n",
       "                           decision_function_shape='ovr', degree=3,\n",
       "                           gamma='auto_deprecated', kernel='rbf', max_iter=-1,\n",
       "                           probability=False, random_state=None, shrinking=True,\n",
       "                           tol=0.001, verbose=False),\n",
       "             iid='warn', n_jobs=None,\n",
       "             param_grid={'C': [5, 6, 8, 7, 9], 'degree': [1, 2, 3],\n",
       "                         'gamma': [0.5, 0.1, 0.3, 0.4, 0.2, 1],\n",
       "                         'kernel': ['poly', 'rbf', 'linear']},\n",
       "             pre_dispatch='2*n_jobs', refit=True, return_train_score=False,\n",
       "             scoring=None, verbose=0)"
      ]
     },
     "execution_count": 1254,
     "metadata": {},
     "output_type": "execute_result"
    }
   ],
   "source": [
    "svc_cv_grid.fit(train_vect,y_train)"
   ]
  },
  {
   "cell_type": "code",
   "execution_count": 1255,
   "metadata": {},
   "outputs": [],
   "source": [
    "svc_model=svc_cv_grid.best_estimator_"
   ]
  },
  {
   "cell_type": "code",
   "execution_count": 1256,
   "metadata": {},
   "outputs": [
    {
     "data": {
      "text/plain": [
       "SVC(C=7, cache_size=200, class_weight=None, coef0=0.0,\n",
       "    decision_function_shape='ovr', degree=1, gamma=1, kernel='rbf', max_iter=-1,\n",
       "    probability=False, random_state=None, shrinking=True, tol=0.001,\n",
       "    verbose=False)"
      ]
     },
     "execution_count": 1256,
     "metadata": {},
     "output_type": "execute_result"
    }
   ],
   "source": [
    "svc_model"
   ]
  },
  {
   "cell_type": "code",
   "execution_count": 1257,
   "metadata": {},
   "outputs": [],
   "source": [
    "svc_pred=svc_model.predict(testdatavector)"
   ]
  },
  {
   "cell_type": "code",
   "execution_count": 372,
   "metadata": {},
   "outputs": [],
   "source": [
    "from sklearn.metrics import classification_report"
   ]
  },
  {
   "cell_type": "code",
   "execution_count": 1258,
   "metadata": {
    "scrolled": true
   },
   "outputs": [
    {
     "name": "stdout",
     "output_type": "stream",
     "text": [
      "              precision    recall  f1-score   support\n",
      "\n",
      "           0       0.84      0.92      0.88       551\n",
      "           1       0.70      0.50      0.58       199\n",
      "\n",
      "    accuracy                           0.81       750\n",
      "   macro avg       0.77      0.71      0.73       750\n",
      "weighted avg       0.80      0.81      0.80       750\n",
      "\n"
     ]
    }
   ],
   "source": [
    "print(classification_report(simpletesty,svc_pred))"
   ]
  },
  {
   "cell_type": "raw",
   "metadata": {},
   "source": [
    "* SVC gave the best score of 0.68 on test data and no other model including itself could beat   it with the hyper-parameter tuning"
   ]
  },
  {
   "cell_type": "markdown",
   "metadata": {},
   "source": [
    "#### 6. random forest grid search cv"
   ]
  },
  {
   "cell_type": "code",
   "execution_count": 391,
   "metadata": {},
   "outputs": [],
   "source": [
    "from sklearn.ensemble import RandomForestClassifier\n",
    "\n",
    "from sklearn.model_selection import RandomizedSearchCV"
   ]
  },
  {
   "cell_type": "code",
   "execution_count": 392,
   "metadata": {},
   "outputs": [],
   "source": [
    "vectorizer = TfidfVectorizer(ngram_range=(1, 2),use_idf=True)\n",
    "train_vect=vectorizer.fit_transform(X_train)\n",
    "test_vect=vectorizer.transform(X_test)\n"
   ]
  },
  {
   "cell_type": "code",
   "execution_count": 399,
   "metadata": {},
   "outputs": [],
   "source": [
    "rfc_grid = RandomForestClassifier(n_jobs=-1, max_features='sqrt')\n",
    " \n",
    "\n",
    "\n",
    "param_grid = {\"n_estimators\" : [75, 90,100,120,110],\n",
    "               \"max_depth\" : [10, 12, 14, 16],\n",
    "               \"min_samples_leaf\" : [3,4,5, 7],\n",
    "                \"criterion\":['entropy','gini'],\n",
    "               \"class_weight\" : ['balanced_subsample'],\n",
    "                \"min_samples_split\":[2,5,4,3]\n",
    "             }\n",
    " \n",
    "rfc_cv_grid = RandomizedSearchCV(estimator = rfc_grid, param_distributions = param_grid, cv = 3)"
   ]
  },
  {
   "cell_type": "code",
   "execution_count": 400,
   "metadata": {},
   "outputs": [
    {
     "data": {
      "text/plain": [
       "RandomizedSearchCV(cv=3, error_score='raise-deprecating',\n",
       "                   estimator=RandomForestClassifier(bootstrap=True,\n",
       "                                                    class_weight=None,\n",
       "                                                    criterion='gini',\n",
       "                                                    max_depth=None,\n",
       "                                                    max_features='sqrt',\n",
       "                                                    max_leaf_nodes=None,\n",
       "                                                    min_impurity_decrease=0.0,\n",
       "                                                    min_impurity_split=None,\n",
       "                                                    min_samples_leaf=1,\n",
       "                                                    min_samples_split=2,\n",
       "                                                    min_weight_fraction_leaf=0.0,\n",
       "                                                    n_estimators='warn',\n",
       "                                                    n_jobs=-1, oob_scor...\n",
       "                                                    warm_start=False),\n",
       "                   iid='warn', n_iter=10, n_jobs=None,\n",
       "                   param_distributions={'class_weight': ['balanced_subsample'],\n",
       "                                        'criterion': ['entropy'],\n",
       "                                        'max_depth': [10, 12, 14, 16],\n",
       "                                        'min_samples_leaf': [3, 4, 5, 7],\n",
       "                                        'min_samples_split': [2, 5, 4, 3],\n",
       "                                        'n_estimators': [75, 90, 100, 120,\n",
       "                                                         110]},\n",
       "                   pre_dispatch='2*n_jobs', random_state=None, refit=True,\n",
       "                   return_train_score=False, scoring=None, verbose=0)"
      ]
     },
     "execution_count": 400,
     "metadata": {},
     "output_type": "execute_result"
    }
   ],
   "source": [
    "rfc_cv_grid.fit(train_vect,y_train)"
   ]
  },
  {
   "cell_type": "code",
   "execution_count": 401,
   "metadata": {},
   "outputs": [],
   "source": [
    "rfc_model=rfc_cv_grid.best_estimator_"
   ]
  },
  {
   "cell_type": "code",
   "execution_count": 402,
   "metadata": {},
   "outputs": [
    {
     "data": {
      "text/plain": [
       "RandomForestClassifier(bootstrap=True, class_weight='balanced_subsample',\n",
       "                       criterion='entropy', max_depth=14, max_features='sqrt',\n",
       "                       max_leaf_nodes=None, min_impurity_decrease=0.0,\n",
       "                       min_impurity_split=None, min_samples_leaf=4,\n",
       "                       min_samples_split=3, min_weight_fraction_leaf=0.0,\n",
       "                       n_estimators=90, n_jobs=-1, oob_score=False,\n",
       "                       random_state=None, verbose=0, warm_start=False)"
      ]
     },
     "execution_count": 402,
     "metadata": {},
     "output_type": "execute_result"
    }
   ],
   "source": [
    "rfc_model"
   ]
  },
  {
   "cell_type": "code",
   "execution_count": 403,
   "metadata": {},
   "outputs": [],
   "source": [
    "rfc_pred=rfc_model.predict(test_vect)"
   ]
  },
  {
   "cell_type": "code",
   "execution_count": 404,
   "metadata": {},
   "outputs": [
    {
     "name": "stdout",
     "output_type": "stream",
     "text": [
      "              precision    recall  f1-score   support\n",
      "\n",
      "           0       0.85      0.88      0.87       652\n",
      "           1       0.66      0.58      0.62       248\n",
      "\n",
      "    accuracy                           0.80       900\n",
      "   macro avg       0.75      0.73      0.74       900\n",
      "weighted avg       0.80      0.80      0.80       900\n",
      "\n"
     ]
    }
   ],
   "source": [
    "print(classification_report(y_test, rfc_pred))"
   ]
  },
  {
   "cell_type": "raw",
   "metadata": {},
   "source": [
    "* random forest gave a max score of 0.66 on validation and 0.62 on test data"
   ]
  },
  {
   "cell_type": "markdown",
   "metadata": {},
   "source": [
    "#### 7. XGboost grid search CV"
   ]
  },
  {
   "cell_type": "code",
   "execution_count": 387,
   "metadata": {},
   "outputs": [],
   "source": [
    "vectorizer = TfidfVectorizer(ngram_range=(1, 2),use_idf=True)\n",
    "train_vect=vectorizer.fit_transform(X_train)\n",
    "test_vect=vectorizer.transform(X_test)"
   ]
  },
  {
   "cell_type": "code",
   "execution_count": 388,
   "metadata": {},
   "outputs": [],
   "source": [
    "import xgboost as xgb\n",
    "from xgboost import XGBClassifier\n"
   ]
  },
  {
   "cell_type": "code",
   "execution_count": 932,
   "metadata": {},
   "outputs": [],
   "source": [
    "XGB = XGBClassifier(n_jobs=-1)\n",
    " \n",
    "# Use a grid over parameters of interest\n",
    "param_grid = {\n",
    "     \n",
    "     'n_estimators':[15,30,50],\n",
    "     'max_depth': [5,8,10],\n",
    "    'learning_rate': [0.1,0.2,0.3]\n",
    "}\n",
    "\n",
    " \n",
    "CV_XGB = GridSearchCV(estimator=XGB, param_grid=param_grid, cv= 3)"
   ]
  },
  {
   "cell_type": "code",
   "execution_count": 933,
   "metadata": {},
   "outputs": [
    {
     "data": {
      "text/plain": [
       "GridSearchCV(cv=3, error_score='raise-deprecating',\n",
       "             estimator=XGBClassifier(base_score=0.5, booster='gbtree',\n",
       "                                     colsample_bylevel=1, colsample_bynode=1,\n",
       "                                     colsample_bytree=1, gamma=0,\n",
       "                                     learning_rate=0.1, max_delta_step=0,\n",
       "                                     max_depth=3, min_child_weight=1,\n",
       "                                     missing=None, n_estimators=100, n_jobs=-1,\n",
       "                                     nthread=None, objective='binary:logistic',\n",
       "                                     random_state=0, reg_alpha=0, reg_lambda=1,\n",
       "                                     scale_pos_weight=1, seed=None, silent=None,\n",
       "                                     subsample=1, verbosity=1),\n",
       "             iid='warn', n_jobs=None,\n",
       "             param_grid={'learning_rate': [0.1, 0.2, 0.3],\n",
       "                         'max_depth': [5, 8, 10],\n",
       "                         'n_estimators': [15, 30, 50]},\n",
       "             pre_dispatch='2*n_jobs', refit=True, return_train_score=False,\n",
       "             scoring=None, verbose=0)"
      ]
     },
     "execution_count": 933,
     "metadata": {},
     "output_type": "execute_result"
    }
   ],
   "source": [
    "CV_XGB.fit(X = train_vect, y=y_train)"
   ]
  },
  {
   "cell_type": "code",
   "execution_count": 934,
   "metadata": {},
   "outputs": [
    {
     "name": "stdout",
     "output_type": "stream",
     "text": [
      "{'learning_rate': 0.3, 'max_depth': 8, 'n_estimators': 50}\n"
     ]
    }
   ],
   "source": [
    "best_xgb_model = CV_XGB.best_estimator_\n",
    "print ( CV_XGB.best_params_)"
   ]
  },
  {
   "cell_type": "code",
   "execution_count": 935,
   "metadata": {},
   "outputs": [],
   "source": [
    "xgb_pred=best_xgb_model.predict(test_vect)"
   ]
  },
  {
   "cell_type": "code",
   "execution_count": 936,
   "metadata": {},
   "outputs": [
    {
     "name": "stdout",
     "output_type": "stream",
     "text": [
      "              precision    recall  f1-score   support\n",
      "\n",
      "           0       0.80      0.94      0.86       652\n",
      "           1       0.71      0.38      0.49       248\n",
      "\n",
      "    accuracy                           0.79       900\n",
      "   macro avg       0.75      0.66      0.68       900\n",
      "weighted avg       0.77      0.79      0.76       900\n",
      "\n"
     ]
    }
   ],
   "source": [
    "print(classification_report(y_test, xgb_pred))"
   ]
  },
  {
   "cell_type": "raw",
   "metadata": {},
   "source": [
    "* XGboost gave a max of 0.49 on validation data and 0.45 on test data"
   ]
  },
  {
   "cell_type": "markdown",
   "metadata": {},
   "source": [
    "#### using word embeddings"
   ]
  },
  {
   "cell_type": "markdown",
   "metadata": {},
   "source": [
    "#### 8. CNN with Glove embeddings"
   ]
  },
  {
   "cell_type": "code",
   "execution_count": 938,
   "metadata": {},
   "outputs": [],
   "source": [
    "os.environ['KERAS_BACKEND']='tensorflow' \n",
    "from keras.preprocessing.text import Tokenizer\n",
    "from keras.preprocessing.sequence import pad_sequences\n",
    "from keras.utils.np_utils import to_categorical\n",
    "from keras.layers import Embedding\n",
    "from keras.layers import Dense, Input, Flatten\n",
    "from keras.layers import Conv1D, MaxPooling1D, Embedding, Dropout\n",
    "from keras.models import Model\n",
    "from keras.callbacks import ModelCheckpoint\n",
    "import matplotlib.pyplot as plt\n",
    "plt.switch_backend('agg')\n",
    "%matplotlib inline\n"
   ]
  },
  {
   "cell_type": "code",
   "execution_count": 939,
   "metadata": {},
   "outputs": [],
   "source": [
    "def clean_str(string):\n",
    "    string = re.sub(r\"\\\\\", \"\", string)\n",
    "    string = re.sub(r\"\\'\", \"\", string)\n",
    "    string = re.sub(r\"\\\"\", \"\", string)\n",
    "    return string.strip().lower()"
   ]
  },
  {
   "cell_type": "code",
   "execution_count": 940,
   "metadata": {},
   "outputs": [],
   "source": [
    "MAX_SEQUENCE_LENGTH = 1000\n",
    "MAX_NB_WORDS = 20000\n",
    "EMBEDDING_DIM = 50\n",
    "VALIDATION_SPLIT = 0.3"
   ]
  },
  {
   "cell_type": "code",
   "execution_count": 941,
   "metadata": {},
   "outputs": [],
   "source": [
    "cnndata=reveiws[['review','user_sentiment']]"
   ]
  },
  {
   "cell_type": "code",
   "execution_count": 942,
   "metadata": {},
   "outputs": [
    {
     "data": {
      "text/plain": [
       "(3000, 2)"
      ]
     },
     "execution_count": 942,
     "metadata": {},
     "output_type": "execute_result"
    }
   ],
   "source": [
    "cnndata.shape"
   ]
  },
  {
   "cell_type": "code",
   "execution_count": 943,
   "metadata": {},
   "outputs": [
    {
     "name": "stdout",
     "output_type": "stream",
     "text": [
      "No. of unique classes 2\n"
     ]
    }
   ],
   "source": [
    "\n",
    "print('No. of unique classes',len(set(cnndata['user_sentiment'])))"
   ]
  },
  {
   "cell_type": "code",
   "execution_count": 944,
   "metadata": {},
   "outputs": [
    {
     "data": {
      "text/plain": [
       "1690             movie true original story realistic feel\n",
       "1798               exceptional movie especially grandkids\n",
       "417     think good job dark characters lacked enthusia...\n",
       "1599                       took best parts original movie\n",
       "1206            disappointed quality soundtrack un disney\n",
       "                              ...                        \n",
       "1253    disney phenomenal job remaking lion king unlik...\n",
       "2135       took mom senior citizen 5 year old son enjoyed\n",
       "2278    n t stick original movie missed lot parts espe...\n",
       "2876    visually beautiful simba precious rafiki aweso...\n",
       "643                                     animals realistic\n",
       "Name: review-short, Length: 900, dtype: object"
      ]
     },
     "execution_count": 944,
     "metadata": {},
     "output_type": "execute_result"
    }
   ],
   "source": [
    "X_test"
   ]
  },
  {
   "cell_type": "code",
   "execution_count": 945,
   "metadata": {},
   "outputs": [
    {
     "data": {
      "text/plain": [
       "0    2170\n",
       "1     830\n",
       "Name: user_sentiment, dtype: int64"
      ]
     },
     "execution_count": 945,
     "metadata": {},
     "output_type": "execute_result"
    }
   ],
   "source": [
    "cnndata['user_sentiment'].value_counts()"
   ]
  },
  {
   "cell_type": "code",
   "execution_count": 946,
   "metadata": {},
   "outputs": [
    {
     "name": "stderr",
     "output_type": "stream",
     "text": [
      "/Users/pavankumar/anaconda3/lib/python3.7/site-packages/ipykernel_launcher.py:1: SettingWithCopyWarning: \n",
      "A value is trying to be set on a copy of a slice from a DataFrame.\n",
      "Try using .loc[row_indexer,col_indexer] = value instead\n",
      "\n",
      "See the caveats in the documentation: http://pandas.pydata.org/pandas-docs/stable/user_guide/indexing.html#returning-a-view-versus-a-copy\n",
      "  \"\"\"Entry point for launching an IPython kernel.\n"
     ]
    }
   ],
   "source": [
    "cnndata['user_sentiment']=pd.get_dummies(cnndata['user_sentiment'])"
   ]
  },
  {
   "cell_type": "code",
   "execution_count": 947,
   "metadata": {},
   "outputs": [
    {
     "name": "stdout",
     "output_type": "stream",
     "text": [
      "Shape of dataset  (3000, 2)\n",
      "Index(['review', 'user_sentiment'], dtype='object')\n"
     ]
    }
   ],
   "source": [
    "print('Shape of dataset ',cnndata.shape)\n",
    "print(cnndata.columns)\n"
   ]
  },
  {
   "cell_type": "code",
   "execution_count": 948,
   "metadata": {},
   "outputs": [
    {
     "name": "stderr",
     "output_type": "stream",
     "text": [
      "/Users/pavankumar/anaconda3/lib/python3.7/site-packages/ipykernel_launcher.py:7: SettingWithCopyWarning: \n",
      "A value is trying to be set on a copy of a slice from a DataFrame.\n",
      "Try using .loc[row_indexer,col_indexer] = value instead\n",
      "\n",
      "See the caveats in the documentation: http://pandas.pydata.org/pandas-docs/stable/user_guide/indexing.html#returning-a-view-versus-a-copy\n",
      "  import sys\n"
     ]
    }
   ],
   "source": [
    "#mapping of target variable values\n",
    "macronum=sorted(set(cnndata['user_sentiment']))\n",
    "macro_to_id = dict((note, number) for number, note in enumerate(macronum))\n",
    "\n",
    "def fun(i):\n",
    "    return macro_to_id[i]\n",
    "\n",
    "cnndata['user_sentiment']=cnndata['user_sentiment'].apply(fun)"
   ]
  },
  {
   "cell_type": "code",
   "execution_count": 949,
   "metadata": {},
   "outputs": [
    {
     "data": {
      "text/plain": [
       "{0: 0, 1: 1}"
      ]
     },
     "execution_count": 949,
     "metadata": {},
     "output_type": "execute_result"
    }
   ],
   "source": [
    "macro_to_id"
   ]
  },
  {
   "cell_type": "code",
   "execution_count": 950,
   "metadata": {},
   "outputs": [
    {
     "data": {
      "text/plain": [
       "(3000, 2)"
      ]
     },
     "execution_count": 950,
     "metadata": {},
     "output_type": "execute_result"
    }
   ],
   "source": [
    "cnndata.shape"
   ]
  },
  {
   "cell_type": "code",
   "execution_count": 951,
   "metadata": {},
   "outputs": [],
   "source": [
    "\n",
    "from bs4 import BeautifulSoup\n",
    "texts = [] #to store reveiws after clean up\n",
    "labels = [] # to store labels\n",
    "\n",
    "#cnndata['user_sentiment']=0\n",
    "for idx in range(0,3000):\n",
    "    text = BeautifulSoup(cnndata['review'][idx])\n",
    "    texts.append(clean_str(str(text.get_text().encode())))\n",
    "\n",
    "for idx in cnndata['user_sentiment']:\n",
    "    labels.append(idx)"
   ]
  },
  {
   "cell_type": "code",
   "execution_count": 952,
   "metadata": {},
   "outputs": [
    {
     "name": "stdout",
     "output_type": "stream",
     "text": [
      "Number of Unique Tokens 5473\n"
     ]
    }
   ],
   "source": [
    "#tokenize\n",
    "tokenizer = Tokenizer(num_words=MAX_NB_WORDS)\n",
    "tokenizer.fit_on_texts(texts)\n",
    "sequences = tokenizer.texts_to_sequences(texts)\n",
    "\n",
    "#index for words\n",
    "word_index = tokenizer.word_index\n",
    "print('Number of Unique Tokens',len(word_index))"
   ]
  },
  {
   "cell_type": "code",
   "execution_count": 1324,
   "metadata": {},
   "outputs": [
    {
     "data": {
      "text/plain": [
       "[638, 18, 1, 10, 11, 90, 23]"
      ]
     },
     "execution_count": 1324,
     "metadata": {},
     "output_type": "execute_result"
    }
   ],
   "source": [
    "sequences[1]"
   ]
  },
  {
   "cell_type": "code",
   "execution_count": 953,
   "metadata": {
    "scrolled": true
   },
   "outputs": [
    {
     "name": "stdout",
     "output_type": "stream",
     "text": [
      "Shape of Data Tensor: (3000, 1000)\n",
      "Shape of Label Tensor: (3000, 2)\n"
     ]
    }
   ],
   "source": [
    "#padding\n",
    "data = pad_sequences(sequences, maxlen=MAX_SEQUENCE_LENGTH)\n",
    "\n",
    "labels = to_categorical(np.asarray(labels))\n",
    "print('Shape of Data Tensor:', data.shape)\n",
    "print('Shape of Label Tensor:', labels.shape)\n",
    "\n",
    "indices = np.arange(data.shape[0])\n",
    "np.random.shuffle(indices)\n",
    "data = data[indices]\n",
    "labels = labels[indices]\n",
    "nb_validation_samples = int(VALIDATION_SPLIT * data.shape[0])\n",
    "\n",
    "#validation\n",
    "x_train = data[:-nb_validation_samples]\n",
    "y_train = labels[:-nb_validation_samples]\n",
    "x_val = data[-nb_validation_samples:]\n",
    "y_val = labels[-nb_validation_samples:]"
   ]
  },
  {
   "cell_type": "code",
   "execution_count": 954,
   "metadata": {},
   "outputs": [
    {
     "name": "stdout",
     "output_type": "stream",
     "text": [
      "Total 400000 word vectors in Glove 6B 50d.\n"
     ]
    }
   ],
   "source": [
    "#load glove embeddings\n",
    "embeddings_index = {}\n",
    "f = open('glove.6B.50d.txt',encoding='utf8')\n",
    "for line in f:\n",
    "    values = line.split()\n",
    "    word = values[0]\n",
    "    coefs = np.asarray(values[1:], dtype='float32')\n",
    "    embeddings_index[word] = coefs\n",
    "f.close()\n",
    "\n",
    "print('Total %s word vectors in Glove 6B 50d.' % len(embeddings_index))"
   ]
  },
  {
   "cell_type": "code",
   "execution_count": 1341,
   "metadata": {},
   "outputs": [
    {
     "name": "stdout",
     "output_type": "stream",
     "text": [
      "[-0.13886    1.1401    -0.85212   -0.29212    0.75534    0.82762\n",
      " -0.3181     0.0072204 -0.34762    1.0731    -0.24665    0.97765\n",
      " -0.55835   -0.090318   0.83182   -0.33317    0.22648    0.30913\n",
      "  0.026929  -0.086739  -0.14703    1.3543     0.53695    0.43735\n",
      "  1.2749    -1.4382    -1.2815    -0.15196    1.0506    -0.93644\n",
      "  2.7561     0.58967   -0.29473    0.27574   -0.32928   -0.201\n",
      " -0.28547   -0.45987   -0.14603   -0.69372    0.070761  -0.19326\n",
      " -0.1855    -0.16095    0.24268    0.20784    0.030924  -1.3711\n",
      " -0.28606    0.2898   ]\n"
     ]
    }
   ],
   "source": [
    "#glove word embedding for the word love- 50 values for 50D\n",
    "print(embeddings_index['love'])"
   ]
  },
  {
   "cell_type": "code",
   "execution_count": 956,
   "metadata": {
    "scrolled": true
   },
   "outputs": [
    {
     "data": {
      "text/plain": [
       "(5474, 50)"
      ]
     },
     "execution_count": 956,
     "metadata": {},
     "output_type": "execute_result"
    }
   ],
   "source": [
    "embedding_matrix.shape\n",
    "#5474 tokens and 50 dimensions\n",
    "#or sentence matrix "
   ]
  },
  {
   "cell_type": "code",
   "execution_count": 1344,
   "metadata": {
    "scrolled": true
   },
   "outputs": [
    {
     "data": {
      "text/plain": [
       "array([-1.0551  ,  0.57669 ,  0.082786,  0.12228 ,  0.39992 , -0.46684 ,\n",
       "       -0.50035 , -1.6379  , -0.24213 ,  0.14721 , -0.078482,  0.65903 ,\n",
       "        0.648   ,  0.19556 ,  1.0339  ,  0.30582 , -0.94565 ,  0.10195 ,\n",
       "        0.31091 , -1.191   ,  0.49303 , -0.56478 ,  0.65208 ,  0.11443 ,\n",
       "       -0.49764 ,  0.1842  , -0.43311 ,  0.70724 ,  0.78012 , -0.87706 ,\n",
       "       -0.33598 ,  1.1373  , -0.39506 ,  0.92544 , -0.35135 ,  0.77852 ,\n",
       "       -0.29221 ,  0.38087 , -0.60077 ,  0.49923 ,  0.87125 ,  0.73362 ,\n",
       "       -0.24162 ,  0.81288 ,  0.8535  ,  0.039428, -0.15283 , -0.43134 ,\n",
       "       -0.072482, -0.97015 ], dtype=float32)"
      ]
     },
     "execution_count": 1344,
     "metadata": {},
     "output_type": "execute_result"
    }
   ],
   "source": [
    "embedding_vector\n",
    "#50 dimensions/direction vectors"
   ]
  },
  {
   "cell_type": "code",
   "execution_count": 958,
   "metadata": {},
   "outputs": [],
   "source": [
    "#fill embedding matrix or weight matrix initially random initialised then learnt\n",
    "embedding_matrix = np.random.random((len(word_index) + 1, EMBEDDING_DIM))\n",
    "for word, i in word_index.items():\n",
    "    embedding_vector = embeddings_index.get(word)\n",
    "    if embedding_vector is not None:\n",
    "        # words not found in embedding index will be all-zeros.\n",
    "        embedding_matrix[i] = embedding_vector\n",
    "\n"
   ]
  },
  {
   "cell_type": "code",
   "execution_count": 1349,
   "metadata": {},
   "outputs": [
    {
     "data": {
      "text/plain": [
       "array([-1.0551  ,  0.57669 ,  0.082786,  0.12228 ,  0.39992 , -0.46684 ,\n",
       "       -0.50035 , -1.6379  , -0.24213 ,  0.14721 , -0.078482,  0.65903 ,\n",
       "        0.648   ,  0.19556 ,  1.0339  ,  0.30582 , -0.94565 ,  0.10195 ,\n",
       "        0.31091 , -1.191   ,  0.49303 , -0.56478 ,  0.65208 ,  0.11443 ,\n",
       "       -0.49764 ,  0.1842  , -0.43311 ,  0.70724 ,  0.78012 , -0.87706 ,\n",
       "       -0.33598 ,  1.1373  , -0.39506 ,  0.92544 , -0.35135 ,  0.77852 ,\n",
       "       -0.29221 ,  0.38087 , -0.60077 ,  0.49923 ,  0.87125 ,  0.73362 ,\n",
       "       -0.24162 ,  0.81288 ,  0.8535  ,  0.039428, -0.15283 , -0.43134 ,\n",
       "       -0.072482, -0.97015 ], dtype=float32)"
      ]
     },
     "execution_count": 1349,
     "metadata": {},
     "output_type": "execute_result"
    }
   ],
   "source": [
    "embeddings_index.get(word)"
   ]
  },
  {
   "cell_type": "code",
   "execution_count": 1339,
   "metadata": {},
   "outputs": [
    {
     "data": {
      "text/plain": [
       "array([ 4.18000013e-01,  2.49679998e-01, -4.12420005e-01,  1.21699996e-01,\n",
       "        3.45270008e-01, -4.44569997e-02, -4.96879995e-01, -1.78619996e-01,\n",
       "       -6.60229998e-04, -6.56599998e-01,  2.78430015e-01, -1.47670001e-01,\n",
       "       -5.56770027e-01,  1.46579996e-01, -9.50950012e-03,  1.16579998e-02,\n",
       "        1.02040000e-01, -1.27920002e-01, -8.44299972e-01, -1.21809997e-01,\n",
       "       -1.68009996e-02, -3.32789987e-01, -1.55200005e-01, -2.31309995e-01,\n",
       "       -1.91809997e-01, -1.88230002e+00, -7.67459989e-01,  9.90509987e-02,\n",
       "       -4.21249986e-01, -1.95260003e-01,  4.00710011e+00, -1.85939997e-01,\n",
       "       -5.22870004e-01, -3.16810012e-01,  5.92130003e-04,  7.44489999e-03,\n",
       "        1.77780002e-01, -1.58969998e-01,  1.20409997e-02, -5.42230010e-02,\n",
       "       -2.98709989e-01, -1.57490000e-01, -3.47579986e-01, -4.56370004e-02,\n",
       "       -4.42510009e-01,  1.87849998e-01,  2.78489990e-03, -1.84110001e-01,\n",
       "       -1.15139998e-01, -7.85809994e-01])"
      ]
     },
     "execution_count": 1339,
     "metadata": {},
     "output_type": "execute_result"
    }
   ],
   "source": [
    "#row-1/word1---> 50 D values wrt each dimensions\n",
    "embedding_matrix[1]"
   ]
  },
  {
   "cell_type": "code",
   "execution_count": 959,
   "metadata": {},
   "outputs": [],
   "source": [
    "#embedding layer\n",
    "embedding_layer = Embedding(len(word_index) + 1,\n",
    "                            EMBEDDING_DIM,weights=[embedding_matrix],\n",
    "                            input_length=MAX_SEQUENCE_LENGTH,trainable=True)"
   ]
  },
  {
   "cell_type": "code",
   "execution_count": 960,
   "metadata": {},
   "outputs": [
    {
     "name": "stdout",
     "output_type": "stream",
     "text": [
      "Simplified convolutional neural network\n",
      "_________________________________________________________________\n",
      "Layer (type)                 Output Shape              Param #   \n",
      "=================================================================\n",
      "input_14 (InputLayer)        (None, 1000)              0         \n",
      "_________________________________________________________________\n",
      "embedding_7 (Embedding)      (None, 1000, 50)          273700    \n",
      "_________________________________________________________________\n",
      "conv1d_29 (Conv1D)           (None, 996, 128)          32128     \n",
      "_________________________________________________________________\n",
      "max_pooling1d_29 (MaxPooling (None, 199, 128)          0         \n",
      "_________________________________________________________________\n",
      "conv1d_30 (Conv1D)           (None, 195, 128)          82048     \n",
      "_________________________________________________________________\n",
      "max_pooling1d_30 (MaxPooling (None, 39, 128)           0         \n",
      "_________________________________________________________________\n",
      "flatten_13 (Flatten)         (None, 4992)              0         \n",
      "_________________________________________________________________\n",
      "dense_29 (Dense)             (None, 128)               639104    \n",
      "_________________________________________________________________\n",
      "dense_30 (Dense)             (None, 2)                 258       \n",
      "=================================================================\n",
      "Total params: 1,027,238\n",
      "Trainable params: 1,027,238\n",
      "Non-trainable params: 0\n",
      "_________________________________________________________________\n"
     ]
    }
   ],
   "source": [
    "#model\n",
    "sequence_input = Input(shape=(1000,), dtype='int32')\n",
    "embedded_sequences = embedding_layer(sequence_input)\n",
    "l_cov1= Conv1D(128, 5, activation='relu')(embedded_sequences)\n",
    "l_pool1 = MaxPooling1D(5)(l_cov1)\n",
    "l_cov2 = Conv1D(128, 5, activation='relu')(l_pool1)\n",
    "l_pool2 = MaxPooling1D(5)(l_cov2)\n",
    "#l_cov3 = Conv1D(128, 5, activation='relu')(l_pool2)\n",
    "#l_pool3 = MaxPooling1D(35)(l_cov3)  # global max pooling\n",
    "l_flat = Flatten()(l_pool2)\n",
    "l_dense = Dense(128, activation='relu')(l_flat)\n",
    "preds = Dense(len(macronum), activation='sigmoid')(l_dense)\n",
    "\n",
    "model = Model(sequence_input, preds)\n",
    "model.compile(loss='binary_crossentropy',\n",
    "              optimizer='adam',\n",
    "              metrics=['accuracy'])\n",
    "\n",
    "print(\"Simplified convolutional neural network\")\n",
    "model.summary()"
   ]
  },
  {
   "cell_type": "code",
   "execution_count": 961,
   "metadata": {},
   "outputs": [
    {
     "data": {
      "text/plain": [
       "(2100, 2)"
      ]
     },
     "execution_count": 961,
     "metadata": {},
     "output_type": "execute_result"
    }
   ],
   "source": [
    "y_train.shape"
   ]
  },
  {
   "cell_type": "code",
   "execution_count": 962,
   "metadata": {},
   "outputs": [
    {
     "name": "stdout",
     "output_type": "stream",
     "text": [
      "Train on 2100 samples, validate on 900 samples\n",
      "Epoch 1/4\n",
      "2100/2100 [==============================] - 39s 18ms/step - loss: 0.5894 - acc: 0.7202 - val_loss: 0.5213 - val_acc: 0.7350\n",
      "Epoch 2/4\n",
      "2100/2100 [==============================] - 38s 18ms/step - loss: 0.4712 - acc: 0.7545 - val_loss: 0.7226 - val_acc: 0.7433\n",
      "Epoch 3/4\n",
      "2100/2100 [==============================] - 37s 18ms/step - loss: 0.3468 - acc: 0.8400 - val_loss: 0.4719 - val_acc: 0.7933\n",
      "Epoch 4/4\n",
      "2100/2100 [==============================] - 38s 18ms/step - loss: 0.2276 - acc: 0.9076 - val_loss: 0.5175 - val_acc: 0.7878\n"
     ]
    }
   ],
   "source": [
    "cnn=model.fit(x_train, y_train, validation_data=(x_val, y_val),epochs=4,batch_size=2)\n"
   ]
  },
  {
   "cell_type": "code",
   "execution_count": 963,
   "metadata": {},
   "outputs": [
    {
     "data": {
      "image/png": "[encoded data removed]",
      "text/plain": [
       "<Figure size 432x288 with 1 Axes>"
      ]
     },
     "metadata": {
      "needs_background": "light"
     },
     "output_type": "display_data"
    }
   ],
   "source": [
    "fig1 = plt.figure()\n",
    "plt.plot(cnn.history['loss'],'r',linewidth=3.0)\n",
    "plt.plot(cnn.history['val_loss'],'b',linewidth=3.0)\n",
    "plt.legend(['Training loss', 'Validation Loss'],fontsize=12)\n",
    "plt.xlabel('Epochs ',fontsize=16)\n",
    "plt.ylabel('Loss',fontsize=16)\n",
    "plt.title('Loss Curves :CNN',fontsize=16)\n",
    "fig1.savefig('loss_cnn.png')\n",
    "plt.show()"
   ]
  },
  {
   "cell_type": "code",
   "execution_count": 964,
   "metadata": {},
   "outputs": [
    {
     "data": {
      "image/png": "[encoded data removed]",
      "text/plain": [
       "<Figure size 432x288 with 1 Axes>"
      ]
     },
     "metadata": {
      "needs_background": "light"
     },
     "output_type": "display_data"
    }
   ],
   "source": [
    "fig2=plt.figure()\n",
    "plt.plot(cnn.history['acc'],'r',linewidth=3.0)\n",
    "plt.plot(cnn.history['val_acc'],'b',linewidth=3.0)\n",
    "plt.legend(['Training Accuracy', 'Validation Accuracy'],fontsize=12)\n",
    "plt.xlabel('Epochs ',fontsize=16)\n",
    "plt.ylabel('Accuracy',fontsize=16)\n",
    "plt.title('Accuracy Curves : CNN',fontsize=16)\n",
    "fig2.savefig('accuracy_cnn.png')\n",
    "plt.show()"
   ]
  },
  {
   "cell_type": "code",
   "execution_count": 565,
   "metadata": {},
   "outputs": [
    {
     "name": "stdout",
     "output_type": "stream",
     "text": [
      "Number of Unique Tokens 2908\n"
     ]
    }
   ],
   "source": [
    "#prediction\n",
    "tokenizer1 = Tokenizer(num_words=MAX_NB_WORDS)\n",
    "tokenizer1.fit_on_texts(finaldata)\n",
    "sequences1 = tokenizer1.texts_to_sequences(finaldata)\n",
    "\n",
    "word_index1 = tokenizer1.word_index\n",
    "print('Number of Unique Tokens',len(word_index1))"
   ]
  },
  {
   "cell_type": "code",
   "execution_count": 566,
   "metadata": {},
   "outputs": [],
   "source": [
    "data1 = pad_sequences(sequences1, maxlen=MAX_SEQUENCE_LENGTH)\n"
   ]
  },
  {
   "cell_type": "code",
   "execution_count": 568,
   "metadata": {},
   "outputs": [
    {
     "name": "stdout",
     "output_type": "stream",
     "text": [
      "Shape of Data Tensor: (1200, 1000)\n"
     ]
    }
   ],
   "source": [
    "\n",
    "print('Shape of Data Tensor:', data1.shape)\n",
    "\n",
    "\n",
    "indices1 = np.arange(data1.shape[0])\n",
    "np.random.shuffle(indices1)\n",
    "data1 = data1[indices1]\n",
    "\n",
    "\n",
    "\n"
   ]
  },
  {
   "cell_type": "code",
   "execution_count": 569,
   "metadata": {},
   "outputs": [],
   "source": [
    "embedding_matrix1 = np.random.random((len(word_index1) + 1, EMBEDDING_DIM))\n",
    "for word, i in word_index1.items():\n",
    "    embedding_vector1 = embeddings_index.get(word)\n",
    "    if embedding_vector1 is not None:\n",
    "        # words not found in embedding index will be all-zeros.\n",
    "        embedding_matrix1[i] = embedding_vector1\n",
    "\n"
   ]
  },
  {
   "cell_type": "code",
   "execution_count": 570,
   "metadata": {},
   "outputs": [],
   "source": [
    "embedding_layer = Embedding(len(word_index1) + 1,\n",
    "                            EMBEDDING_DIM,weights=[embedding_matrix1],\n",
    "                            input_length=MAX_SEQUENCE_LENGTH,trainable=True)"
   ]
  },
  {
   "cell_type": "code",
   "execution_count": 592,
   "metadata": {},
   "outputs": [],
   "source": [
    "y_prob = model.predict(data1) \n",
    "y_classes = y_prob.argmax(axis=-1)"
   ]
  },
  {
   "cell_type": "code",
   "execution_count": 593,
   "metadata": {},
   "outputs": [
    {
     "data": {
      "text/plain": [
       "array([1, 1, 0, ..., 0, 1, 1])"
      ]
     },
     "execution_count": 593,
     "metadata": {},
     "output_type": "execute_result"
    }
   ],
   "source": [
    "y_classes"
   ]
  },
  {
   "cell_type": "code",
   "execution_count": 594,
   "metadata": {},
   "outputs": [],
   "source": [
    "cnn_sentiment=y_classes"
   ]
  },
  {
   "cell_type": "raw",
   "metadata": {},
   "source": [
    "* CNN gave an accuracy of 0.30 on the test data"
   ]
  },
  {
   "cell_type": "markdown",
   "metadata": {},
   "source": [
    "#### 9. RNN with bidirectional LSTM"
   ]
  },
  {
   "cell_type": "code",
   "execution_count": 530,
   "metadata": {},
   "outputs": [],
   "source": [
    "rnndata=reveiws[['review-short','user_sentiment']]"
   ]
  },
  {
   "cell_type": "code",
   "execution_count": 531,
   "metadata": {},
   "outputs": [
    {
     "data": {
      "text/plain": [
       "(3000, 2)"
      ]
     },
     "execution_count": 531,
     "metadata": {},
     "output_type": "execute_result"
    }
   ],
   "source": [
    "rnndata.shape"
   ]
  },
  {
   "cell_type": "code",
   "execution_count": 532,
   "metadata": {},
   "outputs": [
    {
     "data": {
      "text/plain": [
       "0    2170\n",
       "1     830\n",
       "Name: user_sentiment, dtype: int64"
      ]
     },
     "execution_count": 532,
     "metadata": {},
     "output_type": "execute_result"
    }
   ],
   "source": [
    "rnndata['user_sentiment'].value_counts()"
   ]
  },
  {
   "cell_type": "code",
   "execution_count": 533,
   "metadata": {},
   "outputs": [],
   "source": [
    "#rnndata['user_sentiment']=pd.get_dummies(rnndata['user_sentiment'])"
   ]
  },
  {
   "cell_type": "code",
   "execution_count": 534,
   "metadata": {},
   "outputs": [
    {
     "name": "stderr",
     "output_type": "stream",
     "text": [
      "/Users/pavankumar/anaconda3/lib/python3.7/site-packages/ipykernel_launcher.py:7: SettingWithCopyWarning: \n",
      "A value is trying to be set on a copy of a slice from a DataFrame.\n",
      "Try using .loc[row_indexer,col_indexer] = value instead\n",
      "\n",
      "See the caveats in the documentation: http://pandas.pydata.org/pandas-docs/stable/user_guide/indexing.html#returning-a-view-versus-a-copy\n",
      "  import sys\n"
     ]
    }
   ],
   "source": [
    "macronum=sorted(set(rnndata['user_sentiment']))\n",
    "macro_to_id = dict((note, number) for number, note in enumerate(macronum))\n",
    "\n",
    "def fun(i):\n",
    "    return macro_to_id[i]\n",
    "\n",
    "rnndata['user_sentiment']=rnndata['user_sentiment'].apply(fun)"
   ]
  },
  {
   "cell_type": "code",
   "execution_count": 535,
   "metadata": {},
   "outputs": [
    {
     "data": {
      "text/plain": [
       "{0: 0, 1: 1}"
      ]
     },
     "execution_count": 535,
     "metadata": {},
     "output_type": "execute_result"
    }
   ],
   "source": [
    "macro_to_id"
   ]
  },
  {
   "cell_type": "code",
   "execution_count": 536,
   "metadata": {},
   "outputs": [
    {
     "data": {
      "text/plain": [
       "(3000, 2)"
      ]
     },
     "execution_count": 536,
     "metadata": {},
     "output_type": "execute_result"
    }
   ],
   "source": [
    "rnndata.shape"
   ]
  },
  {
   "cell_type": "code",
   "execution_count": 537,
   "metadata": {},
   "outputs": [],
   "source": [
    "texts_rnn = []\n",
    "labels_rnn = []\n"
   ]
  },
  {
   "cell_type": "code",
   "execution_count": 538,
   "metadata": {},
   "outputs": [],
   "source": [
    "\n",
    "\n",
    "for idx in range(0,3000):\n",
    "    text = BeautifulSoup(rnndata['review-short'][idx])\n",
    "    texts_rnn.append(clean_str(str(text.get_text().encode())))\n",
    "\n",
    "for idx in rnndata['user_sentiment']:\n",
    "    labels_rnn.append(idx)"
   ]
  },
  {
   "cell_type": "code",
   "execution_count": 539,
   "metadata": {},
   "outputs": [
    {
     "name": "stdout",
     "output_type": "stream",
     "text": [
      "Number of Unique Tokens 5210\n"
     ]
    }
   ],
   "source": [
    "tokenizer = Tokenizer(num_words=MAX_NB_WORDS)\n",
    "tokenizer.fit_on_texts(texts_rnn)\n",
    "sequences = tokenizer.texts_to_sequences(texts_rnn)\n",
    "\n",
    "word_index = tokenizer.word_index\n",
    "print('Number of Unique Tokens',len(word_index))"
   ]
  },
  {
   "cell_type": "code",
   "execution_count": 540,
   "metadata": {},
   "outputs": [
    {
     "name": "stdout",
     "output_type": "stream",
     "text": [
      "Shape of Data Tensor: (3000, 1000)\n",
      "Shape of Label Tensor: (3000, 2)\n"
     ]
    }
   ],
   "source": [
    "data = pad_sequences(sequences, maxlen=MAX_SEQUENCE_LENGTH)\n",
    "\n",
    "\n",
    "labels_rnn = to_categorical(np.asarray(labels_rnn))\n",
    "print('Shape of Data Tensor:', data.shape)\n",
    "print('Shape of Label Tensor:', labels_rnn.shape)\n",
    "\n",
    "indices = np.arange(data.shape[0])\n",
    "np.random.shuffle(indices)\n",
    "data = data[indices]\n",
    "labels_rnn = labels_rnn[indices]\n",
    "nb_validation_samples = int(VALIDATION_SPLIT * data.shape[0])\n",
    "\n",
    "x_train = data[:-nb_validation_samples]\n",
    "y_train = labels_rnn[:-nb_validation_samples]\n",
    "x_val = data[-nb_validation_samples:]\n",
    "y_val = labels_rnn[-nb_validation_samples:]"
   ]
  },
  {
   "cell_type": "code",
   "execution_count": 541,
   "metadata": {},
   "outputs": [],
   "source": [
    "embedding_matrix = np.random.random((len(word_index) + 1, EMBEDDING_DIM))\n",
    "for word, i in word_index.items():\n",
    "    embedding_vector = embeddings_index.get(word)\n",
    "    if embedding_vector is not None:\n",
    "        # words not found in embedding index will be all-zeros.\n",
    "        embedding_matrix[i] = embedding_vector"
   ]
  },
  {
   "cell_type": "code",
   "execution_count": 542,
   "metadata": {},
   "outputs": [],
   "source": [
    "embedding_layer = Embedding(len(word_index) + 1,\n",
    "                            EMBEDDING_DIM,\n",
    "                            weights=[embedding_matrix],\n",
    "                            input_length=MAX_SEQUENCE_LENGTH,\n",
    "                            trainable=True)"
   ]
  },
  {
   "cell_type": "code",
   "execution_count": 543,
   "metadata": {},
   "outputs": [
    {
     "name": "stdout",
     "output_type": "stream",
     "text": [
      "Bidirectional LSTM\n",
      "_________________________________________________________________\n",
      "Layer (type)                 Output Shape              Param #   \n",
      "=================================================================\n",
      "input_13 (InputLayer)        (None, 1000)              0         \n",
      "_________________________________________________________________\n",
      "embedding_5 (Embedding)      (None, 1000, 50)          260550    \n",
      "_________________________________________________________________\n",
      "bidirectional_1 (Bidirection (None, 200)               120800    \n",
      "_________________________________________________________________\n",
      "dense_23 (Dense)             (None, 2)                 402       \n",
      "=================================================================\n",
      "Total params: 381,752\n",
      "Trainable params: 381,752\n",
      "Non-trainable params: 0\n",
      "_________________________________________________________________\n"
     ]
    }
   ],
   "source": [
    "from keras.layers import Bidirectional, LSTM\n",
    "sequence_input = Input(shape=(MAX_SEQUENCE_LENGTH,), dtype='int32')\n",
    "embedded_sequences = embedding_layer(sequence_input)\n",
    "l_lstm = Bidirectional(LSTM(100))(embedded_sequences)\n",
    "preds = Dense(len(macronum), activation='sigmoid')(l_lstm)\n",
    "model = Model(sequence_input, preds)\n",
    "model.compile(loss='binary_crossentropy',\n",
    "              optimizer='rmsprop',\n",
    "              metrics=['acc'])\n",
    "\n",
    "print(\"Bidirectional LSTM\")\n",
    "model.summary()"
   ]
  },
  {
   "cell_type": "code",
   "execution_count": 971,
   "metadata": {},
   "outputs": [
    {
     "name": "stdout",
     "output_type": "stream",
     "text": [
      "Train on 2100 samples, validate on 900 samples\n",
      "Epoch 1/1\n",
      "2100/2100 [==============================] - 38s 18ms/step - loss: 0.1345 - acc: 0.9524 - val_loss: 0.5887 - val_acc: 0.8061\n"
     ]
    }
   ],
   "source": [
    "rnn=model.fit(x_train, y_train, validation_data=(x_val, y_val),epochs=1, batch_size=2)"
   ]
  },
  {
   "cell_type": "code",
   "execution_count": 972,
   "metadata": {},
   "outputs": [],
   "source": [
    "y_prob = model.predict(data1) \n",
    "y_classes = y_prob.argmax(axis=-1)"
   ]
  },
  {
   "cell_type": "code",
   "execution_count": 973,
   "metadata": {},
   "outputs": [],
   "source": [
    "rnn_pred=model.predict(data1)"
   ]
  },
  {
   "cell_type": "code",
   "execution_count": null,
   "metadata": {},
   "outputs": [],
   "source": [
    "#prediction"
   ]
  },
  {
   "cell_type": "code",
   "execution_count": null,
   "metadata": {},
   "outputs": [],
   "source": [
    "tokenizer1 = Tokenizer(num_words=MAX_NB_WORDS)\n",
    "tokenizer1.fit_on_texts(finaldata)\n",
    "sequences1 = tokenizer1.texts_to_sequences(finaldata)\n",
    "\n",
    "word_index1 = tokenizer1.word_index\n",
    "print('Number of Unique Tokens',len(word_index1))\n",
    "\n",
    "data1 = pad_sequences(sequences1, maxlen=MAX_SEQUENCE_LENGTH)\n",
    "\n",
    "\n",
    "#labels1_rnn = to_categorical(np.asarray(labels_rnn))\n",
    "print('Shape of Data Tensor:', data1.shape)\n",
    "print('Shape of Label Tensor:', labels1_rnn.shape)\n",
    "\n",
    "indices1 = np.arange(data1.shape[0])\n",
    "np.random.shuffle(indices)\n",
    "data1 = data1[indices]\n",
    "#labels_rnn = labels_rnn[indices]\n",
    "\n",
    "\n",
    "\n",
    "\n",
    "embedding_matrix = np.random.random((len(word_index1) + 1, EMBEDDING_DIM))\n",
    "for word, i in word_index.items():\n",
    "    embedding_vector = embeddings_index.get(word)\n",
    "    if embedding_vector is not None:\n",
    "        # words not found in embedding index will be all-zeros.\n",
    "        embedding_matrix[i] = embedding_vector"
   ]
  },
  {
   "cell_type": "raw",
   "metadata": {},
   "source": [
    "* RNN gave a score of 0.24 on testdata"
   ]
  },
  {
   "cell_type": "markdown",
   "metadata": {},
   "source": [
    "### Predict on test data"
   ]
  },
  {
   "cell_type": "code",
   "execution_count": 546,
   "metadata": {},
   "outputs": [],
   "source": [
    "#read test data\n",
    "testdata=pd.read_csv(\"/Users/pavankumar/Downloads/phd/test-1566619745327.csv\")"
   ]
  },
  {
   "cell_type": "code",
   "execution_count": 547,
   "metadata": {},
   "outputs": [
    {
     "data": {
      "text/html": [
       "<div>\n",
       "<style scoped>\n",
       "    .dataframe tbody tr th:only-of-type {\n",
       "        vertical-align: middle;\n",
       "    }\n",
       "\n",
       "    .dataframe tbody tr th {\n",
       "        vertical-align: top;\n",
       "    }\n",
       "\n",
       "    .dataframe thead th {\n",
       "        text-align: right;\n",
       "    }\n",
       "</style>\n",
       "<table border=\"1\" class=\"dataframe\">\n",
       "  <thead>\n",
       "    <tr style=\"text-align: right;\">\n",
       "      <th></th>\n",
       "      <th>ReviewID</th>\n",
       "      <th>review</th>\n",
       "    </tr>\n",
       "  </thead>\n",
       "  <tbody>\n",
       "    <tr>\n",
       "      <th>0</th>\n",
       "      <td>92876</td>\n",
       "      <td>Was good. Nothing like the original but I beli...</td>\n",
       "    </tr>\n",
       "    <tr>\n",
       "      <th>1</th>\n",
       "      <td>92877</td>\n",
       "      <td>I absolutely loved it! A wonderful rendition o...</td>\n",
       "    </tr>\n",
       "    <tr>\n",
       "      <th>2</th>\n",
       "      <td>92878</td>\n",
       "      <td>I love the movie! Good job director! \\nI appre...</td>\n",
       "    </tr>\n",
       "    <tr>\n",
       "      <th>3</th>\n",
       "      <td>92879</td>\n",
       "      <td>GREAT MOVIE!!  Same as the original, but the c...</td>\n",
       "    </tr>\n",
       "    <tr>\n",
       "      <th>4</th>\n",
       "      <td>92880</td>\n",
       "      <td>Realistic.   Fantastic special effects</td>\n",
       "    </tr>\n",
       "  </tbody>\n",
       "</table>\n",
       "</div>"
      ],
      "text/plain": [
       "   ReviewID                                             review\n",
       "0     92876  Was good. Nothing like the original but I beli...\n",
       "1     92877  I absolutely loved it! A wonderful rendition o...\n",
       "2     92878  I love the movie! Good job director! \\nI appre...\n",
       "3     92879  GREAT MOVIE!!  Same as the original, but the c...\n",
       "4     92880             Realistic.   Fantastic special effects"
      ]
     },
     "execution_count": 547,
     "metadata": {},
     "output_type": "execute_result"
    }
   ],
   "source": [
    "testdata.head()"
   ]
  },
  {
   "cell_type": "code",
   "execution_count": 548,
   "metadata": {},
   "outputs": [
    {
     "data": {
      "text/plain": [
       "(1200, 2)"
      ]
     },
     "execution_count": 548,
     "metadata": {},
     "output_type": "execute_result"
    }
   ],
   "source": [
    "testdata.shape"
   ]
  },
  {
   "cell_type": "code",
   "execution_count": 549,
   "metadata": {},
   "outputs": [],
   "source": [
    "#cleaning testdata\n",
    "cleaned_test=[]\n",
    "\n",
    "from nltk.corpus import RegexpTokenizer as regextoken\n",
    "\n",
    "\n",
    "#function to tokenize, stopword removal and extract adjectives\n",
    "def cleanme(text):\n",
    "    sent = text.lower()\n",
    "    wrds = word_tokenize(sent)\n",
    "\n",
    "    clwrds = [w for w in wrds if not w in stopwords.words('english')]\n",
    "    ln = len(clwrds)\n",
    "    pos = pd.DataFrame(pos_tag(wrds))\n",
    "    pos = \" \".join(list(pos[pos[1].str.contains(\"JJ\")].iloc[:,0]))\n",
    "    rt = [ln, \" \".join(clwrds), pos]\n",
    "    return(rt)\n",
    "\n",
    "for i in range(0,1200):\n",
    "    text=testdata['review'][i]\n",
    "    a=cleanme(text)\n",
    "    cleaned_test.append(a)\n",
    "    \n"
   ]
  },
  {
   "cell_type": "code",
   "execution_count": 1318,
   "metadata": {},
   "outputs": [
    {
     "data": {
      "text/plain": [
       "[14,\n",
       " 'love movie ! good job director ! appreciate work great people put years .',\n",
       " 'good i great']"
      ]
     },
     "execution_count": 1318,
     "metadata": {},
     "output_type": "execute_result"
    }
   ],
   "source": [
    "cleaned_test[2]\n",
    "\n"
   ]
  },
  {
   "cell_type": "code",
   "execution_count": 551,
   "metadata": {},
   "outputs": [
    {
     "name": "stderr",
     "output_type": "stream",
     "text": [
      "/Users/pavankumar/anaconda3/lib/python3.7/site-packages/ipykernel_launcher.py:9: SettingWithCopyWarning: \n",
      "A value is trying to be set on a copy of a slice from a DataFrame\n",
      "\n",
      "See the caveats in the documentation: http://pandas.pydata.org/pandas-docs/stable/user_guide/indexing.html#returning-a-view-versus-a-copy\n",
      "  if __name__ == '__main__':\n",
      "/Users/pavankumar/anaconda3/lib/python3.7/site-packages/pandas/core/indexing.py:202: SettingWithCopyWarning: \n",
      "A value is trying to be set on a copy of a slice from a DataFrame\n",
      "\n",
      "See the caveats in the documentation: http://pandas.pydata.org/pandas-docs/stable/user_guide/indexing.html#returning-a-view-versus-a-copy\n",
      "  self._setitem_with_indexer(indexer, value)\n"
     ]
    }
   ],
   "source": [
    "#remove punctuation through regular expression and create new column\n",
    "regex=regextoken('\\w+')\n",
    "\n",
    "\n",
    "testdata['review-short']=0\n",
    "\n",
    "for i in range(0,1200):\n",
    "    x=regex.tokenize(cleaned_test[i][1])\n",
    "    testdata['review-short'][i]=x"
   ]
  },
  {
   "cell_type": "code",
   "execution_count": 552,
   "metadata": {},
   "outputs": [
    {
     "data": {
      "text/html": [
       "<div>\n",
       "<style scoped>\n",
       "    .dataframe tbody tr th:only-of-type {\n",
       "        vertical-align: middle;\n",
       "    }\n",
       "\n",
       "    .dataframe tbody tr th {\n",
       "        vertical-align: top;\n",
       "    }\n",
       "\n",
       "    .dataframe thead th {\n",
       "        text-align: right;\n",
       "    }\n",
       "</style>\n",
       "<table border=\"1\" class=\"dataframe\">\n",
       "  <thead>\n",
       "    <tr style=\"text-align: right;\">\n",
       "      <th></th>\n",
       "      <th>ReviewID</th>\n",
       "      <th>review</th>\n",
       "      <th>review-short</th>\n",
       "    </tr>\n",
       "  </thead>\n",
       "  <tbody>\n",
       "    <tr>\n",
       "      <th>0</th>\n",
       "      <td>92876</td>\n",
       "      <td>Was good. Nothing like the original but I beli...</td>\n",
       "      <td>[good, nothing, like, original, believe, point]</td>\n",
       "    </tr>\n",
       "    <tr>\n",
       "      <th>1</th>\n",
       "      <td>92877</td>\n",
       "      <td>I absolutely loved it! A wonderful rendition o...</td>\n",
       "      <td>[absolutely, loved, wonderful, rendition, orig...</td>\n",
       "    </tr>\n",
       "    <tr>\n",
       "      <th>2</th>\n",
       "      <td>92878</td>\n",
       "      <td>I love the movie! Good job director! \\nI appre...</td>\n",
       "      <td>[love, movie, good, job, director, appreciate,...</td>\n",
       "    </tr>\n",
       "    <tr>\n",
       "      <th>3</th>\n",
       "      <td>92879</td>\n",
       "      <td>GREAT MOVIE!!  Same as the original, but the c...</td>\n",
       "      <td>[great, movie, original, cinematography, made,...</td>\n",
       "    </tr>\n",
       "    <tr>\n",
       "      <th>4</th>\n",
       "      <td>92880</td>\n",
       "      <td>Realistic.   Fantastic special effects</td>\n",
       "      <td>[realistic, fantastic, special, effects]</td>\n",
       "    </tr>\n",
       "  </tbody>\n",
       "</table>\n",
       "</div>"
      ],
      "text/plain": [
       "   ReviewID                                             review  \\\n",
       "0     92876  Was good. Nothing like the original but I beli...   \n",
       "1     92877  I absolutely loved it! A wonderful rendition o...   \n",
       "2     92878  I love the movie! Good job director! \\nI appre...   \n",
       "3     92879  GREAT MOVIE!!  Same as the original, but the c...   \n",
       "4     92880             Realistic.   Fantastic special effects   \n",
       "\n",
       "                                        review-short  \n",
       "0    [good, nothing, like, original, believe, point]  \n",
       "1  [absolutely, loved, wonderful, rendition, orig...  \n",
       "2  [love, movie, good, job, director, appreciate,...  \n",
       "3  [great, movie, original, cinematography, made,...  \n",
       "4           [realistic, fantastic, special, effects]  "
      ]
     },
     "execution_count": 552,
     "metadata": {},
     "output_type": "execute_result"
    }
   ],
   "source": [
    "testdata.head()"
   ]
  },
  {
   "cell_type": "code",
   "execution_count": 553,
   "metadata": {},
   "outputs": [],
   "source": [
    "#getting some insights from testdata"
   ]
  },
  {
   "cell_type": "code",
   "execution_count": 554,
   "metadata": {},
   "outputs": [],
   "source": [
    "testdata['polarity']=testdata['review'].apply(lambda x: TextBlob(x).sentiment.polarity)\n",
    "\n",
    "testdata['subjectivity']=testdata['review'].apply(lambda x: TextBlob(x).sentiment.subjectivity)\n",
    "\n",
    "#create new column with vader-sentiment intensity score\n",
    "\n",
    "testdata['vader-score']=testdata['review'].apply(lambda x:SentimentIntensityAnalyzer().polarity_scores(x))\n",
    "\n",
    "testdata['vader-score']=testdata['vader-score'].apply(lambda x:x['compound'])"
   ]
  },
  {
   "cell_type": "code",
   "execution_count": 555,
   "metadata": {},
   "outputs": [],
   "source": [
    "testdata['review-short'] = [' '.join(map(str, l)) for l in testdata['review-short']]"
   ]
  },
  {
   "cell_type": "code",
   "execution_count": 558,
   "metadata": {},
   "outputs": [],
   "source": [
    "testdata['target']=0"
   ]
  },
  {
   "cell_type": "code",
   "execution_count": 804,
   "metadata": {},
   "outputs": [
    {
     "data": {
      "text/html": [
       "<div>\n",
       "<style scoped>\n",
       "    .dataframe tbody tr th:only-of-type {\n",
       "        vertical-align: middle;\n",
       "    }\n",
       "\n",
       "    .dataframe tbody tr th {\n",
       "        vertical-align: top;\n",
       "    }\n",
       "\n",
       "    .dataframe thead th {\n",
       "        text-align: right;\n",
       "    }\n",
       "</style>\n",
       "<table border=\"1\" class=\"dataframe\">\n",
       "  <thead>\n",
       "    <tr style=\"text-align: right;\">\n",
       "      <th></th>\n",
       "      <th>ReviewID</th>\n",
       "      <th>review</th>\n",
       "      <th>review-short</th>\n",
       "      <th>polarity</th>\n",
       "      <th>subjectivity</th>\n",
       "      <th>vader-score</th>\n",
       "      <th>target</th>\n",
       "      <th>len</th>\n",
       "    </tr>\n",
       "  </thead>\n",
       "  <tbody>\n",
       "    <tr>\n",
       "      <th>0</th>\n",
       "      <td>92876</td>\n",
       "      <td>Was good. Nothing like the original but I beli...</td>\n",
       "      <td>good nothing like original believe point</td>\n",
       "      <td>0.537500</td>\n",
       "      <td>0.675000</td>\n",
       "      <td>-0.0222</td>\n",
       "      <td>0</td>\n",
       "      <td>8</td>\n",
       "    </tr>\n",
       "    <tr>\n",
       "      <th>1</th>\n",
       "      <td>92877</td>\n",
       "      <td>I absolutely loved it! A wonderful rendition o...</td>\n",
       "      <td>absolutely loved wonderful rendition original ...</td>\n",
       "      <td>0.712500</td>\n",
       "      <td>0.887500</td>\n",
       "      <td>0.9224</td>\n",
       "      <td>0</td>\n",
       "      <td>15</td>\n",
       "    </tr>\n",
       "    <tr>\n",
       "      <th>2</th>\n",
       "      <td>92878</td>\n",
       "      <td>I love the movie! Good job director! \\nI appre...</td>\n",
       "      <td>love movie good job director appreciate work g...</td>\n",
       "      <td>0.766667</td>\n",
       "      <td>0.650000</td>\n",
       "      <td>0.9380</td>\n",
       "      <td>0</td>\n",
       "      <td>14</td>\n",
       "    </tr>\n",
       "    <tr>\n",
       "      <th>3</th>\n",
       "      <td>92879</td>\n",
       "      <td>GREAT MOVIE!!  Same as the original, but the c...</td>\n",
       "      <td>great movie original cinematography made huge ...</td>\n",
       "      <td>0.500000</td>\n",
       "      <td>0.631250</td>\n",
       "      <td>0.8264</td>\n",
       "      <td>0</td>\n",
       "      <td>12</td>\n",
       "    </tr>\n",
       "    <tr>\n",
       "      <th>4</th>\n",
       "      <td>92880</td>\n",
       "      <td>Realistic.   Fantastic special effects</td>\n",
       "      <td>realistic fantastic special effects</td>\n",
       "      <td>0.307937</td>\n",
       "      <td>0.601587</td>\n",
       "      <td>0.7430</td>\n",
       "      <td>0</td>\n",
       "      <td>5</td>\n",
       "    </tr>\n",
       "  </tbody>\n",
       "</table>\n",
       "</div>"
      ],
      "text/plain": [
       "   ReviewID                                             review  \\\n",
       "0     92876  Was good. Nothing like the original but I beli...   \n",
       "1     92877  I absolutely loved it! A wonderful rendition o...   \n",
       "2     92878  I love the movie! Good job director! \\nI appre...   \n",
       "3     92879  GREAT MOVIE!!  Same as the original, but the c...   \n",
       "4     92880             Realistic.   Fantastic special effects   \n",
       "\n",
       "                                        review-short  polarity  subjectivity  \\\n",
       "0           good nothing like original believe point  0.537500      0.675000   \n",
       "1  absolutely loved wonderful rendition original ...  0.712500      0.887500   \n",
       "2  love movie good job director appreciate work g...  0.766667      0.650000   \n",
       "3  great movie original cinematography made huge ...  0.500000      0.631250   \n",
       "4                realistic fantastic special effects  0.307937      0.601587   \n",
       "\n",
       "   vader-score  target  len  \n",
       "0      -0.0222       0    8  \n",
       "1       0.9224       0   15  \n",
       "2       0.9380       0   14  \n",
       "3       0.8264       0   12  \n",
       "4       0.7430       0    5  "
      ]
     },
     "execution_count": 804,
     "metadata": {},
     "output_type": "execute_result"
    }
   ],
   "source": [
    "testdata.head()"
   ]
  },
  {
   "cell_type": "code",
   "execution_count": 560,
   "metadata": {},
   "outputs": [
    {
     "name": "stderr",
     "output_type": "stream",
     "text": [
      "/Users/pavankumar/anaconda3/lib/python3.7/site-packages/ipykernel_launcher.py:3: SettingWithCopyWarning: \n",
      "A value is trying to be set on a copy of a slice from a DataFrame\n",
      "\n",
      "See the caveats in the documentation: http://pandas.pydata.org/pandas-docs/stable/user_guide/indexing.html#returning-a-view-versus-a-copy\n",
      "  This is separate from the ipykernel package so we can avoid doing imports until\n"
     ]
    }
   ],
   "source": [
    "#create column for review length\n",
    "testdata['len']=0\n",
    "for i in range (len(testdata)):\n",
    "    testdata['len'][i]=cleaned_test[i][0]\n",
    "    "
   ]
  },
  {
   "cell_type": "code",
   "execution_count": 561,
   "metadata": {},
   "outputs": [],
   "source": [
    "#lematize the short reveiws\n",
    "testdata['review-short'] = [lmt.lemmatize(i) for i in testdata['review-short']]"
   ]
  },
  {
   "cell_type": "code",
   "execution_count": 239,
   "metadata": {},
   "outputs": [],
   "source": [
    "#trying out a naive method of prediction considering polarity and vader-score"
   ]
  },
  {
   "cell_type": "code",
   "execution_count": 240,
   "metadata": {},
   "outputs": [
    {
     "name": "stderr",
     "output_type": "stream",
     "text": [
      "/Users/pavankumar/anaconda3/lib/python3.7/site-packages/ipykernel_launcher.py:3: SettingWithCopyWarning: \n",
      "A value is trying to be set on a copy of a slice from a DataFrame\n",
      "\n",
      "See the caveats in the documentation: http://pandas.pydata.org/pandas-docs/stable/user_guide/indexing.html#returning-a-view-versus-a-copy\n",
      "  This is separate from the ipykernel package so we can avoid doing imports until\n",
      "/Users/pavankumar/anaconda3/lib/python3.7/site-packages/ipykernel_launcher.py:5: SettingWithCopyWarning: \n",
      "A value is trying to be set on a copy of a slice from a DataFrame\n",
      "\n",
      "See the caveats in the documentation: http://pandas.pydata.org/pandas-docs/stable/user_guide/indexing.html#returning-a-view-versus-a-copy\n",
      "  \"\"\"\n"
     ]
    }
   ],
   "source": [
    "for i in range (0,1200):\n",
    "    if testdata['polarity'][i]>0 or testdata['vader-score'][i]>0:\n",
    "        testdata['target'][i]=0\n",
    "    else:\n",
    "        testdata['target'][i]=1"
   ]
  },
  {
   "cell_type": "code",
   "execution_count": 241,
   "metadata": {},
   "outputs": [
    {
     "data": {
      "text/plain": [
       "0    1103\n",
       "1      97\n",
       "Name: target, dtype: int64"
      ]
     },
     "execution_count": 241,
     "metadata": {},
     "output_type": "execute_result"
    }
   ],
   "source": [
    "testdata['target'].value_counts()"
   ]
  },
  {
   "cell_type": "code",
   "execution_count": 562,
   "metadata": {},
   "outputs": [],
   "source": [
    "#taking only reveiw-short column for model prediction\n",
    "finaldata=testdata['review-short']"
   ]
  },
  {
   "cell_type": "code",
   "execution_count": 563,
   "metadata": {},
   "outputs": [
    {
     "data": {
      "text/plain": [
       "0             good nothing like original believe point\n",
       "1    absolutely loved wonderful rendition original ...\n",
       "2    love movie good job director appreciate work g...\n",
       "3    great movie original cinematography made huge ...\n",
       "4                  realistic fantastic special effects\n",
       "Name: review-short, dtype: object"
      ]
     },
     "execution_count": 563,
     "metadata": {},
     "output_type": "execute_result"
    }
   ],
   "source": [
    "finaldata.head()"
   ]
  },
  {
   "cell_type": "code",
   "execution_count": 564,
   "metadata": {},
   "outputs": [],
   "source": [
    "#getting testdata vector\n",
    "vectorizer = TfidfVectorizer(ngram_range=(1, 2),use_idf=True)\n",
    "train_vect=vectorizer.fit_transform(X_train)\n",
    "testdatavector=vectorizer.transform(finaldata)"
   ]
  },
  {
   "cell_type": "code",
   "execution_count": 245,
   "metadata": {},
   "outputs": [],
   "source": [
    "#finaldata.to_csv(\"finaltest.csv\")"
   ]
  },
  {
   "cell_type": "code",
   "execution_count": 248,
   "metadata": {},
   "outputs": [
    {
     "data": {
      "text/plain": [
       "(1200, 23790)"
      ]
     },
     "execution_count": 248,
     "metadata": {},
     "output_type": "execute_result"
    }
   ],
   "source": [
    "testdatavector.shape"
   ]
  },
  {
   "cell_type": "code",
   "execution_count": 249,
   "metadata": {},
   "outputs": [],
   "source": [
    "#creating a new column in testdata and set to 0\n",
    "testdata['sentiment']=0"
   ]
  },
  {
   "cell_type": "code",
   "execution_count": 250,
   "metadata": {},
   "outputs": [],
   "source": [
    "#final columns to consider\n",
    "result=testdata[['ReviewID','sentiment']]"
   ]
  },
  {
   "cell_type": "code",
   "execution_count": 617,
   "metadata": {},
   "outputs": [],
   "source": [
    "#assign the predictions\n",
    "result['sentiment']=svc_pred"
   ]
  },
  {
   "cell_type": "code",
   "execution_count": 618,
   "metadata": {},
   "outputs": [
    {
     "data": {
      "text/plain": [
       "0    949\n",
       "1    251\n",
       "Name: sentiment, dtype: int64"
      ]
     },
     "execution_count": 618,
     "metadata": {},
     "output_type": "execute_result"
    }
   ],
   "source": [
    "result['sentiment'].value_counts()"
   ]
  },
  {
   "cell_type": "code",
   "execution_count": 619,
   "metadata": {},
   "outputs": [],
   "source": [
    "#write to csv\n",
    "result.to_csv('new.csv',index=False)"
   ]
  },
  {
   "cell_type": "code",
   "execution_count": null,
   "metadata": {},
   "outputs": [],
   "source": [
    "#just trying another model with the polarity scores"
   ]
  },
  {
   "cell_type": "code",
   "execution_count": 252,
   "metadata": {},
   "outputs": [],
   "source": [
    "simplex=reveiws[['polarity','subjectivity','vader-score']]"
   ]
  },
  {
   "cell_type": "code",
   "execution_count": 253,
   "metadata": {},
   "outputs": [],
   "source": [
    "simpley=reveiws['user_sentiment']"
   ]
  },
  {
   "cell_type": "code",
   "execution_count": 254,
   "metadata": {},
   "outputs": [],
   "source": [
    "simpletrainx,simpletestx,simpletrainy,simpletesty=train_test_split(simplex,simpley)"
   ]
  },
  {
   "cell_type": "code",
   "execution_count": 255,
   "metadata": {},
   "outputs": [],
   "source": [
    "simpletest_f=testdata[['polarity','subjectivity','vader-score']]"
   ]
  },
  {
   "cell_type": "code",
   "execution_count": null,
   "metadata": {},
   "outputs": [],
   "source": [
    "pol=svc_model.predict(simpletest_f)"
   ]
  },
  {
   "cell_type": "markdown",
   "metadata": {},
   "source": [
    "### Model comparison and notes"
   ]
  },
  {
   "cell_type": "raw",
   "metadata": {},
   "source": [
    "\n",
    "* For the data considered and the procedures/techniques/parameters used SVC, random forest and   a simple multi layer neural network and SGD worked best for me giving f1-scores of above       0.60 on the test data.\n",
    "\n",
    "* Naive bayes classifiers work well with count based vactorizer and the data should be           balanced.\n",
    "\n",
    "* There are a multiple types of naive Bayes each maybe works well on specific cases.\n",
    "\n",
    "* Deep learning hyper-parameter tuning requires a lot of knowledge,visualization and             expereince and cannot be just trail and error.\n",
    "\n",
    "* A model based on polarity, vader scores and few other numerical attributes scored 0.58 on     validation data.\n",
    "\n",
    "* Finally SVC was the winner in this competition.\n"
   ]
  },
  {
   "cell_type": "markdown",
   "metadata": {},
   "source": [
    "### clustering of reviews to compare the labels"
   ]
  },
  {
   "cell_type": "code",
   "execution_count": 1286,
   "metadata": {},
   "outputs": [],
   "source": [
    "X_new=reveiws['review-short'].values"
   ]
  },
  {
   "cell_type": "code",
   "execution_count": 1287,
   "metadata": {},
   "outputs": [
    {
     "data": {
      "text/plain": [
       "array(['every dog lover absolutely love movie',\n",
       "       'nothing like original still good',\n",
       "       'pretty much faithful retelling animated classic new look ill certainly take going different direction butchering story nothing original find refreshing many lousy reboots classic films especially late lion king good homage original introduce story whole new generation fans',\n",
       "       ..., 'like original awesome humor best way watch 3d it fabulous',\n",
       "       'realization animals great',\n",
       "       'huge lion king fan posters mugs 1994 vhs watch 2 times tell good really like somehow live animals ca n t compare anime version n t spirit emotions animated version old songs better like stuff better movie go watch'],\n",
       "      dtype=object)"
      ]
     },
     "execution_count": 1287,
     "metadata": {},
     "output_type": "execute_result"
    }
   ],
   "source": [
    "X_new"
   ]
  },
  {
   "cell_type": "code",
   "execution_count": 1288,
   "metadata": {},
   "outputs": [],
   "source": [
    "vectorizer_new = TfidfVectorizer(stop_words='english')\n",
    "X_vect = vectorizer.fit_transform(X_new)"
   ]
  },
  {
   "cell_type": "code",
   "execution_count": 1289,
   "metadata": {},
   "outputs": [],
   "source": [
    "from sklearn.cluster import KMeans\n",
    "from sklearn.feature_extraction.text import TfidfVectorizer"
   ]
  },
  {
   "cell_type": "code",
   "execution_count": 1290,
   "metadata": {},
   "outputs": [],
   "source": [
    "true_k = 2\n",
    "model = KMeans(n_clusters=true_k, init='k-means++', max_iter=100, n_init=1)\n",
    "a=model.fit(X_vect)"
   ]
  },
  {
   "cell_type": "code",
   "execution_count": 1013,
   "metadata": {},
   "outputs": [],
   "source": [
    "order_centroids = model.cluster_centers_.argsort()[:, ::-1]\n",
    "terms = vectorizer.get_feature_names()"
   ]
  },
  {
   "cell_type": "code",
   "execution_count": 1291,
   "metadata": {},
   "outputs": [
    {
     "data": {
      "text/plain": [
       "array([0, 0, 0, ..., 0, 0, 0], dtype=int32)"
      ]
     },
     "execution_count": 1291,
     "metadata": {},
     "output_type": "execute_result"
    }
   ],
   "source": [
    "a.labels_"
   ]
  },
  {
   "cell_type": "code",
   "execution_count": 1292,
   "metadata": {},
   "outputs": [],
   "source": [
    "reveiws['cluster_label']=a.labels_"
   ]
  },
  {
   "cell_type": "code",
   "execution_count": 1293,
   "metadata": {},
   "outputs": [
    {
     "data": {
      "text/plain": [
       "0    2625\n",
       "1     375\n",
       "Name: cluster_label, dtype: int64"
      ]
     },
     "execution_count": 1293,
     "metadata": {},
     "output_type": "execute_result"
    }
   ],
   "source": [
    "reveiws['cluster_label'].value_counts()"
   ]
  },
  {
   "cell_type": "code",
   "execution_count": 1294,
   "metadata": {},
   "outputs": [],
   "source": [
    "cluster_table=reveiws[['review','review-short','cluster_label']]"
   ]
  },
  {
   "cell_type": "code",
   "execution_count": 1295,
   "metadata": {},
   "outputs": [],
   "source": [
    "reveiws.to_csv(\"clustering.csv\",index=False)"
   ]
  },
  {
   "cell_type": "code",
   "execution_count": 1296,
   "metadata": {},
   "outputs": [
    {
     "name": "stderr",
     "output_type": "stream",
     "text": [
      "/Users/pavankumar/anaconda3/lib/python3.7/site-packages/ipykernel_launcher.py:1: SettingWithCopyWarning: \n",
      "A value is trying to be set on a copy of a slice from a DataFrame.\n",
      "Try using .loc[row_indexer,col_indexer] = value instead\n",
      "\n",
      "See the caveats in the documentation: http://pandas.pydata.org/pandas-docs/stable/user_guide/indexing.html#returning-a-view-versus-a-copy\n",
      "  \"\"\"Entry point for launching an IPython kernel.\n"
     ]
    }
   ],
   "source": [
    "cluster_table['sentiment']=reveiws['user_sentiment']"
   ]
  },
  {
   "cell_type": "code",
   "execution_count": 1020,
   "metadata": {},
   "outputs": [
    {
     "data": {
      "text/html": [
       "<div>\n",
       "<style scoped>\n",
       "    .dataframe tbody tr th:only-of-type {\n",
       "        vertical-align: middle;\n",
       "    }\n",
       "\n",
       "    .dataframe tbody tr th {\n",
       "        vertical-align: top;\n",
       "    }\n",
       "\n",
       "    .dataframe thead th {\n",
       "        text-align: right;\n",
       "    }\n",
       "</style>\n",
       "<table border=\"1\" class=\"dataframe\">\n",
       "  <thead>\n",
       "    <tr style=\"text-align: right;\">\n",
       "      <th></th>\n",
       "      <th>review</th>\n",
       "      <th>review-short</th>\n",
       "      <th>cluster_label</th>\n",
       "      <th>sentiment</th>\n",
       "    </tr>\n",
       "  </thead>\n",
       "  <tbody>\n",
       "    <tr>\n",
       "      <th>0</th>\n",
       "      <td>Every dog lover will absolutely love this movie</td>\n",
       "      <td>every dog lover absolutely love movie</td>\n",
       "      <td>0</td>\n",
       "      <td>0</td>\n",
       "    </tr>\n",
       "    <tr>\n",
       "      <th>1</th>\n",
       "      <td>Nothing like the original but still good</td>\n",
       "      <td>nothing like original still good</td>\n",
       "      <td>0</td>\n",
       "      <td>0</td>\n",
       "    </tr>\n",
       "    <tr>\n",
       "      <th>2</th>\n",
       "      <td>Pretty much a faithful retelling on the animat...</td>\n",
       "      <td>pretty much faithful retelling animated classi...</td>\n",
       "      <td>0</td>\n",
       "      <td>0</td>\n",
       "    </tr>\n",
       "    <tr>\n",
       "      <th>3</th>\n",
       "      <td>The original story line was there and the movi...</td>\n",
       "      <td>original story line movie gave feels needed lo...</td>\n",
       "      <td>0</td>\n",
       "      <td>0</td>\n",
       "    </tr>\n",
       "    <tr>\n",
       "      <th>4</th>\n",
       "      <td>there is nothing bad about the movie, I just f...</td>\n",
       "      <td>nothing bad movie felt enjoyed original</td>\n",
       "      <td>0</td>\n",
       "      <td>0</td>\n",
       "    </tr>\n",
       "  </tbody>\n",
       "</table>\n",
       "</div>"
      ],
      "text/plain": [
       "                                              review  \\\n",
       "0    Every dog lover will absolutely love this movie   \n",
       "1           Nothing like the original but still good   \n",
       "2  Pretty much a faithful retelling on the animat...   \n",
       "3  The original story line was there and the movi...   \n",
       "4  there is nothing bad about the movie, I just f...   \n",
       "\n",
       "                                        review-short  cluster_label  sentiment  \n",
       "0              every dog lover absolutely love movie              0          0  \n",
       "1                   nothing like original still good              0          0  \n",
       "2  pretty much faithful retelling animated classi...              0          0  \n",
       "3  original story line movie gave feels needed lo...              0          0  \n",
       "4            nothing bad movie felt enjoyed original              0          0  "
      ]
     },
     "execution_count": 1020,
     "metadata": {},
     "output_type": "execute_result"
    }
   ],
   "source": [
    "cluster_table.head()"
   ]
  },
  {
   "cell_type": "code",
   "execution_count": 1021,
   "metadata": {},
   "outputs": [
    {
     "data": {
      "text/plain": [
       "0    2170\n",
       "1     830\n",
       "Name: sentiment, dtype: int64"
      ]
     },
     "execution_count": 1021,
     "metadata": {},
     "output_type": "execute_result"
    }
   ],
   "source": [
    "#counts with initial condition of rating >3 as positive\n",
    "cluster_table['sentiment'].value_counts()"
   ]
  },
  {
   "cell_type": "code",
   "execution_count": 1022,
   "metadata": {},
   "outputs": [
    {
     "data": {
      "text/plain": [
       "0    2625\n",
       "1     375\n",
       "Name: cluster_label, dtype: int64"
      ]
     },
     "execution_count": 1022,
     "metadata": {},
     "output_type": "execute_result"
    }
   ],
   "source": [
    "#counts as per the kmeans clustering\n",
    "cluster_table['cluster_label'].value_counts()"
   ]
  },
  {
   "cell_type": "raw",
   "metadata": {},
   "source": [
    "clustering based on the sentiment measures from textblob"
   ]
  },
  {
   "cell_type": "code",
   "execution_count": 1232,
   "metadata": {},
   "outputs": [],
   "source": [
    "scores=reveiws[['polarity','subjectivity','vader-score']]"
   ]
  },
  {
   "cell_type": "code",
   "execution_count": 1305,
   "metadata": {},
   "outputs": [],
   "source": [
    "true_k = 2\n",
    "model1 = KMeans(n_clusters=true_k, init='k-means++', max_iter=100, n_init=1)\n",
    "scores_model=model1.fit(scores)"
   ]
  },
  {
   "cell_type": "code",
   "execution_count": 1306,
   "metadata": {
    "scrolled": true
   },
   "outputs": [
    {
     "name": "stderr",
     "output_type": "stream",
     "text": [
      "/Users/pavankumar/anaconda3/lib/python3.7/site-packages/ipykernel_launcher.py:1: SettingWithCopyWarning: \n",
      "A value is trying to be set on a copy of a slice from a DataFrame.\n",
      "Try using .loc[row_indexer,col_indexer] = value instead\n",
      "\n",
      "See the caveats in the documentation: http://pandas.pydata.org/pandas-docs/stable/user_guide/indexing.html#returning-a-view-versus-a-copy\n",
      "  \"\"\"Entry point for launching an IPython kernel.\n"
     ]
    }
   ],
   "source": [
    "cluster_table['scores_cluster']=scores_model.labels_"
   ]
  },
  {
   "cell_type": "code",
   "execution_count": 1307,
   "metadata": {},
   "outputs": [],
   "source": [
    "reveiws['scores_cluster']=scores_model.labels_"
   ]
  },
  {
   "cell_type": "code",
   "execution_count": 1308,
   "metadata": {},
   "outputs": [],
   "source": [
    "cluster_table.to_csv(\"cluster_compare.csv\",index=False)"
   ]
  },
  {
   "cell_type": "code",
   "execution_count": 1309,
   "metadata": {},
   "outputs": [
    {
     "data": {
      "text/plain": [
       "0    2322\n",
       "1     678\n",
       "Name: scores_cluster, dtype: int64"
      ]
     },
     "execution_count": 1309,
     "metadata": {},
     "output_type": "execute_result"
    }
   ],
   "source": [
    "cluster_table['scores_cluster'].value_counts()"
   ]
  },
  {
   "cell_type": "code",
   "execution_count": 1278,
   "metadata": {},
   "outputs": [],
   "source": [
    "from sklearn.metrics import silhouette_score"
   ]
  },
  {
   "cell_type": "code",
   "execution_count": 1279,
   "metadata": {},
   "outputs": [],
   "source": [
    "from sklearn.metrics import pairwise_distances"
   ]
  },
  {
   "cell_type": "code",
   "execution_count": 1302,
   "metadata": {},
   "outputs": [],
   "source": [
    "pair_dist=pairwise_distances(X_vect)"
   ]
  },
  {
   "cell_type": "code",
   "execution_count": 1310,
   "metadata": {},
   "outputs": [],
   "source": [
    "pairdist_score=pairwise_distances(scores)"
   ]
  },
  {
   "cell_type": "code",
   "execution_count": 1311,
   "metadata": {},
   "outputs": [
    {
     "data": {
      "text/plain": [
       "0.5503708989106222"
      ]
     },
     "execution_count": 1311,
     "metadata": {},
     "output_type": "execute_result"
    }
   ],
   "source": [
    "#for sentiment score based clustering\n",
    "silhouette_score(scores,scores_model.labels_)"
   ]
  },
  {
   "cell_type": "code",
   "execution_count": 1312,
   "metadata": {},
   "outputs": [
    {
     "data": {
      "text/plain": [
       "0.18887064884016838"
      ]
     },
     "execution_count": 1312,
     "metadata": {},
     "output_type": "execute_result"
    }
   ],
   "source": [
    "#for reveiw based clustering\n",
    "silhouette_score(pair_dist,a.labels_)"
   ]
  },
  {
   "cell_type": "code",
   "execution_count": null,
   "metadata": {},
   "outputs": [],
   "source": [
    "#clustering is better when sentiment scores are considered instead of tf-idf score"
   ]
  },
  {
   "cell_type": "markdown",
   "metadata": {},
   "source": [
    "#### Comparison and analysis"
   ]
  },
  {
   "cell_type": "raw",
   "metadata": {},
   "source": [
    "* By putting filters in excel and checking, we observe that the clustering algorithm has         sorted 2625 reveiws into cluster:0 out of which 1800 are infact 0 as per our assumption and   allocation initially.\n",
    "\n",
    "* Out of 375 in cluster:1 only 4 have negetive sentiment as per our assignment\n",
    "\n",
    "* so a total of 1196 reveiws have been misclassified taking our assignment as reference.\n",
    "\n",
    "* coming to clustering based on sentiment scores out of 2322 positively classified reveiws,\n",
    "  1887 are indeed positive according to the initial labeling\n",
    "  \n",
    "* out of 679 negetives,396 are matching. so a total of 718 are misclassified.\n",
    "\n",
    "* considering rating >3 as positive is very naive and does not tell anything about the           underlying emotions or words used in the review.\n",
    "\n",
    "* Here in this case sentiment scores outperforms clustering in classification. but in general   it has a disadvantage of getting easily carried away by the words.\n",
    "\n",
    "* as i have pointed out earlier sarcasm, double negetives, context and neutral reveiws with     both positives and negetives in them are always a challenge.\n",
    "\n"
   ]
  },
  {
   "cell_type": "markdown",
   "metadata": {},
   "source": [
    "### More to explore "
   ]
  },
  {
   "cell_type": "raw",
   "metadata": {},
   "source": [
    "\n",
    "* multiple features for model building\n",
    "* multiple types of naive bayes' classifiers\n",
    "* maximum entropy classifier\n",
    "* hyper parameter tuning through keras hyperas\n",
    "* architectural combinations- attention based\n",
    "* sarcasm detection\n"
   ]
  },
  {
   "cell_type": "markdown",
   "metadata": {},
   "source": [
    "# Thank you"
   ]
  },
  {
   "cell_type": "code",
   "execution_count": null,
   "metadata": {},
   "outputs": [],
   "source": []
  }
 ],
 "metadata": {
  "kernelspec": {
   "display_name": "Python 3",
   "language": "python",
   "name": "python3"
  },
  "language_info": {
   "codemirror_mode": {
    "name": "ipython",
    "version": 3
   },
   "file_extension": ".py",
   "mimetype": "text/x-python",
   "name": "python",
   "nbconvert_exporter": "python",
   "pygments_lexer": "ipython3",
   "version": "3.7.1"
  }
 },
 "nbformat": 4,
 "nbformat_minor": 4
}
